{
 "cells": [
  {
   "cell_type": "code",
   "execution_count": null,
   "id": "76b6aaa9",
   "metadata": {},
   "outputs": [
    {
     "data": {
      "text/html": [
       "<script>Jupyter.notebook.kernel.restart()</script>"
      ]
     },
     "metadata": {},
     "output_type": "display_data"
    }
   ],
   "source": [
    "from IPython.core.display import display_html\n",
    "display_html(\"<script>Jupyter.notebook.kernel.restart()</script>\",raw=True)"
   ]
  },
  {
   "cell_type": "code",
   "execution_count": 1,
   "id": "19093beb",
   "metadata": {},
   "outputs": [
    {
     "data": {
      "text/html": [
       "<style>.container { width:100% !important; }</style>"
      ],
      "text/plain": [
       "<IPython.core.display.HTML object>"
      ]
     },
     "metadata": {},
     "output_type": "display_data"
    },
    {
     "data": {
      "text/html": [
       "<style>.container { width:100% !important; }</style>"
      ],
      "text/plain": [
       "<IPython.core.display.HTML object>"
      ]
     },
     "metadata": {},
     "output_type": "display_data"
    }
   ],
   "source": [
    "from sys import path; path.insert(1,\"../src\");\n",
    "import fubar; from importlib import reload; reload(fubar);"
   ]
  },
  {
   "cell_type": "markdown",
   "id": "616b0550",
   "metadata": {},
   "source": [
    "***\n",
    "< [GMIT Data Analytics](https://web.archive.org/web/20201029063153/https://www.gmit.ie/computer-science-and-applied-physics/higher-diploma-science-computing-data-analytics-ict) | [Home](https://github.com/SeanOhAileasa) | [README](https://github.com/SeanOhAileasa/drp-app-server/blob/main/README.md) >\n",
    "\n",
    "[![GMIT](https://github.com/SeanOhAileasa/SeanOhAileasa/blob/master/rc/gmit.png?raw=true)](https://web.archive.org/web/20201029063153/https://www.gmit.ie/computer-science-and-applied-physics/higher-diploma-science-computing-data-analytics-ict)\n",
    "\n",
    "## Data Representation - Course Material 2021\n",
    "### Topic: [App-server (``flask``)](https://nbviewer.jupyter.org/github/SeanOhAileasa/drp-app-server/blob/main/drp-app-server.ipynb)\n",
    "\n",
    "***"
   ]
  },
  {
   "cell_type": "markdown",
   "id": "220c0602",
   "metadata": {},
   "source": [
    "Course material for the ``Data Representation`` module (5 Credits) of the ``Higher Diploma in Science in Computing (Data Analytics) (H.Dip)`` programme (75 Credits) at **Galway-Mayo Institute of Technology (GMIT)**."
   ]
  },
  {
   "cell_type": "markdown",
   "id": "85ba523b",
   "metadata": {},
   "source": [
    "- referenced external link - [Data Representation](https://nbviewer.jupyter.org/github/SeanOhAileasa/drp-data-representation/blob/main/drp-data-representation.ipynb)"
   ]
  },
  {
   "cell_type": "code",
   "execution_count": 2,
   "id": "c75655d3",
   "metadata": {},
   "outputs": [],
   "source": [
    "from sys import path; path.insert(1,\"../src\")\n",
    "from fubar import fFile"
   ]
  },
  {
   "cell_type": "code",
   "execution_count": 3,
   "id": "464c029f",
   "metadata": {},
   "outputs": [
    {
     "name": "stdout",
     "output_type": "stream",
     "text": [
      "# repository ./SeanOhAileasa\r\n",
      "def fFile(nParPath):\r\n",
      "    \"\"\"Start a file with its associated application.\r\n",
      "\r\n",
      "Input: nParPath\r\n",
      "Process: (os.path.realpath; os.startfile)\r\n",
      "Output: file opened with associated application\r\n",
      "\"\"\"\r\n",
      "    from os import path,startfile\r\n",
      "    return startfile(path.realpath(nParPath))\r\n",
      "# --- END ---\r\n"
     ]
    }
   ],
   "source": [
    "%%script bash\n",
    "grep -1 \"def fFile\" ../src/fubar.py -A 9"
   ]
  },
  {
   "cell_type": "markdown",
   "id": "e1449819",
   "metadata": {},
   "source": [
    "<a id=\"top\"></a>\n",
    "***\n",
    "## Table of Contents\n",
    "***\n",
    "\n",
    "## [Abstract](#abstract)\n",
    "\n",
    "## [Introduction](#introduction)\n",
    "\n",
    "* [Design](#introductionDesignAPI) <br/><br/>\n",
    "    * [Implementation](#introductionDesignAPISkeleton) <br/><br/>\n",
    "        * [``venv``](#introductionDesignAPISkeletonvenv) <br/><br/>\n",
    "            * [``.gitignore``](#introductionDesignAPISkeletonvenvgitignore) <br/><br/>\n",
    "        * [``app``](#introductionDesignAPISkeletonapp) <br/><br/>\n",
    "            * [Interface](#introductionDesignAPISkeletonappInterface) <br/><br/>\n",
    "                * [``GET``](#introductionDesignAPISkeletonappInterfaceGET)&nbsp;&nbsp;|&nbsp;&nbsp;Get all&nbsp;&nbsp;|&nbsp;&nbsp;Find by id <br/><br/>\n",
    "                * [``POST``](#introductionDesignAPISkeletonappInterfacePOST)&nbsp;&nbsp;|&nbsp;&nbsp;Create<br/><br/>\n",
    "                * [``PUT``](#introductionDesignAPISkeletonappInterfacePUT)&nbsp;&nbsp;|&nbsp;&nbsp;Update <br/><br/>\n",
    "                * [``DELETE``](#introductionDesignAPISkeletonappInterfaceDELETE)&nbsp;&nbsp;|&nbsp;&nbsp;Delete\n",
    "                \n",
    "## [Solution](#solution)\n",
    "\n",
    "- &#x1F6A7;\n",
    "\n",
    "## [Conclusion](#conclusion)\n",
    "\n",
    "- &#x1F6A7;"
   ]
  },
  {
   "cell_type": "markdown",
   "id": "bc989e6f",
   "metadata": {},
   "source": [
    "***\n",
    "## END"
   ]
  },
  {
   "cell_type": "markdown",
   "id": "0c88ab4a",
   "metadata": {},
   "source": [
    "< [Table of Contents](#top) | [Introduction](#introduction) | [Solution](#solution) | [Conclusion](#conclusion) | [References](#references) >\n",
    "<a id=\"abstract\"></a>\n",
    "***\n",
    "## Abstract\n",
    "***"
   ]
  },
  {
   "cell_type": "code",
   "execution_count": null,
   "id": "619e9d65",
   "metadata": {},
   "outputs": [],
   "source": [
    "# fFile(\"./hide/DR8.3 Implementing REST server - 12-11-2020.mp4\")"
   ]
  },
  {
   "cell_type": "markdown",
   "id": "4d16ed22",
   "metadata": {},
   "source": [
    "- implementing a ``RESTful`` server using ``flask`` [1]"
   ]
  },
  {
   "cell_type": "markdown",
   "id": "e471d217",
   "metadata": {},
   "source": [
    "- requirements include an app-server that has a ``RESTful`` interface to provide CRUD operations for one database table [1]"
   ]
  },
  {
   "cell_type": "markdown",
   "id": "fbac35e6",
   "metadata": {},
   "source": [
    "- the entity to perform CRUD operations on will be ``Books`` having: i) an ``id`` (integer) which the database will auto-increment and will be the ``KEY`` (unique identifier) to find one of the entities; ii) a ``title`` (string); iii) an ``author`` (string); iv) a ``price`` (integer) [1]"
   ]
  },
  {
   "cell_type": "markdown",
   "id": "aa8e8f27",
   "metadata": {},
   "source": [
    "- books could have an ISDN number as a unique identifier but choosing an ``id`` in order to make as general as possible [1]"
   ]
  },
  {
   "cell_type": "markdown",
   "id": "3fa461fc",
   "metadata": {},
   "source": [
    "***\n",
    "## END"
   ]
  },
  {
   "cell_type": "markdown",
   "id": "d319e57d",
   "metadata": {},
   "source": [
    "< [Table of Contents](#top) | [Abstract](#abstract) | [Solution](#solution) | [Conclusion](#conclusion) | [References](#references) >\n",
    "<a id=\"introduction\"></a>\n",
    "***\n",
    "## Introduction\n",
    "***"
   ]
  },
  {
   "cell_type": "markdown",
   "id": "e1e73e9e",
   "metadata": {},
   "source": [
    "- need to design the API (no code) [1]"
   ]
  },
  {
   "cell_type": "markdown",
   "id": "6e7e3f1e",
   "metadata": {},
   "source": [
    "< [Table of Contents](#top) | [References](#references) >\n",
    "<a id=\"introductionDesignAPI\"></a>\n",
    "***\n",
    "### Design\n",
    "***"
   ]
  },
  {
   "cell_type": "markdown",
   "id": "96a4a312",
   "metadata": {},
   "source": [
    "- creating a CRUD interface (``C``reate ``R``ead ``U``pdate ``D``elete) - the API should:\n",
    "\n",
    "i) Get all books (HTTP request with the method ``GET`` - URL ``/books`` - no parameters - return a ``json`` array with book objects);\n",
    "\n",
    "ii) Get a book by id (``GET`` - URL ``/books/id`` - no parameter given book ``id`` is in the URL - return an object with ``id``);\n",
    "\n",
    "iii) Create a book (``POST`` - URL ``/books`` - parameter sent will be a ``json`` object with the data - return the book object with ``id``);\n",
    "\n",
    "iv) Update a book (``PUT`` - URL ``/books/id`` with the ``id`` of the book to update - parameter is the attribute ``name`` and the new ``value`` - return the full book ``json`` object);\n",
    "\n",
    "v) Delete a book (``DELETE`` - URL ``/books/id`` with the ``id`` of the book to delete - no parameter given book ``id`` is in the URL - return ``\"done\":true``)"
   ]
  },
  {
   "cell_type": "markdown",
   "id": "382aaef4",
   "metadata": {},
   "source": [
    "- other applications may require other functionality in the interface therefore can always add more functionality later on (reduce all prices by 10% or find books by author) [1]"
   ]
  },
  {
   "cell_type": "markdown",
   "id": "6ee0a403",
   "metadata": {},
   "source": [
    "- the ``RESTful`` interface proposed has: i) two URLs that are the same ``/books`` but using different methods (``GET`` and ``POST``) and; ii) three URLs that are the same ``books/id`` but again each using different methods (``GET`` and ``PUT`` and ``DELETE``) [1]"
   ]
  },
  {
   "cell_type": "markdown",
   "id": "97da6387",
   "metadata": {},
   "source": [
    "![RESTful API for Books](https://github.com/SeanOhAileasa/SeanOhAileasa/blob/master/rc/drp/rest/booksProposed.png?raw=true)\n",
    "\n",
    "***(Image) A. Beatty, \"DR8.3 Implementing REST server,\" GMIT, November 2020.***"
   ]
  },
  {
   "cell_type": "markdown",
   "id": "876ee137",
   "metadata": {},
   "source": [
    "< [Table of Contents](#top) | [References](#references) >\n",
    "<a id=\"introductionDesignAPISkeleton\"></a>\n",
    "***\n",
    "###### Implementation\n",
    "***"
   ]
  },
  {
   "cell_type": "markdown",
   "id": "7b235161",
   "metadata": {},
   "source": [
    "- designed the ``RESTful`` API (now starting to code) [1]"
   ]
  },
  {
   "cell_type": "markdown",
   "id": "7441e84c",
   "metadata": {},
   "source": [
    "- creating the ``flask`` app-server with just skeleton functions that do not do anything yet except confirm function calls [1]"
   ]
  },
  {
   "cell_type": "markdown",
   "id": "67dae452",
   "metadata": {},
   "source": [
    "- implementing the ``REST`` API without actually doing the individual implementations for each of the different calls (adding a function and the URL maps for each of the functions required in the interface and testing using curl) [1]"
   ]
  },
  {
   "cell_type": "markdown",
   "id": "1a4eb54c",
   "metadata": {},
   "source": [
    "< [Table of Contents](#top) | [References](#references) >\n",
    "<a id=\"introductionDesignAPISkeletonvenv\"></a>\n",
    "***\n",
    "###### ``venv``\n",
    "***"
   ]
  },
  {
   "cell_type": "markdown",
   "id": "f7491c2b",
   "metadata": {},
   "source": [
    "- create a virtual environment [1]"
   ]
  },
  {
   "cell_type": "code",
   "execution_count": 1,
   "id": "69222ae5",
   "metadata": {},
   "outputs": [],
   "source": [
    "%%script bash\n",
    "python -m venv venv"
   ]
  },
  {
   "cell_type": "markdown",
   "id": "704ff292",
   "metadata": {},
   "source": [
    "- activate ``venv`` [1]\n",
    "\n",
    "```\n",
    "./venv/Scripts/activate.bat\n",
    "```"
   ]
  },
  {
   "cell_type": "markdown",
   "id": "d911058a",
   "metadata": {},
   "source": [
    "- see packages (nothing) [1]\n",
    "\n",
    "```\n",
    "pip freeze\n",
    "```"
   ]
  },
  {
   "cell_type": "markdown",
   "id": "f88b1c9f",
   "metadata": {},
   "source": [
    "- install ``flask`` [1]\n",
    "\n",
    "```\n",
    "pip install flask\n",
    "```"
   ]
  },
  {
   "cell_type": "markdown",
   "id": "3bb3aaf0",
   "metadata": {},
   "source": [
    "- once installed put into ``requirements.txt`` (if needed for something else) [1]\n",
    "\n",
    "```\n",
    "pip freeze > ./rc/server/requirements.txt\n",
    "```"
   ]
  },
  {
   "cell_type": "markdown",
   "id": "8e3d3e1d",
   "metadata": {},
   "source": [
    "- ``venv`` now set up [1]"
   ]
  },
  {
   "cell_type": "code",
   "execution_count": 2,
   "id": "dd5d5424",
   "metadata": {},
   "outputs": [
    {
     "name": "stdout",
     "output_type": "stream",
     "text": [
      "click==8.0.1\r\n",
      "colorama==0.4.4\r\n",
      "Flask==2.0.1\r\n",
      "itsdangerous==2.0.1\r\n",
      "Jinja2==3.0.1\r\n",
      "MarkupSafe==2.0.1\r\n",
      "Werkzeug==2.0.1\r\n"
     ]
    }
   ],
   "source": [
    "%%script bash\n",
    "cat ./rc/server/requirements.txt"
   ]
  },
  {
   "cell_type": "code",
   "execution_count": 3,
   "id": "6b5b4adf",
   "metadata": {},
   "outputs": [],
   "source": [
    "exit()"
   ]
  },
  {
   "cell_type": "markdown",
   "id": "8f7062c4",
   "metadata": {},
   "source": [
    "< [Table of Contents](#top) | [References](#references) >\n",
    "<a id=\"introductionDesignAPISkeletonvenvgitignore\"></a>\n",
    "***\n",
    "###### ``.gitignore``\n",
    "***"
   ]
  },
  {
   "cell_type": "code",
   "execution_count": 1,
   "id": "e8c0b76d",
   "metadata": {},
   "outputs": [
    {
     "name": "stdout",
     "output_type": "stream",
     "text": [
      "# Application specific files\r\n",
      "venv\r\n"
     ]
    }
   ],
   "source": [
    "%%script bash\n",
    "grep \"# Application specific files\" ./.gitignore -A 1"
   ]
  },
  {
   "cell_type": "code",
   "execution_count": 2,
   "id": "47d86d79",
   "metadata": {},
   "outputs": [],
   "source": [
    "exit()"
   ]
  },
  {
   "cell_type": "markdown",
   "id": "9f3d1ed1",
   "metadata": {},
   "source": [
    "< [Table of Contents](#top) | [References](#references) >\n",
    "<a id=\"introductionDesignAPISkeletonapp\"></a>\n",
    "***\n",
    "###### ``app``\n",
    "***"
   ]
  },
  {
   "cell_type": "code",
   "execution_count": 1,
   "id": "c213466e",
   "metadata": {},
   "outputs": [
    {
     "name": "stdout",
     "output_type": "stream",
     "text": [
      "from flask import Flask\r\n",
      "app=Flask(import_name=__name__,static_url_path=\"\",static_folder=\"../../rc/static/\")\r\n",
      "# repository ./drp-app-server\r\n",
      "@app.route(rule=\"/\")\r\n",
      "def fIndex():\r\n",
      "    \"\"\"URL map for \"/\".\r\n",
      "\r\n",
      "Input: \r\n",
      "Process: \r\n",
      "Output: string\r\n",
      "\"\"\"    \r\n",
      "    return \"Flask App\"\r\n",
      "# --- END ---\r\n"
     ]
    }
   ],
   "source": [
    "%%script bash\n",
    "grep -1 \"app=Flask\" ./rc/server/rest.py -A 11"
   ]
  },
  {
   "cell_type": "markdown",
   "id": "0b1c1225",
   "metadata": {},
   "source": [
    "- debugger is active [1]"
   ]
  },
  {
   "cell_type": "code",
   "execution_count": 2,
   "id": "c25aa303",
   "metadata": {},
   "outputs": [
    {
     "name": "stdout",
     "output_type": "stream",
     "text": [
      "if __name__==\"__main__\":\r\n",
      "    app.run(debug=True)\r\n"
     ]
    }
   ],
   "source": [
    "%%script bash\n",
    "grep \"__name__==\\\"__main__\\\"\" ./rc/server/rest.py -A 1"
   ]
  },
  {
   "cell_type": "code",
   "execution_count": 3,
   "id": "a1d8ed33",
   "metadata": {},
   "outputs": [],
   "source": [
    "%%script bash\n",
    "start http://127.0.0.1:5000/ # verify server running"
   ]
  },
  {
   "cell_type": "code",
   "execution_count": 4,
   "id": "8a420e47",
   "metadata": {},
   "outputs": [
    {
     "name": "stdout",
     "output_type": "stream",
     "text": [
      "Flask App"
     ]
    },
    {
     "name": "stderr",
     "output_type": "stream",
     "text": [
      "  % Total    % Received % Xferd  Average Speed   Time    Time     Time  Current\r\n",
      "                                 Dload  Upload   Total   Spent    Left  Speed\r\n",
      "\r",
      "  0     0    0     0    0     0      0      0 --:--:-- --:--:-- --:--:--     0\r",
      "100     9  100     9    0     0   4500      0 --:--:-- --:--:-- --:--:--  4500\r\n"
     ]
    }
   ],
   "source": [
    "%%script bash\n",
    "curl http://127.0.0.1:5000/"
   ]
  },
  {
   "cell_type": "code",
   "execution_count": 5,
   "id": "b2ead3af",
   "metadata": {},
   "outputs": [],
   "source": [
    "exit()"
   ]
  },
  {
   "cell_type": "markdown",
   "id": "eb7b8cbb",
   "metadata": {},
   "source": [
    "< [Table of Contents](#top) | [References](#references) >\n",
    "<a id=\"introductionDesignAPISkeletonappInterface\"></a>\n",
    "***\n",
    "###### Interface\n",
    "***"
   ]
  },
  {
   "cell_type": "markdown",
   "id": "d8c88c32",
   "metadata": {},
   "source": [
    "- implement proposed interface actions: \n",
    "\n",
    "i) Get all (``GET`` - URL ``/books``);\n",
    "\n",
    "ii) Find by id (``GET`` - URL ``/books/id``);\n",
    "\n",
    "iii) Create (``POST`` - URL ``/books``);\n",
    "\n",
    "iv) Update (``PUT`` - URL ``/books/id``);\n",
    "\n",
    "v) Delete (``DELETE`` - URL ``/books/id``)"
   ]
  },
  {
   "cell_type": "markdown",
   "id": "d3355bb5",
   "metadata": {},
   "source": [
    "< [Table of Contents](#top) | [References](#references) >\n",
    "<a id=\"introductionDesignAPISkeletonappInterfaceGET\"></a>\n",
    "***\n",
    "###### ``GET``\n",
    "***"
   ]
  },
  {
   "cell_type": "markdown",
   "id": "65efc67f",
   "metadata": {},
   "source": [
    "- Get all (URL ``/books``) [1]"
   ]
  },
  {
   "cell_type": "code",
   "execution_count": 1,
   "id": "927f230b",
   "metadata": {},
   "outputs": [
    {
     "name": "stdout",
     "output_type": "stream",
     "text": [
      "@app.route(rule=\"/books\")\r\n",
      "def fGetAll():\r\n",
      "    \"\"\"URL map for \"/books\" with method \"GET\".\r\n",
      "\r\n",
      "Input: \r\n",
      "Process: \r\n",
      "Output:\r\n",
      "\"\"\"    \r\n",
      "    return \"ACTION: Get all\"\r\n",
      "# --- END ---\r\n"
     ]
    }
   ],
   "source": [
    "%%script bash\n",
    "grep -1 \"fGetAll\" ./rc/server/rest.py -A 8"
   ]
  },
  {
   "cell_type": "code",
   "execution_count": 2,
   "id": "e878ce8b",
   "metadata": {},
   "outputs": [],
   "source": [
    "%%script bash\n",
    "start http://127.0.0.1:5000/books"
   ]
  },
  {
   "cell_type": "code",
   "execution_count": 3,
   "id": "172fccbd",
   "metadata": {},
   "outputs": [
    {
     "name": "stdout",
     "output_type": "stream",
     "text": [
      "ACTION: Get all"
     ]
    },
    {
     "name": "stderr",
     "output_type": "stream",
     "text": [
      "  % Total    % Received % Xferd  Average Speed   Time    Time     Time  Current\r\n",
      "                                 Dload  Upload   Total   Spent    Left  Speed\r\n",
      "\r",
      "  0     0    0     0    0     0      0      0 --:--:-- --:--:-- --:--:--     0\r",
      "100    15  100    15    0     0   7500      0 --:--:-- --:--:-- --:--:--  7500\r\n"
     ]
    }
   ],
   "source": [
    "%%script bash\n",
    "curl http://127.0.0.1:5000/books"
   ]
  },
  {
   "cell_type": "code",
   "execution_count": 4,
   "id": "4c8c82cf",
   "metadata": {},
   "outputs": [],
   "source": [
    "exit()"
   ]
  },
  {
   "cell_type": "markdown",
   "id": "7f4ecf21",
   "metadata": {},
   "source": [
    "- Find by id (URL ``/books/id``) [1]"
   ]
  },
  {
   "cell_type": "code",
   "execution_count": 1,
   "id": "109488f7",
   "metadata": {},
   "outputs": [
    {
     "name": "stdout",
     "output_type": "stream",
     "text": [
      "@app.route(rule=\"/books/<int:nParID>\")\r\n",
      "def fFindById(nParID):\r\n",
      "    \"\"\"URL map for \"/books/<int:nParID>\" with method \"GET\".\r\n",
      "\r\n",
      "Input: \r\n",
      "Process: \r\n",
      "Output:\r\n",
      "\"\"\"    \r\n",
      "    return \"ACTION: Find by id (\"+str(nParID)+\")\"\r\n",
      "# --- END ---\r\n"
     ]
    }
   ],
   "source": [
    "%%script bash\n",
    "grep -1 \"fFindById\" ./rc/server/rest.py -A 8"
   ]
  },
  {
   "cell_type": "code",
   "execution_count": 2,
   "id": "3b2d75c3",
   "metadata": {},
   "outputs": [],
   "source": [
    "%%script bash\n",
    "start http://127.0.0.1:5000/books/101"
   ]
  },
  {
   "cell_type": "code",
   "execution_count": 3,
   "id": "60911962",
   "metadata": {},
   "outputs": [
    {
     "name": "stdout",
     "output_type": "stream",
     "text": [
      "ACTION: Find by id (101)"
     ]
    },
    {
     "name": "stderr",
     "output_type": "stream",
     "text": [
      "  % Total    % Received % Xferd  Average Speed   Time    Time     Time  Current\r\n",
      "                                 Dload  Upload   Total   Spent    Left  Speed\r\n",
      "\r",
      "  0     0    0     0    0     0      0      0 --:--:-- --:--:-- --:--:--     0\r",
      "100    24  100    24    0     0  12000      0 --:--:-- --:--:-- --:--:-- 24000\r\n"
     ]
    }
   ],
   "source": [
    "%%script bash\n",
    "curl http://127.0.0.1:5000/books/101"
   ]
  },
  {
   "cell_type": "code",
   "execution_count": 4,
   "id": "1465d2dc",
   "metadata": {},
   "outputs": [],
   "source": [
    "exit()"
   ]
  },
  {
   "cell_type": "markdown",
   "id": "3abe9186",
   "metadata": {},
   "source": [
    "< [Table of Contents](#top) | [References](#references) >\n",
    "<a id=\"introductionDesignAPISkeletonappInterfacePOST\"></a>\n",
    "***\n",
    "###### ``POST``\n",
    "***"
   ]
  },
  {
   "cell_type": "markdown",
   "id": "3d0d53b1",
   "metadata": {},
   "source": [
    "- Create (URL ``/books``) [1]"
   ]
  },
  {
   "cell_type": "code",
   "execution_count": 1,
   "id": "173bb484",
   "metadata": {},
   "outputs": [
    {
     "name": "stdout",
     "output_type": "stream",
     "text": [
      "@app.route(rule=\"/books\",methods=[\"POST\"])\r\n",
      "def fCreate():\r\n",
      "    \"\"\"URL map for \"/books\" with method \"POST\".\r\n",
      "\r\n",
      "Input: \r\n",
      "Process: \r\n",
      "Output:\r\n",
      "\"\"\"    \r\n",
      "    return \"ACTION: Create\"\r\n",
      "# --- END ---\r\n"
     ]
    }
   ],
   "source": [
    "%%script bash\n",
    "grep -1 \"fCreate\" ./rc/server/rest.py -A 8"
   ]
  },
  {
   "cell_type": "code",
   "execution_count": 2,
   "id": "8df2e79b",
   "metadata": {},
   "outputs": [
    {
     "name": "stdout",
     "output_type": "stream",
     "text": [
      "ACTION: Create"
     ]
    },
    {
     "name": "stderr",
     "output_type": "stream",
     "text": [
      "  % Total    % Received % Xferd  Average Speed   Time    Time     Time  Current\r\n",
      "                                 Dload  Upload   Total   Spent    Left  Speed\r\n",
      "\r",
      "  0     0    0     0    0     0      0      0 --:--:-- --:--:-- --:--:--     0\r",
      "100    14  100    14    0     0   7000      0 --:--:-- --:--:-- --:--:--  7000\r\n"
     ]
    }
   ],
   "source": [
    "%%script bash\n",
    "curl -X \"POST\" http://127.0.0.1:5000/books # cannot check browser"
   ]
  },
  {
   "cell_type": "code",
   "execution_count": 3,
   "id": "ebe5cceb",
   "metadata": {},
   "outputs": [],
   "source": [
    "exit()"
   ]
  },
  {
   "cell_type": "markdown",
   "id": "67e095c2",
   "metadata": {},
   "source": [
    "< [Table of Contents](#top) | [References](#references) >\n",
    "<a id=\"introductionDesignAPISkeletonappInterfacePUT\"></a>\n",
    "***\n",
    "###### ``PUT``\n",
    "***"
   ]
  },
  {
   "cell_type": "markdown",
   "id": "58594084",
   "metadata": {},
   "source": [
    "- Update (URL ``/books/id``) [1]"
   ]
  },
  {
   "cell_type": "code",
   "execution_count": 1,
   "id": "7d281ed9",
   "metadata": {},
   "outputs": [
    {
     "name": "stdout",
     "output_type": "stream",
     "text": [
      "@app.route(rule=\"/books/<int:nParID>\",methods=[\"PUT\"])\r\n",
      "def fUpdate(nParID):\r\n",
      "    \"\"\"URL map for \"/books/<int:nParID>\" with method \"PUT\".\r\n",
      "\r\n",
      "Input: \r\n",
      "Process: \r\n",
      "Output:\r\n",
      "\"\"\"    \r\n",
      "    return \"ACTION: Update (\"+str(nParID)+\")\"\r\n",
      "# --- END ---\r\n"
     ]
    }
   ],
   "source": [
    "%%script bash\n",
    "grep -1 \"fUpdate\" ./rc/server/rest.py -A 8"
   ]
  },
  {
   "cell_type": "code",
   "execution_count": 2,
   "id": "563e4b8b",
   "metadata": {},
   "outputs": [
    {
     "name": "stdout",
     "output_type": "stream",
     "text": [
      "ACTION: Update (102)"
     ]
    },
    {
     "name": "stderr",
     "output_type": "stream",
     "text": [
      "  % Total    % Received % Xferd  Average Speed   Time    Time     Time  Current\r\n",
      "                                 Dload  Upload   Total   Spent    Left  Speed\r\n",
      "\r",
      "  0     0    0     0    0     0      0      0 --:--:-- --:--:-- --:--:--     0\r",
      "100    20  100    20    0     0  10000      0 --:--:-- --:--:-- --:--:-- 10000\r\n"
     ]
    }
   ],
   "source": [
    "%%script bash\n",
    "curl -X \"PUT\" http://127.0.0.1:5000/books/102"
   ]
  },
  {
   "cell_type": "code",
   "execution_count": 3,
   "id": "fdf03623",
   "metadata": {},
   "outputs": [],
   "source": [
    "exit()"
   ]
  },
  {
   "cell_type": "markdown",
   "id": "035816ae",
   "metadata": {},
   "source": [
    "< [Table of Contents](#top) | [References](#references) >\n",
    "<a id=\"introductionDesignAPISkeletonappInterfaceDELETE\"></a>\n",
    "***\n",
    "###### ``DELETE``\n",
    "***"
   ]
  },
  {
   "cell_type": "markdown",
   "id": "2d2988a9",
   "metadata": {},
   "source": [
    "- Delete (URL ``/books/id``) [1]"
   ]
  },
  {
   "cell_type": "code",
   "execution_count": 1,
   "id": "9b274e46",
   "metadata": {},
   "outputs": [
    {
     "name": "stdout",
     "output_type": "stream",
     "text": [
      "@app.route(rule=\"/books/<int:nParID>\",methods=[\"DELETE\"])\r\n",
      "def fDelete(nParID):\r\n",
      "    \"\"\"URL map for \"/books/<int:nParID>\" with method \"DELETE\".\r\n",
      "\r\n",
      "Input: \r\n",
      "Process: \r\n",
      "Output:\r\n",
      "\"\"\"    \r\n",
      "    return \"ACTION: Delete (\"+str(nParID)+\")\"\r\n",
      "# --- END ---\r\n"
     ]
    }
   ],
   "source": [
    "%%script bash\n",
    "grep -1 \"fDelete\" ./rc/server/rest.py -A 8"
   ]
  },
  {
   "cell_type": "code",
   "execution_count": 2,
   "id": "9162fa69",
   "metadata": {},
   "outputs": [
    {
     "name": "stdout",
     "output_type": "stream",
     "text": [
      "ACTION: Delete (103)"
     ]
    },
    {
     "name": "stderr",
     "output_type": "stream",
     "text": [
      "  % Total    % Received % Xferd  Average Speed   Time    Time     Time  Current\r\n",
      "                                 Dload  Upload   Total   Spent    Left  Speed\r\n",
      "\r",
      "  0     0    0     0    0     0      0      0 --:--:-- --:--:-- --:--:--     0\r",
      "100    20  100    20    0     0  10000      0 --:--:-- --:--:-- --:--:-- 10000\r\n"
     ]
    }
   ],
   "source": [
    "%%script bash\n",
    "curl -X \"DELETE\" http://127.0.0.1:5000/books/103"
   ]
  },
  {
   "cell_type": "code",
   "execution_count": 3,
   "id": "9326cc05",
   "metadata": {},
   "outputs": [],
   "source": [
    "exit()"
   ]
  },
  {
   "cell_type": "markdown",
   "id": "c8781b87",
   "metadata": {},
   "source": [
    "***\n",
    "## END"
   ]
  },
  {
   "cell_type": "markdown",
   "id": "f1291269",
   "metadata": {},
   "source": [
    "< [Table of Contents](#top) | [Abstract](#abstract) | [Introduction](#introduction) | [Conclusion](#conclusion) | [References](#references) >\n",
    "<a id=\"solution\"></a>\n",
    "***\n",
    "## Solution\n",
    "***"
   ]
  },
  {
   "cell_type": "markdown",
   "id": "6ee51fa4",
   "metadata": {},
   "source": [
    "&#x1F6A7;"
   ]
  },
  {
   "cell_type": "markdown",
   "id": "681a4f11",
   "metadata": {},
   "source": [
    "<!-- - refer [Appendix](#appendix-df) to view the full dataset <a id=\"go-back-df\"></a> -->\n",
    "<!-- print(fGetModuleType(___x___),fDocumentation(___x___)) -->\n",
    "***\n",
    "## END"
   ]
  },
  {
   "cell_type": "markdown",
   "id": "28e9ffc8",
   "metadata": {},
   "source": [
    "< [Table of Contents](#top) | [Abstract](#abstract) | [Introduction](#introduction) | [Solution](#solution) | [References](#references) >\n",
    "<a id=\"conclusion\"></a>\n",
    "***\n",
    "## Conclusion\n",
    "***"
   ]
  },
  {
   "cell_type": "markdown",
   "id": "56d5e2c1",
   "metadata": {},
   "source": [
    "&#x1F6A7;"
   ]
  },
  {
   "cell_type": "markdown",
   "id": "840b765a",
   "metadata": {},
   "source": [
    "***\n",
    "## END"
   ]
  },
  {
   "cell_type": "markdown",
   "id": "e0e42d51",
   "metadata": {},
   "source": [
    "< [Table of Contents](#top) | [Abstract](#abstract) | [Introduction](#introduction) | [Solution](#solution) | [Conclusion](#conclusion) | [References](#references) >\n",
    "<a id=\"references\"></a>\n",
    "***\n",
    "## References\n",
    "***\n",
    "&nbsp;&nbsp;&nbsp;&nbsp;&nbsp;&nbsp;&nbsp;&nbsp;&nbsp;[1] A. Beatty, \"DR8.3 Implementing REST server,\" GMIT, November 2020."
   ]
  },
  {
   "cell_type": "markdown",
   "id": "b33c372a",
   "metadata": {},
   "source": [
    "***\n",
    "## END"
   ]
  },
  {
   "cell_type": "markdown",
   "id": "e5961b4d",
   "metadata": {},
   "source": [
    "< [Table of Contents](#top) | [Abstract](#abstract) | [Introduction](#introduction) | [Solution](#solution) | [Conclusion](#conclusion) | [References](#references) >\n",
    "<a id=\"appendix\"></a>\n",
    "***\n",
    "## Appendix\n",
    "***"
   ]
  },
  {
   "cell_type": "markdown",
   "id": "27dcc26b",
   "metadata": {},
   "source": [
    "&#x1F6A7;"
   ]
  },
  {
   "cell_type": "markdown",
   "id": "00d82a82",
   "metadata": {},
   "source": [
    "***\n",
    "## END"
   ]
  },
  {
   "cell_type": "markdown",
   "id": "899c1783",
   "metadata": {},
   "source": [
    "# END JUPYTER NOTEBOOK"
   ]
  }
 ],
 "metadata": {
  "kernelspec": {
   "display_name": "Python 3",
   "language": "python",
   "name": "python3"
  },
  "language_info": {
   "codemirror_mode": {
    "name": "ipython",
    "version": 3
   },
   "file_extension": ".py",
   "mimetype": "text/x-python",
   "name": "python",
   "nbconvert_exporter": "python",
   "pygments_lexer": "ipython3",
   "version": "3.8.8"
  }
 },
 "nbformat": 4,
 "nbformat_minor": 5
}
