{
 "cells": [
  {
   "cell_type": "code",
   "execution_count": null,
   "id": "76b6aaa9",
   "metadata": {},
   "outputs": [
    {
     "data": {
      "text/html": [
       "<script>Jupyter.notebook.kernel.restart()</script>"
      ]
     },
     "metadata": {},
     "output_type": "display_data"
    }
   ],
   "source": [
    "from IPython.core.display import display_html\n",
    "display_html(\"<script>Jupyter.notebook.kernel.restart()</script>\",raw=True)"
   ]
  },
  {
   "cell_type": "code",
   "execution_count": 1,
   "id": "19093beb",
   "metadata": {},
   "outputs": [
    {
     "data": {
      "text/html": [
       "<style>.container { width:100% !important; }</style>"
      ],
      "text/plain": [
       "<IPython.core.display.HTML object>"
      ]
     },
     "metadata": {},
     "output_type": "display_data"
    },
    {
     "data": {
      "text/html": [
       "<style>.container { width:100% !important; }</style>"
      ],
      "text/plain": [
       "<IPython.core.display.HTML object>"
      ]
     },
     "metadata": {},
     "output_type": "display_data"
    }
   ],
   "source": [
    "from sys import path; path.insert(1,\"../src\");\n",
    "import fubar; from importlib import reload; reload(fubar);"
   ]
  },
  {
   "cell_type": "markdown",
   "id": "616b0550",
   "metadata": {},
   "source": [
    "***\n",
    "< [GMIT Data Analytics](https://web.archive.org/web/20201029063153/https://www.gmit.ie/computer-science-and-applied-physics/higher-diploma-science-computing-data-analytics-ict) | [Home](https://github.com/SeanOhAileasa) | [README](https://github.com/SeanOhAileasa/drp-app-server/blob/main/README.md) >\n",
    "\n",
    "[![GMIT](https://github.com/SeanOhAileasa/SeanOhAileasa/blob/master/rc/gmit.png?raw=true)](https://web.archive.org/web/20201029063153/https://www.gmit.ie/computer-science-and-applied-physics/higher-diploma-science-computing-data-analytics-ict)\n",
    "\n",
    "## Data Representation - Course Material 2021\n",
    "### Topic: [App-server (``flask``)](https://nbviewer.jupyter.org/github/SeanOhAileasa/drp-app-server/blob/main/drp-app-server.ipynb)\n",
    "\n",
    "***"
   ]
  },
  {
   "cell_type": "markdown",
   "id": "220c0602",
   "metadata": {},
   "source": [
    "Course material for the ``Data Representation`` module (5 Credits) of the ``Higher Diploma in Science in Computing (Data Analytics) (H.Dip)`` programme (75 Credits) at **Galway-Mayo Institute of Technology (GMIT)**."
   ]
  },
  {
   "cell_type": "markdown",
   "id": "85ba523b",
   "metadata": {},
   "source": [
    "- referenced external link - [Data Representation](https://nbviewer.jupyter.org/github/SeanOhAileasa/drp-data-representation/blob/main/drp-data-representation.ipynb)"
   ]
  },
  {
   "cell_type": "code",
   "execution_count": 2,
   "id": "c75655d3",
   "metadata": {},
   "outputs": [],
   "source": [
    "from sys import path; path.insert(1,\"../src\")\n",
    "from fubar import fFile"
   ]
  },
  {
   "cell_type": "code",
   "execution_count": 3,
   "id": "464c029f",
   "metadata": {},
   "outputs": [
    {
     "name": "stdout",
     "output_type": "stream",
     "text": [
      "# repository ./SeanOhAileasa\r\n",
      "def fFile(nParPath):\r\n",
      "    \"\"\"Start a file with its associated application.\r\n",
      "\r\n",
      "Input: nParPath\r\n",
      "Process: (os.path.realpath; os.startfile)\r\n",
      "Output: file opened with associated application\r\n",
      "\"\"\"\r\n",
      "    from os import path,startfile\r\n",
      "    return startfile(path.realpath(nParPath))\r\n",
      "# --- END ---\r\n"
     ]
    }
   ],
   "source": [
    "%%script bash\n",
    "grep -1 \"def fFile\" ../src/fubar.py -A 9"
   ]
  },
  {
   "cell_type": "markdown",
   "id": "45b63e84",
   "metadata": {},
   "source": [
    "<a id=\"top\"></a>\n",
    "***\n",
    "## Table of Contents\n",
    "***"
   ]
  },
  {
   "cell_type": "markdown",
   "id": "2be47331",
   "metadata": {},
   "source": [
    "## [Acronym](#top)\n",
    "\n",
    "- &#x1F4CC; Work-in-Progress (WIP)\n",
    "- ``obj``: object"
   ]
  },
  {
   "cell_type": "markdown",
   "id": "876b7349",
   "metadata": {},
   "source": [
    "<hr width=50%;>"
   ]
  },
  {
   "cell_type": "markdown",
   "id": "fc64e948",
   "metadata": {},
   "source": [
    "## [Abstract](#abstract)\n",
    "\n",
    "- implementing a ``RESTful`` server using ``flask`` [1]"
   ]
  },
  {
   "cell_type": "markdown",
   "id": "d006b6c2",
   "metadata": {},
   "source": [
    "<hr width=50%;>"
   ]
  },
  {
   "cell_type": "markdown",
   "id": "e135e9c4",
   "metadata": {},
   "source": [
    "## [Introduction](#introduction)\n",
    "\n",
    "* [Design](#introductionDesignAPI) <br/><br/>\n",
    "    * [Implementation](#introductionDesignAPISkeleton) <br/><br/>\n",
    "        * [``venv``](#introductionDesignAPISkeletonvenv) <br/><br/>\n",
    "            * [``.gitignore``](#introductionDesignAPISkeletonvenvgitignore) <br/><br/>\n",
    "        * [``flask``](#introductionDesignAPISkeletonappflask) <br/><br/>\n",
    "            * &#8594; ``obj``: <br/><br/>\n",
    "                * [``Flask``](#introductionDesignAPISkeletonappFlask) <br/><br/>\n",
    "                    * [``app``](#introductionDesignAPISkeletonapp)&nbsp;&nbsp;|&nbsp;&nbsp;[``:import_name``](#introductionDesignAPISkeletonapp)&nbsp;&nbsp;|&nbsp;&nbsp;[``:static_url_path``](#introductionDesignAPISkeletonapp)&nbsp;&nbsp;|&nbsp;&nbsp;[``:static_folder``](#introductionDesignAPISkeletonapp) <br/><br/>\n",
    "                        * [``route``](#introductionDesignAPISkeletonapproute)&nbsp;&nbsp;|&nbsp;&nbsp;[``:rule``](#introductionDesignAPISkeletonapproute)&nbsp;&nbsp;|&nbsp;&nbsp;[``:options``](#introductionDesignAPISkeletonapproute) <br/><br/>        \n",
    "                        * [``run``](#introductionDesignAPISkeletonapprun)&nbsp;&nbsp;|&nbsp;&nbsp;[``:debug``](#introductionDesignAPISkeletonapprun)\n",
    "           "
   ]
  },
  {
   "cell_type": "markdown",
   "id": "7f2347c3",
   "metadata": {},
   "source": [
    "<hr width=50%;>"
   ]
  },
  {
   "cell_type": "markdown",
   "id": "af1359bf",
   "metadata": {},
   "source": [
    "## [Solution](#solution)\n",
    "\n",
    "* [Interface](#introductionDesignAPISkeletonappInterface) <br/><br/>\n",
    "    * [``GET``](#introductionDesignAPISkeletonappInterfaceGET)&nbsp;&nbsp;|&nbsp;&nbsp;Get all&nbsp;&nbsp;|&nbsp;&nbsp;Find by id <br/><br/>\n",
    "    * [``POST``](#introductionDesignAPISkeletonappInterfacePOST)&nbsp;&nbsp;|&nbsp;&nbsp;Create <br/><br/>\n",
    "    * [``PUT``](#introductionDesignAPISkeletonappInterfacePUT)&nbsp;&nbsp;|&nbsp;&nbsp;Update <br/><br/>\n",
    "    * [``DELETE``](#introductionDesignAPISkeletonappInterfaceDELETE)&nbsp;&nbsp;|&nbsp;&nbsp;Delete <br/><br/>\n",
    "* [Database](#introductionDesignAPISkeletonDatabase) <br/><br/>\n",
    "    * [Collection](#introductionDesignAPISkeletonDatabaseCollection) <br/><br/>\n",
    "        * [``jsonify``](#introductionDesignAPISkeletonDatabaseCollectionflaskjsonify) (&#8594; Introduction &#8594; Design &#8594; Implementation &#8594; ``flask``) <br/><br/>\n",
    "            * [``GET``](#introductionDesignAPISkeletonDatabaseCollectionflaskjsonifyGET)&nbsp;&nbsp;|&nbsp;&nbsp;Get all&nbsp;&nbsp;|&nbsp;&nbsp;Find by id <br/><br/>\n",
    "            * [``POST``](#introductionDesignAPISkeletonDatabaseCollectionflaskjsonifyPOST)&nbsp;&nbsp;|&nbsp;&nbsp;Create <br/><br/>\n",
    "                * [``request``](#introductionDesignAPISkeletonDatabaseCollectionflaskrequest) (&#8594; Introduction &#8594; Design &#8594; Implementation &#8594; ``flask``) &#x1F6A7; <br/><br/>\n",
    "                    * [``json``](#introductionDesignAPISkeletonDatabaseCollectionflaskrequestjson)<br/><br/>                        \n",
    "                        * [``PUT``](#introductionDesignAPISkeletonDatabaseCollectionflaskrequestjsonPUT)&nbsp;&nbsp;|&nbsp;&nbsp;Update <br/><br/>\n",
    "            * [``DELETE``](#introductionDesignAPISkeletonDatabaseCollectionflaskDELETE)&nbsp;&nbsp;|&nbsp;&nbsp;Delete <br/><br/>\n",
    "    * [Driver](#driver) &#x1F6A7; <br/><br/>\n",
    "        * [``mysql.connector``](#mysqlconnector) &#x1F6A7; <br/><br/>\n",
    "            * &#8594; ``obj``: <br/><br/>    \n",
    "                * [``connect``](#mysqlconnectorconnect)&nbsp;&nbsp;|&nbsp;&nbsp;[``:host``](#mysqlconnectorconnect)&nbsp;&nbsp;|&nbsp;&nbsp;[``:user``](#mysqlconnectorconnect)&nbsp;&nbsp;|&nbsp;&nbsp;[``:password``](#mysqlconnectorconnect)&nbsp;&nbsp;|&nbsp;&nbsp;[``:database``](#mysqlconnectorconnect) <br/><br/> \n",
    "            * [``cursor``](#mysqlconnectorMySQLCursorcursor) <br/><br/>\n",
    "            * [``execute``](#mysqlconnectorMySQLCursorexecute) <br/><br/>       \n",
    "        * [``DAO``](#introductionDesignAPISkeletonDatabaseDAO) <br/><br/>\n",
    "            * [``CBookDAO``](#CStudentDAO) <br/><br/>\n",
    "                * [C](#CStudentDAOcreateRUD) (CreateRUD) <br/><br/>\n",
    "                * [R](#CStudentDAOcReadUD) (CReadUD) <br/><br/>\n",
    "                * [U](#CStudentDAOCRUpdateD) (CRUpdateD) <br/><br/>\n",
    "                * [D](#CStudentDAOCRUDelete) (CRUDelete) <br/><br/>\n",
    "* [Server](#introductionDesignAPISkeletonServer) <br/><br/>               \n",
    "    * [``serverDAO``](#introductionDesignAPISkeletonDatabaseServer) <br/><br/>\n",
    "        * [``cURL``](#introductionDesignAPISkeletonDatabaseServercURL) <br/><br/>\n",
    "            * [``CBookDAO``](#introductionDesignAPISkeletonDatabaseServercURLDAO) <br/><br/>\n",
    "                * [C](#introductionDesignAPISkeletonDatabaseServercURLDAOCStudentDAOcreateRUD) (CreateRUD) <br/><br/>\n",
    "                * [R](#introductionDesignAPISkeletonDatabaseServercURLDAOCStudentDAOcReadUD) (CReadUD) <br/><br/>\n",
    "                * [U](#introductionDesignAPISkeletonDatabaseServercURLDAOCStudentDAOCRUpdateD) (CRUpdateD) <br/><br/>\n",
    "                * [D](#introductionDesignAPISkeletonDatabaseServercURLDAOCStudentDAOCRUDelete) (CRUDelete) <br/><br/>\n",
    "* [Client](#introductionDesignAPISkeletonClient) <br/><br/>\n",
    "    * [Interface](#introductionDesignAPISkeletonClientInterface) "
   ]
  },
  {
   "cell_type": "markdown",
   "id": "96f4c0df",
   "metadata": {},
   "source": [
    "<hr width=50%;>"
   ]
  },
  {
   "cell_type": "markdown",
   "id": "e1449819",
   "metadata": {},
   "source": [
    "## [Conclusion](#conclusion)\n",
    "\n",
    "* [pythonanywhere](#pythonanywhere) <br/><br/>\n",
    "    * [``Bash``](#pythonanywhereBash) <br/><br/>\n",
    "        * [Virtual Environment](#pythonanywhereVirtualEnvironment) <br/><br/>\n",
    "    * [``GitHub``](#pythonanywhereGitHub)"
   ]
  },
  {
   "cell_type": "markdown",
   "id": "bc989e6f",
   "metadata": {},
   "source": [
    "***\n",
    "## END"
   ]
  },
  {
   "cell_type": "markdown",
   "id": "0c88ab4a",
   "metadata": {},
   "source": [
    "< [Table of Contents](#top) | [Introduction](#introduction) | [Solution](#solution) | [Conclusion](#conclusion) | [References](#references) >\n",
    "<a id=\"abstract\"></a>\n",
    "***\n",
    "## Abstract\n",
    "***"
   ]
  },
  {
   "cell_type": "code",
   "execution_count": null,
   "id": "619e9d65",
   "metadata": {},
   "outputs": [],
   "source": [
    "# fFile(\"./hide/DR8.3 Implementing REST server - 12-11-2020.mp4\")"
   ]
  },
  {
   "cell_type": "markdown",
   "id": "e471d217",
   "metadata": {},
   "source": [
    "- requirements include an app-server that has a ``RESTful`` interface to provide CRUD operations for one database table [1]"
   ]
  },
  {
   "cell_type": "markdown",
   "id": "fbac35e6",
   "metadata": {},
   "source": [
    "- the entity to perform CRUD operations on will be ``Books`` having: i) an ``id`` (integer) which the database will auto-increment and will be the ``KEY`` (unique identifier) to find one of the entities; ii) a ``title`` (string); iii) an ``author`` (string); iv) a ``price`` (integer) [1]"
   ]
  },
  {
   "cell_type": "markdown",
   "id": "aa8e8f27",
   "metadata": {},
   "source": [
    "- books could have an ISDN number as a unique identifier but choosing an ``id`` in order to make as general as possible [1]"
   ]
  },
  {
   "cell_type": "markdown",
   "id": "3fa461fc",
   "metadata": {},
   "source": [
    "***\n",
    "## END"
   ]
  },
  {
   "cell_type": "markdown",
   "id": "d319e57d",
   "metadata": {},
   "source": [
    "< [Table of Contents](#top) | [Abstract](#abstract) | [Solution](#solution) | [Conclusion](#conclusion) | [References](#references) >\n",
    "<a id=\"introduction\"></a>\n",
    "***\n",
    "## Introduction\n",
    "***"
   ]
  },
  {
   "cell_type": "markdown",
   "id": "e1e73e9e",
   "metadata": {},
   "source": [
    "- need to design the API (no code) [1]"
   ]
  },
  {
   "cell_type": "markdown",
   "id": "6e7e3f1e",
   "metadata": {},
   "source": [
    "< [Table of Contents](#top) | [References](#references) >\n",
    "<a id=\"introductionDesignAPI\"></a>\n",
    "***\n",
    "### Design\n",
    "***"
   ]
  },
  {
   "cell_type": "markdown",
   "id": "96a4a312",
   "metadata": {},
   "source": [
    "- creating a CRUD interface (``C``reate ``R``ead ``U``pdate ``D``elete) - the API should:\n",
    "\n",
    "i) Get all books (HTTP request with the method ``GET`` - URL ``/books`` - no parameters - return a ``json`` array with book objects);\n",
    "\n",
    "ii) Get a book by id (``GET`` - URL ``/books/id`` - no parameter given book ``id`` is in the URL - return an object with ``id``);\n",
    "\n",
    "iii) Create a book (``POST`` - URL ``/books`` - parameter sent will be a ``json`` object with the data - return the book object with ``id``);\n",
    "\n",
    "iv) Update a book (``PUT`` - URL ``/books/id`` with the ``id`` of the book to update - parameter is the attribute ``name`` and the new ``value`` - return the full book ``json`` object);\n",
    "\n",
    "v) Delete a book (``DELETE`` - URL ``/books/id`` with the ``id`` of the book to delete - no parameter given book ``id`` is in the URL - return ``\"done\":true``)"
   ]
  },
  {
   "cell_type": "markdown",
   "id": "382aaef4",
   "metadata": {},
   "source": [
    "- other applications may require other functionality in the interface therefore can always add more functionality later on (reduce all prices by 10% or find books by author) [1]"
   ]
  },
  {
   "cell_type": "markdown",
   "id": "6ee0a403",
   "metadata": {},
   "source": [
    "- the ``RESTful`` interface proposed has: i) two URLs that are the same ``/books`` but using different methods (``GET`` and ``POST``) and; ii) three URLs that are the same ``books/id`` but again each using different methods (``GET`` and ``PUT`` and ``DELETE``) [1]"
   ]
  },
  {
   "cell_type": "markdown",
   "id": "97da6387",
   "metadata": {},
   "source": [
    "![RESTful API for Books](https://github.com/SeanOhAileasa/SeanOhAileasa/blob/master/rc/drp/rest/booksProposed.png?raw=true)\n",
    "\n",
    "***(Image) A. Beatty, \"DR8.3 Implementing REST server,\" GMIT, November 2020.***"
   ]
  },
  {
   "cell_type": "markdown",
   "id": "876ee137",
   "metadata": {},
   "source": [
    "< [Table of Contents](#top) | [References](#references) >\n",
    "<a id=\"introductionDesignAPISkeleton\"></a>\n",
    "***\n",
    "###### Implementation\n",
    "***"
   ]
  },
  {
   "cell_type": "markdown",
   "id": "7b235161",
   "metadata": {},
   "source": [
    "- designed the ``RESTful`` API (now starting to code) [1]"
   ]
  },
  {
   "cell_type": "markdown",
   "id": "7441e84c",
   "metadata": {},
   "source": [
    "- creating the ``flask`` app-server with just skeleton functions that do not do anything yet except confirm function calls [1]"
   ]
  },
  {
   "cell_type": "markdown",
   "id": "67dae452",
   "metadata": {},
   "source": [
    "- implementing the ``REST`` API without actually doing the individual implementations for each of the different calls (adding a function and the URL maps for each of the functions required in the interface and testing using curl) [1]"
   ]
  },
  {
   "cell_type": "markdown",
   "id": "1a4eb54c",
   "metadata": {},
   "source": [
    "< [Table of Contents](#top) | [References](#references) >\n",
    "<a id=\"introductionDesignAPISkeletonvenv\"></a>\n",
    "***\n",
    "###### ``venv``\n",
    "***"
   ]
  },
  {
   "cell_type": "markdown",
   "id": "f7491c2b",
   "metadata": {},
   "source": [
    "- create a virtual environment [1]"
   ]
  },
  {
   "cell_type": "code",
   "execution_count": 1,
   "id": "69222ae5",
   "metadata": {},
   "outputs": [],
   "source": [
    "%%script bash\n",
    "python -m venv venv"
   ]
  },
  {
   "cell_type": "markdown",
   "id": "704ff292",
   "metadata": {},
   "source": [
    "- activate ``venv`` [1]\n",
    "\n",
    "```\n",
    "./venv/Scripts/activate.bat\n",
    "```"
   ]
  },
  {
   "cell_type": "markdown",
   "id": "d911058a",
   "metadata": {},
   "source": [
    "- see packages (nothing) [1]\n",
    "\n",
    "```\n",
    "pip freeze\n",
    "```"
   ]
  },
  {
   "cell_type": "markdown",
   "id": "f88b1c9f",
   "metadata": {},
   "source": [
    "- install ``flask`` [1]\n",
    "\n",
    "```\n",
    "pip install flask\n",
    "```"
   ]
  },
  {
   "cell_type": "markdown",
   "id": "3bb3aaf0",
   "metadata": {},
   "source": [
    "- once installed put into ``requirements.txt`` (if needed for something else) [1]\n",
    "\n",
    "```\n",
    "pip freeze > ./rc/server/requirements.txt\n",
    "```"
   ]
  },
  {
   "cell_type": "markdown",
   "id": "8e3d3e1d",
   "metadata": {},
   "source": [
    "- ``venv`` now set up [1]"
   ]
  },
  {
   "cell_type": "code",
   "execution_count": 2,
   "id": "dd5d5424",
   "metadata": {},
   "outputs": [
    {
     "name": "stdout",
     "output_type": "stream",
     "text": [
      "click==8.0.1\r\n",
      "colorama==0.4.4\r\n",
      "Flask==2.0.1\r\n",
      "itsdangerous==2.0.1\r\n",
      "Jinja2==3.0.1\r\n",
      "MarkupSafe==2.0.1\r\n",
      "Werkzeug==2.0.1\r\n"
     ]
    }
   ],
   "source": [
    "%%script bash\n",
    "cat ./rc/server/requirements.txt"
   ]
  },
  {
   "cell_type": "code",
   "execution_count": 3,
   "id": "6b5b4adf",
   "metadata": {},
   "outputs": [],
   "source": [
    "exit()"
   ]
  },
  {
   "cell_type": "markdown",
   "id": "8f7062c4",
   "metadata": {},
   "source": [
    "< [Table of Contents](#top) | [References](#references) >\n",
    "<a id=\"introductionDesignAPISkeletonvenvgitignore\"></a>\n",
    "***\n",
    "###### ``.gitignore``\n",
    "***"
   ]
  },
  {
   "cell_type": "code",
   "execution_count": 1,
   "id": "e8c0b76d",
   "metadata": {},
   "outputs": [
    {
     "name": "stdout",
     "output_type": "stream",
     "text": [
      "# Application specific files\r\n",
      "venv\r\n"
     ]
    }
   ],
   "source": [
    "%%script bash\n",
    "grep \"# Application specific files\" ./.gitignore -A 1"
   ]
  },
  {
   "cell_type": "code",
   "execution_count": 2,
   "id": "47d86d79",
   "metadata": {},
   "outputs": [],
   "source": [
    "exit()"
   ]
  },
  {
   "cell_type": "markdown",
   "id": "a7fb41e5",
   "metadata": {},
   "source": [
    "< [Table of Contents](#top) | [References](#references) >\n",
    "<a id=\"introductionDesignAPISkeletonappflask\"></a>\n",
    "***\n",
    "###### ``flask`` \n",
    "***"
   ]
  },
  {
   "cell_type": "markdown",
   "id": "353a108c",
   "metadata": {},
   "source": [
    "- [[doc](https://pypi.org/project/Werkzeug/)]"
   ]
  },
  {
   "cell_type": "markdown",
   "id": "e970d5bc",
   "metadata": {},
   "source": [
    "< [Table of Contents](#top) | [References](#references) >\n",
    "<a id=\"introductionDesignAPISkeletonappFlask\"></a>\n",
    "***\n",
    "###### ``Flask`` \n",
    "***"
   ]
  },
  {
   "cell_type": "code",
   "execution_count": 1,
   "id": "e3b42542",
   "metadata": {},
   "outputs": [
    {
     "name": "stdout",
     "output_type": "stream",
     "text": [
      "from flask import Flask\r\n"
     ]
    }
   ],
   "source": [
    "%%script bash\n",
    "grep \"import Flask\" ./rc/server/rest.py"
   ]
  },
  {
   "cell_type": "code",
   "execution_count": 2,
   "id": "8d4e5f09",
   "metadata": {},
   "outputs": [],
   "source": [
    "exit()"
   ]
  },
  {
   "cell_type": "markdown",
   "id": "c2cdf470",
   "metadata": {},
   "source": [
    "< [Table of Contents](#top) | [References](#references) >\n",
    "<a id=\"introductionDesignAPISkeletonapp\"></a>\n",
    "***\n",
    "###### ``app`` ``:import_name`` ``:static_url_path`` ``:static_folder``\n",
    "***"
   ]
  },
  {
   "cell_type": "markdown",
   "id": "95ce16c3",
   "metadata": {},
   "source": [
    "- instantiate (define a new class) ``Flask`` [1]"
   ]
  },
  {
   "cell_type": "markdown",
   "id": "e20bc0fd",
   "metadata": {},
   "source": [
    "- serve static pages using the parameters ``static_url_path`` and ``static_folder`` [1]"
   ]
  },
  {
   "cell_type": "code",
   "execution_count": 1,
   "id": "835a4d13",
   "metadata": {},
   "outputs": [
    {
     "name": "stdout",
     "output_type": "stream",
     "text": [
      "app=Flask(import_name=__name__,static_url_path=\"\",static_folder=\"../../rc/static/\")\r\n"
     ]
    }
   ],
   "source": [
    "%%script bash\n",
    "grep \"app=Flask\" ./rc/server/rest.py"
   ]
  },
  {
   "cell_type": "code",
   "execution_count": 2,
   "id": "c8614fed",
   "metadata": {},
   "outputs": [],
   "source": [
    "exit()"
   ]
  },
  {
   "cell_type": "markdown",
   "id": "a9d7ba1c",
   "metadata": {},
   "source": [
    "< [Table of Contents](#top) | [References](#references) >\n",
    "<a id=\"introductionDesignAPISkeletonapproute\"></a>\n",
    "***\n",
    "###### ``route`` ``:rule`` ``:options``\n",
    "***"
   ]
  },
  {
   "cell_type": "markdown",
   "id": "55c0285a",
   "metadata": {},
   "source": [
    "- in the URL after the host (name or ip address of the machine to get the resource from) if what remains (``rule``) is ``/`` then call the function that follows - maps the URL to a particular function [1]"
   ]
  },
  {
   "cell_type": "markdown",
   "id": "afa47b10",
   "metadata": {},
   "source": [
    "- ``options`` is a list of methods the ``rule`` should be limited to (by default just listens for ``GET``) [1]"
   ]
  },
  {
   "cell_type": "code",
   "execution_count": 1,
   "id": "c213466e",
   "metadata": {},
   "outputs": [
    {
     "name": "stdout",
     "output_type": "stream",
     "text": [
      "@app.route(rule=\"/\")\r\n",
      "def fIndex():\r\n",
      "    \"\"\"URL map for \"/\" with method \"GET\".\r\n",
      "\r\n",
      "Input: \r\n",
      "Process: \r\n",
      "Output: string\r\n",
      "\"\"\"    \r\n",
      "    return \"Flask App\"\r\n",
      "# --- END ---\r\n"
     ]
    }
   ],
   "source": [
    "%%script bash\n",
    "grep \"rule=\\\"/\\\"\" ./rc/server/rest.py -A 9"
   ]
  },
  {
   "cell_type": "code",
   "execution_count": 2,
   "id": "4cc04b56",
   "metadata": {},
   "outputs": [],
   "source": [
    "exit()"
   ]
  },
  {
   "cell_type": "markdown",
   "id": "5809f9c9",
   "metadata": {},
   "source": [
    "< [Table of Contents](#top) | [References](#references) >\n",
    "<a id=\"introductionDesignAPISkeletonapprun\"></a>\n",
    "***\n",
    "###### ``run`` ``:debug``\n",
    "***"
   ]
  },
  {
   "cell_type": "markdown",
   "id": "0b1c1225",
   "metadata": {},
   "source": [
    "- run the app-server (``Flask``) with debugger active [1]"
   ]
  },
  {
   "cell_type": "code",
   "execution_count": 1,
   "id": "c25aa303",
   "metadata": {},
   "outputs": [
    {
     "name": "stdout",
     "output_type": "stream",
     "text": [
      "if __name__==\"__main__\":\r\n",
      "    app.run(debug=True)\r\n"
     ]
    }
   ],
   "source": [
    "%%script bash\n",
    "grep -1 \"debug=True\" ./rc/server/rest.py -A 1"
   ]
  },
  {
   "cell_type": "markdown",
   "id": "4257e42c",
   "metadata": {},
   "source": [
    "- localhost served up through the server (verify all ok) [1]"
   ]
  },
  {
   "cell_type": "code",
   "execution_count": 2,
   "id": "a1d8ed33",
   "metadata": {},
   "outputs": [],
   "source": [
    "%%script bash\n",
    "start http://127.0.0.1:5000/"
   ]
  },
  {
   "cell_type": "markdown",
   "id": "64d3026c",
   "metadata": {},
   "source": [
    "- using client-side program ``cURL`` for testing [1]"
   ]
  },
  {
   "cell_type": "code",
   "execution_count": 3,
   "id": "8a420e47",
   "metadata": {},
   "outputs": [
    {
     "name": "stdout",
     "output_type": "stream",
     "text": [
      "Flask App"
     ]
    },
    {
     "name": "stderr",
     "output_type": "stream",
     "text": [
      "  % Total    % Received % Xferd  Average Speed   Time    Time     Time  Current\r\n",
      "                                 Dload  Upload   Total   Spent    Left  Speed\r\n",
      "\r",
      "  0     0    0     0    0     0      0      0 --:--:-- --:--:-- --:--:--     0\r",
      "100     9  100     9    0     0   2250      0 --:--:-- --:--:-- --:--:--  3000\r\n"
     ]
    }
   ],
   "source": [
    "%%script bash\n",
    "curl http://127.0.0.1:5000/"
   ]
  },
  {
   "cell_type": "code",
   "execution_count": 4,
   "id": "b2ead3af",
   "metadata": {},
   "outputs": [],
   "source": [
    "exit()"
   ]
  },
  {
   "cell_type": "markdown",
   "id": "e35cc039",
   "metadata": {},
   "source": [
    "***\n",
    "## END"
   ]
  },
  {
   "cell_type": "markdown",
   "id": "2e078fed",
   "metadata": {},
   "source": [
    "< [Table of Contents](#top) | [Abstract](#abstract) | [Introduction](#introduction) | [Conclusion](#conclusion) | [References](#references) >\n",
    "<a id=\"solution\"></a>\n",
    "***\n",
    "## Solution\n",
    "***"
   ]
  },
  {
   "cell_type": "markdown",
   "id": "eb7b8cbb",
   "metadata": {},
   "source": [
    "< [Table of Contents](#top) | [References](#references) >\n",
    "<a id=\"introductionDesignAPISkeletonappInterface\"></a>\n",
    "***\n",
    "### Interface\n",
    "***"
   ]
  },
  {
   "cell_type": "markdown",
   "id": "d8c88c32",
   "metadata": {},
   "source": [
    "- implement proposed interface actions: \n",
    "\n",
    "i) Get all (``GET`` - URL ``/books``);\n",
    "\n",
    "ii) Find by id (``GET`` - URL ``/books/id``);\n",
    "\n",
    "iii) Create (``POST`` - URL ``/books``);\n",
    "\n",
    "iv) Update (``PUT`` - URL ``/books/id``);\n",
    "\n",
    "v) Delete (``DELETE`` - URL ``/books/id``)"
   ]
  },
  {
   "cell_type": "markdown",
   "id": "269eb5a4",
   "metadata": {},
   "source": [
    "![RESTful API for Books](https://github.com/SeanOhAileasa/SeanOhAileasa/blob/master/rc/drp/rest/booksProposed.png?raw=true)\n",
    "\n",
    "***(Image) A. Beatty, \"DR8.3 Implementing REST server,\" GMIT, November 2020.***"
   ]
  },
  {
   "cell_type": "markdown",
   "id": "d3355bb5",
   "metadata": {},
   "source": [
    "< [Table of Contents](#top) | [References](#references) >\n",
    "<a id=\"introductionDesignAPISkeletonappInterfaceGET\"></a>\n",
    "***\n",
    "###### ``GET``\n",
    "***"
   ]
  },
  {
   "cell_type": "markdown",
   "id": "65efc67f",
   "metadata": {},
   "source": [
    "- Get all (URL ``/books``) [1]"
   ]
  },
  {
   "cell_type": "code",
   "execution_count": 1,
   "id": "927f230b",
   "metadata": {},
   "outputs": [
    {
     "name": "stdout",
     "output_type": "stream",
     "text": [
      "@app.route(rule=\"/books\")\r\n",
      "def fGetAll():\r\n",
      "    \"\"\"URL map for \"/books\" with method \"GET\".\r\n",
      "\r\n",
      "Input: \r\n",
      "Process: \r\n",
      "Output:\r\n",
      "\"\"\"    \r\n",
      "    return \"ACTION: Get all\"\r\n",
      "# --- END ---\r\n"
     ]
    }
   ],
   "source": [
    "%%script bash\n",
    "grep -1 \"fGetAll\" ./rc/server/rest.py -A 8"
   ]
  },
  {
   "cell_type": "code",
   "execution_count": 2,
   "id": "e878ce8b",
   "metadata": {},
   "outputs": [],
   "source": [
    "%%script bash\n",
    "start http://127.0.0.1:5000/books"
   ]
  },
  {
   "cell_type": "code",
   "execution_count": 3,
   "id": "172fccbd",
   "metadata": {},
   "outputs": [
    {
     "name": "stdout",
     "output_type": "stream",
     "text": [
      "ACTION: Get all"
     ]
    },
    {
     "name": "stderr",
     "output_type": "stream",
     "text": [
      "  % Total    % Received % Xferd  Average Speed   Time    Time     Time  Current\r\n",
      "                                 Dload  Upload   Total   Spent    Left  Speed\r\n",
      "\r",
      "  0     0    0     0    0     0      0      0 --:--:-- --:--:-- --:--:--     0\r",
      "100    15  100    15    0     0   7500      0 --:--:-- --:--:-- --:--:--  7500\r\n"
     ]
    }
   ],
   "source": [
    "%%script bash\n",
    "curl http://127.0.0.1:5000/books"
   ]
  },
  {
   "cell_type": "code",
   "execution_count": 4,
   "id": "4c8c82cf",
   "metadata": {},
   "outputs": [],
   "source": [
    "exit()"
   ]
  },
  {
   "cell_type": "markdown",
   "id": "7f4ecf21",
   "metadata": {},
   "source": [
    "- Find by id (URL ``/books/id``) [1]"
   ]
  },
  {
   "cell_type": "code",
   "execution_count": 1,
   "id": "109488f7",
   "metadata": {
    "scrolled": true
   },
   "outputs": [
    {
     "name": "stdout",
     "output_type": "stream",
     "text": [
      "@app.route(rule=\"/books/<int:nParID>\")\r\n",
      "def fFindById(nParID):\r\n",
      "    \"\"\"URL map for \"/books/<int:nParID>\" with method \"GET\".\r\n",
      "\r\n",
      "Input: \r\n",
      "Process: \r\n",
      "Output:\r\n",
      "\"\"\"    \r\n",
      "    return \"ACTION: Find by id (\"+str(nParID)+\")\"\r\n",
      "# --- END ---\r\n"
     ]
    }
   ],
   "source": [
    "%%script bash\n",
    "grep -1 \"fFindById\" ./rc/server/rest.py -A 8"
   ]
  },
  {
   "cell_type": "code",
   "execution_count": 2,
   "id": "3b2d75c3",
   "metadata": {},
   "outputs": [],
   "source": [
    "%%script bash\n",
    "start http://127.0.0.1:5000/books/101"
   ]
  },
  {
   "cell_type": "code",
   "execution_count": 3,
   "id": "60911962",
   "metadata": {},
   "outputs": [
    {
     "name": "stdout",
     "output_type": "stream",
     "text": [
      "ACTION: Find by id (101)"
     ]
    },
    {
     "name": "stderr",
     "output_type": "stream",
     "text": [
      "  % Total    % Received % Xferd  Average Speed   Time    Time     Time  Current\r\n",
      "                                 Dload  Upload   Total   Spent    Left  Speed\r\n",
      "\r",
      "  0     0    0     0    0     0      0      0 --:--:-- --:--:-- --:--:--     0\r",
      "100    24  100    24    0     0  12000      0 --:--:-- --:--:-- --:--:-- 24000\r\n"
     ]
    }
   ],
   "source": [
    "%%script bash\n",
    "curl http://127.0.0.1:5000/books/101"
   ]
  },
  {
   "cell_type": "code",
   "execution_count": 4,
   "id": "1465d2dc",
   "metadata": {},
   "outputs": [],
   "source": [
    "exit()"
   ]
  },
  {
   "cell_type": "markdown",
   "id": "3abe9186",
   "metadata": {},
   "source": [
    "< [Table of Contents](#top) | [References](#references) >\n",
    "<a id=\"introductionDesignAPISkeletonappInterfacePOST\"></a>\n",
    "***\n",
    "###### ``POST``\n",
    "***"
   ]
  },
  {
   "cell_type": "markdown",
   "id": "3d0d53b1",
   "metadata": {},
   "source": [
    "- Create (URL ``/books``) [1]"
   ]
  },
  {
   "cell_type": "code",
   "execution_count": 1,
   "id": "173bb484",
   "metadata": {},
   "outputs": [
    {
     "name": "stdout",
     "output_type": "stream",
     "text": [
      "@app.route(rule=\"/books\",methods=[\"POST\"])\r\n",
      "def fCreate():\r\n",
      "    \"\"\"URL map for \"/books\" with method \"POST\".\r\n",
      "\r\n",
      "Input: \r\n",
      "Process: \r\n",
      "Output:\r\n",
      "\"\"\"    \r\n",
      "    return \"ACTION: Create\"\r\n",
      "# --- END ---\r\n"
     ]
    }
   ],
   "source": [
    "%%script bash\n",
    "grep -1 \"fCreate\" ./rc/server/rest.py -A 8"
   ]
  },
  {
   "cell_type": "code",
   "execution_count": 2,
   "id": "8df2e79b",
   "metadata": {},
   "outputs": [
    {
     "name": "stdout",
     "output_type": "stream",
     "text": [
      "ACTION: Create"
     ]
    },
    {
     "name": "stderr",
     "output_type": "stream",
     "text": [
      "  % Total    % Received % Xferd  Average Speed   Time    Time     Time  Current\r\n",
      "                                 Dload  Upload   Total   Spent    Left  Speed\r\n",
      "\r",
      "  0     0    0     0    0     0      0      0 --:--:-- --:--:-- --:--:--     0\r",
      "100    14  100    14    0     0   7000      0 --:--:-- --:--:-- --:--:--  7000\r\n"
     ]
    }
   ],
   "source": [
    "%%script bash\n",
    "curl -X \"POST\" http://127.0.0.1:5000/books # cannot check browser"
   ]
  },
  {
   "cell_type": "code",
   "execution_count": 3,
   "id": "ebe5cceb",
   "metadata": {},
   "outputs": [],
   "source": [
    "exit()"
   ]
  },
  {
   "cell_type": "markdown",
   "id": "67e095c2",
   "metadata": {},
   "source": [
    "< [Table of Contents](#top) | [References](#references) >\n",
    "<a id=\"introductionDesignAPISkeletonappInterfacePUT\"></a>\n",
    "***\n",
    "###### ``PUT``\n",
    "***"
   ]
  },
  {
   "cell_type": "markdown",
   "id": "58594084",
   "metadata": {},
   "source": [
    "- Update (URL ``/books/id``) [1]"
   ]
  },
  {
   "cell_type": "code",
   "execution_count": 1,
   "id": "7d281ed9",
   "metadata": {},
   "outputs": [
    {
     "name": "stdout",
     "output_type": "stream",
     "text": [
      "@app.route(rule=\"/books/<int:nParID>\",methods=[\"PUT\"])\r\n",
      "def fUpdate(nParID):\r\n",
      "    \"\"\"URL map for \"/books/<int:nParID>\" with method \"PUT\".\r\n",
      "\r\n",
      "Input: \r\n",
      "Process: \r\n",
      "Output:\r\n",
      "\"\"\"    \r\n",
      "    return \"ACTION: Update (\"+str(nParID)+\")\"\r\n",
      "# --- END ---\r\n"
     ]
    }
   ],
   "source": [
    "%%script bash\n",
    "grep -1 \"fUpdate\" ./rc/server/rest.py -A 8"
   ]
  },
  {
   "cell_type": "code",
   "execution_count": 2,
   "id": "563e4b8b",
   "metadata": {},
   "outputs": [
    {
     "name": "stdout",
     "output_type": "stream",
     "text": [
      "ACTION: Update (102)"
     ]
    },
    {
     "name": "stderr",
     "output_type": "stream",
     "text": [
      "  % Total    % Received % Xferd  Average Speed   Time    Time     Time  Current\r\n",
      "                                 Dload  Upload   Total   Spent    Left  Speed\r\n",
      "\r",
      "  0     0    0     0    0     0      0      0 --:--:-- --:--:-- --:--:--     0\r",
      "100    20  100    20    0     0  10000      0 --:--:-- --:--:-- --:--:-- 10000\r\n"
     ]
    }
   ],
   "source": [
    "%%script bash\n",
    "curl -X \"PUT\" http://127.0.0.1:5000/books/102"
   ]
  },
  {
   "cell_type": "code",
   "execution_count": 3,
   "id": "fdf03623",
   "metadata": {},
   "outputs": [],
   "source": [
    "exit()"
   ]
  },
  {
   "cell_type": "markdown",
   "id": "035816ae",
   "metadata": {},
   "source": [
    "< [Table of Contents](#top) | [References](#references) >\n",
    "<a id=\"introductionDesignAPISkeletonappInterfaceDELETE\"></a>\n",
    "***\n",
    "###### ``DELETE``\n",
    "***"
   ]
  },
  {
   "cell_type": "markdown",
   "id": "2d2988a9",
   "metadata": {},
   "source": [
    "- Delete (URL ``/books/id``) [1]"
   ]
  },
  {
   "cell_type": "code",
   "execution_count": 1,
   "id": "9b274e46",
   "metadata": {},
   "outputs": [
    {
     "name": "stdout",
     "output_type": "stream",
     "text": [
      "@app.route(rule=\"/books/<int:nParID>\",methods=[\"DELETE\"])\r\n",
      "def fDelete(nParID):\r\n",
      "    \"\"\"URL map for \"/books/<int:nParID>\" with method \"DELETE\".\r\n",
      "\r\n",
      "Input: \r\n",
      "Process: \r\n",
      "Output:\r\n",
      "\"\"\"    \r\n",
      "    return \"ACTION: Delete (\"+str(nParID)+\")\"\r\n",
      "# --- END ---\r\n"
     ]
    }
   ],
   "source": [
    "%%script bash\n",
    "grep -1 \"fDelete\" ./rc/server/rest.py -A 8"
   ]
  },
  {
   "cell_type": "code",
   "execution_count": 2,
   "id": "9162fa69",
   "metadata": {},
   "outputs": [
    {
     "name": "stdout",
     "output_type": "stream",
     "text": [
      "ACTION: Delete (103)"
     ]
    },
    {
     "name": "stderr",
     "output_type": "stream",
     "text": [
      "  % Total    % Received % Xferd  Average Speed   Time    Time     Time  Current\r\n",
      "                                 Dload  Upload   Total   Spent    Left  Speed\r\n",
      "\r",
      "  0     0    0     0    0     0      0      0 --:--:-- --:--:-- --:--:--     0\r",
      "100    20  100    20    0     0  10000      0 --:--:-- --:--:-- --:--:-- 10000\r\n"
     ]
    }
   ],
   "source": [
    "%%script bash\n",
    "curl -X \"DELETE\" http://127.0.0.1:5000/books/103"
   ]
  },
  {
   "cell_type": "code",
   "execution_count": 3,
   "id": "9326cc05",
   "metadata": {},
   "outputs": [],
   "source": [
    "exit()"
   ]
  },
  {
   "cell_type": "markdown",
   "id": "8ce8e6f4",
   "metadata": {},
   "source": [
    "< [Table of Contents](#top) | [References](#references) >\n",
    "<a id=\"introductionDesignAPISkeletonDatabase\"></a>\n",
    "***\n",
    "### Database\n",
    "***"
   ]
  },
  {
   "cell_type": "markdown",
   "id": "12b456da",
   "metadata": {},
   "source": [
    "- not linking into a database yet instead making a collection [1]"
   ]
  },
  {
   "cell_type": "markdown",
   "id": "505b1f2f",
   "metadata": {},
   "source": [
    "< [Table of Contents](#top) | [References](#references) >\n",
    "<a id=\"introductionDesignAPISkeletonDatabaseCollection\"></a>\n",
    "***\n",
    "###### Collection\n",
    "***"
   ]
  },
  {
   "cell_type": "markdown",
   "id": "f860ea5c",
   "metadata": {},
   "source": [
    "- collection of ``dict`` objects in memory on the server [1]"
   ]
  },
  {
   "cell_type": "code",
   "execution_count": 1,
   "id": "382da8b5",
   "metadata": {},
   "outputs": [
    {
     "name": "stdout",
     "output_type": "stream",
     "text": [
      "nBooks=[{\"id\":1,\"Title\":\"Harry Potter\",\"Author\":\"JK\",\"Price\":1000}, # type(nBooks[0]) # dict\r\n",
      "    {\"id\":2,\"Title\":\"A1 Cook book\",\"Author\":\"Mr Yo\",\"Price\":2000},\r\n",
      "    {\"id\":3,\"Title\":\"Python\",\"Author\":\"Mrs Bo\",\"Price\":3000}] # type(nBooks) # list\r\n",
      "nNextID=4 # create new increment\r\n"
     ]
    }
   ],
   "source": [
    "%%script bash\n",
    "grep \"nBooks=\" ./rc/server/rest.py -A 3"
   ]
  },
  {
   "cell_type": "code",
   "execution_count": 2,
   "id": "12b8e524",
   "metadata": {},
   "outputs": [],
   "source": [
    "exit()"
   ]
  },
  {
   "cell_type": "markdown",
   "id": "c123d348",
   "metadata": {},
   "source": [
    "< [Table of Contents](#top) | [References](#references) >\n",
    "<a id=\"introductionDesignAPISkeletonDatabaseCollectionflaskjsonify\"></a>\n",
    "***\n",
    "###### ``jsonify``\n",
    "***"
   ]
  },
  {
   "cell_type": "markdown",
   "id": "127ba257",
   "metadata": {},
   "source": [
    "- returns a JSON response in the browser (contents of a collection) - ``jsonify`` inputs the double qoutes [1]"
   ]
  },
  {
   "cell_type": "markdown",
   "id": "050ff7f8",
   "metadata": {},
   "source": [
    "< [Table of Contents](#top) | [References](#references) >\n",
    "<a id=\"introductionDesignAPISkeletonDatabaseCollectionflaskjsonifyGET\"></a>\n",
    "***\n",
    "###### ``GET``\n",
    "***"
   ]
  },
  {
   "cell_type": "markdown",
   "id": "070e696b",
   "metadata": {},
   "source": [
    "- Get all (URL ``/books``) [1]"
   ]
  },
  {
   "cell_type": "code",
   "execution_count": 1,
   "id": "a15a7d01",
   "metadata": {},
   "outputs": [
    {
     "name": "stdout",
     "output_type": "stream",
     "text": [
      "@app.route(rule=\"/books\")\r\n",
      "def fGetAll():\r\n",
      "    \"\"\"URL map for \"/books\" with method \"GET\".\r\n",
      "\r\n",
      "Input: \r\n",
      "Process: (flask.jsonify) \r\n",
      "Output:\r\n",
      "\"\"\"\r\n",
      "    from flask import jsonify\r\n",
      "    return jsonify(nBooks) # Content-Type # application/json\r\n",
      "# --- END ---\r\n"
     ]
    }
   ],
   "source": [
    "%%script bash\n",
    "grep -1 \"fGetAll\" ./rc/server/rest.py -A 9"
   ]
  },
  {
   "cell_type": "code",
   "execution_count": 2,
   "id": "a9af204c",
   "metadata": {},
   "outputs": [],
   "source": [
    "%%script bash\n",
    "start http://127.0.0.1:5000/books"
   ]
  },
  {
   "cell_type": "code",
   "execution_count": 3,
   "id": "68ae26b9",
   "metadata": {},
   "outputs": [
    {
     "name": "stdout",
     "output_type": "stream",
     "text": [
      "HTTP/1.0 200 OK\r\n",
      "Content-Type: application/json\r\n",
      "Content-Length: 282\r\n",
      "Server: Werkzeug/1.0.1 Python/3.8.8\r\n",
      "Date: Tue, 31 Aug 2021 09:25:05 GMT\r\n",
      "\r\n",
      "[\n",
      "  {\n",
      "    \"Author\": \"JK\", \n",
      "    \"Price\": 1000, \n",
      "    \"Title\": \"Harry Potter\", \n",
      "    \"id\": 1\n",
      "  }, \n",
      "  {\n",
      "    \"Author\": \"Mr Yo\", \n",
      "    \"Price\": 2000, \n",
      "    \"Title\": \"A1 Cook book\", \n",
      "    \"id\": 2\n",
      "  }, \n",
      "  {\n",
      "    \"Author\": \"Mrs Bo\", \n",
      "    \"Price\": 3000, \n",
      "    \"Title\": \"Python\", \n",
      "    \"id\": 3\n",
      "  }\n",
      "]\n"
     ]
    },
    {
     "name": "stderr",
     "output_type": "stream",
     "text": [
      "  % Total    % Received % Xferd  Average Speed   Time    Time     Time  Current\r\n",
      "                                 Dload  Upload   Total   Spent    Left  Speed\r\n",
      "\r",
      "  0     0    0     0    0     0      0      0 --:--:-- --:--:-- --:--:--     0\r",
      "100   282  100   282    0     0   275k      0 --:--:-- --:--:-- --:--:--  275k\r\n"
     ]
    }
   ],
   "source": [
    "%%script bash\n",
    "curl -i http://127.0.0.1:5000/books"
   ]
  },
  {
   "cell_type": "code",
   "execution_count": 4,
   "id": "3d42cf20",
   "metadata": {},
   "outputs": [],
   "source": [
    "exit()"
   ]
  },
  {
   "cell_type": "markdown",
   "id": "917fa28d",
   "metadata": {},
   "source": [
    "- Find by id (URL ``/books/id``) [1]"
   ]
  },
  {
   "cell_type": "markdown",
   "id": "ccd8d755",
   "metadata": {},
   "source": [
    "- create collection ``nFound`` (convert to ``list``) [1]"
   ]
  },
  {
   "cell_type": "markdown",
   "id": "7ec26a71",
   "metadata": {},
   "source": [
    "- ``filter`` via: i) 1st parameter ``lambda`` function which goes through each of the entries in the collection ``n`` whereby the ``id`` equals ``nParID`` passed and; ii) 2nd paramter is the actual collection ``nBooks`` [1]"
   ]
  },
  {
   "cell_type": "markdown",
   "id": "24be0342",
   "metadata": {},
   "source": [
    "- within ``lambda`` if ``n[\"id\"]==ParID`` then from the collection ``nBooks`` return a new collection ``nFound`` [1]"
   ]
  },
  {
   "cell_type": "code",
   "execution_count": 1,
   "id": "f07b853d",
   "metadata": {},
   "outputs": [
    {
     "name": "stdout",
     "output_type": "stream",
     "text": [
      "@app.route(rule=\"/books/<int:nParID>\")\r\n",
      "def fFindById(nParID):\r\n",
      "    \"\"\"URL map for \"/books/<int:nParID>\" with method \"GET\".\r\n",
      "\r\n",
      "Input: nParID\r\n",
      "Process: create collection (convert to list); \r\n",
      "    filter parameters: i) lambda and; ii) actual collection\r\n",
      "Output: if two books have same nParID then returns the first\r\n",
      "\"\"\"\r\n",
      "    from flask import jsonify\r\n",
      "    nFound=list(filter(lambda n:n[\"id\"]==nParID,nBooks))\r\n",
      "    # print(type(nFound)) # cURL (refer server): <class 'list'>\r\n",
      "    if len(nFound)==0: # test found nothing\r\n",
      "        return jsonify({}),204 # return empty 204\r\n",
      "    return jsonify(nFound[0]) # return first element\r\n",
      "# --- END ---\r\n"
     ]
    }
   ],
   "source": [
    "%%script bash\n",
    "grep -1 \"fFindById\" ./rc/server/rest.py -A 14"
   ]
  },
  {
   "cell_type": "code",
   "execution_count": 2,
   "id": "fff1172d",
   "metadata": {},
   "outputs": [],
   "source": [
    "%%script bash\n",
    "start http://127.0.0.1:5000/books/1"
   ]
  },
  {
   "cell_type": "code",
   "execution_count": 3,
   "id": "b43a4b04",
   "metadata": {},
   "outputs": [
    {
     "name": "stdout",
     "output_type": "stream",
     "text": [
      "HTTP/1.0 200 OK\r\n",
      "Content-Type: application/json\r\n",
      "Content-Length: 79\r\n",
      "Server: Werkzeug/1.0.1 Python/3.8.8\r\n",
      "Date: Tue, 31 Aug 2021 09:41:54 GMT\r\n",
      "\r\n",
      "{\n",
      "  \"Author\": \"JK\", \n",
      "  \"Price\": 1000, \n",
      "  \"Title\": \"Harry Potter\", \n",
      "  \"id\": 1\n",
      "}\n"
     ]
    },
    {
     "name": "stderr",
     "output_type": "stream",
     "text": [
      "  % Total    % Received % Xferd  Average Speed   Time    Time     Time  Current\r\n",
      "                                 Dload  Upload   Total   Spent    Left  Speed\r\n",
      "\r",
      "  0     0    0     0    0     0      0      0 --:--:-- --:--:-- --:--:--     0\r",
      "100    79  100    79    0     0  39500      0 --:--:-- --:--:-- --:--:-- 39500\r\n"
     ]
    }
   ],
   "source": [
    "%%script bash\n",
    "curl -i http://127.0.0.1:5000/books/1"
   ]
  },
  {
   "cell_type": "code",
   "execution_count": 4,
   "id": "867d7a2a",
   "metadata": {},
   "outputs": [],
   "source": [
    "exit()"
   ]
  },
  {
   "cell_type": "markdown",
   "id": "04532df6",
   "metadata": {},
   "source": [
    "< [Table of Contents](#top) | [References](#references) >\n",
    "<a id=\"introductionDesignAPISkeletonDatabaseCollectionflaskjsonifyPOST\"></a>\n",
    "***\n",
    "###### ``POST``\n",
    "***"
   ]
  },
  {
   "cell_type": "markdown",
   "id": "a82cbae7",
   "metadata": {},
   "source": [
    "- Create (URL ``/books``) [1]"
   ]
  },
  {
   "cell_type": "markdown",
   "id": "10181142",
   "metadata": {},
   "source": [
    "- need ``nNextID`` to create a new ``nBook`` [1]"
   ]
  },
  {
   "cell_type": "code",
   "execution_count": 1,
   "id": "1831213d",
   "metadata": {},
   "outputs": [
    {
     "name": "stdout",
     "output_type": "stream",
     "text": [
      "nNextID=4 # create new increment\r\n"
     ]
    }
   ],
   "source": [
    "%%script bash\n",
    "grep \"nNextID=\" ./rc/server/rest.py"
   ]
  },
  {
   "cell_type": "code",
   "execution_count": 2,
   "id": "b4edc423",
   "metadata": {},
   "outputs": [
    {
     "name": "stdout",
     "output_type": "stream",
     "text": [
      "    global nNextID # new book id\r\n"
     ]
    }
   ],
   "source": [
    "%%script bash\n",
    "grep \"global nNextID\" ./rc/server/rest.py"
   ]
  },
  {
   "cell_type": "code",
   "execution_count": 3,
   "id": "d52d4b1b",
   "metadata": {},
   "outputs": [],
   "source": [
    "exit()"
   ]
  },
  {
   "cell_type": "markdown",
   "id": "47576aec",
   "metadata": {},
   "source": [
    "< [Table of Contents](#top) | [References](#references) >\n",
    "<a id=\"introductionDesignAPISkeletonDatabaseCollectionflaskrequest\"></a>\n",
    "***\n",
    "###### ``request``\n",
    "***"
   ]
  },
  {
   "cell_type": "markdown",
   "id": "348d0185",
   "metadata": {},
   "source": [
    "&#x1F6A7;"
   ]
  },
  {
   "cell_type": "markdown",
   "id": "9cfed3ea",
   "metadata": {},
   "source": [
    "< [Table of Contents](#top) | [References](#references) >\n",
    "<a id=\"introductionDesignAPISkeletonDatabaseCollectionflaskrequestjson\"></a>\n",
    "***\n",
    "###### ``json``\n",
    "***"
   ]
  },
  {
   "cell_type": "markdown",
   "id": "b372bb82",
   "metadata": {},
   "source": [
    "- check if the ``request`` has ``json`` data (or if in the normal URL encoding) then return status code $400$ (error) [1]"
   ]
  },
  {
   "cell_type": "code",
   "execution_count": 1,
   "id": "d5ef8574",
   "metadata": {},
   "outputs": [
    {
     "name": "stdout",
     "output_type": "stream",
     "text": [
      "    if not request.json: # request no json\r\n",
      "        abort(400)\r\n"
     ]
    }
   ],
   "source": [
    "%%script bash\n",
    "grep \"not request.json\" ./rc/server/rest.py -A 1"
   ]
  },
  {
   "cell_type": "markdown",
   "id": "9154ba49",
   "metadata": {},
   "source": [
    "- reading from ``POST`` the data (``Title`` and ``Author`` and ``Price``) via ``request.json`` [1]"
   ]
  },
  {
   "cell_type": "code",
   "execution_count": 2,
   "id": "e8d8c7da",
   "metadata": {},
   "outputs": [
    {
     "name": "stdout",
     "output_type": "stream",
     "text": [
      "@app.route(rule=\"/books\",methods=[\"POST\"])\r\n",
      "def fCreate():\r\n",
      "    \"\"\"URL map for \"/books\" with method \"POST\".\r\n",
      "\r\n",
      "Input: \r\n",
      "Process: (flask.request.json; flask.abort; flask.jsonify)\r\n",
      "Output:\r\n",
      "\"\"\"\r\n",
      "    from flask import request,jsonify,abort\r\n",
      "    global nNextID # new book id\r\n",
      "    if not request.json: # request no json\r\n",
      "        abort(400)\r\n",
      "    nBook={\"id\":nNextID,\r\n",
      "        \"Title\":request.json[\"Title\"],\r\n",
      "        \"Author\":request.json[\"Author\"],\r\n",
      "        \"Price\":request.json[\"Price\"]} # create new book\r\n",
      "    nBooks.append(nBook) # append new book\r\n",
      "    nNextID+=1 # increment next new\r\n",
      "    return jsonify(nBook) # return new book\r\n",
      "# --- END ---\r\n"
     ]
    }
   ],
   "source": [
    "%%script bash\n",
    "grep -1 \"fCreate\" ./rc/server/rest.py -A 18"
   ]
  },
  {
   "cell_type": "code",
   "execution_count": 3,
   "id": "9d41848d",
   "metadata": {},
   "outputs": [
    {
     "name": "stdout",
     "output_type": "stream",
     "text": [
      "{\n",
      "  \"Author\": \"Denis Ritchie\", \n",
      "  \"Price\": 5000, \n",
      "  \"Title\": \"The C Programming Language\", \n",
      "  \"id\": 4\n",
      "}\n"
     ]
    },
    {
     "name": "stderr",
     "output_type": "stream",
     "text": [
      "  % Total    % Received % Xferd  Average Speed   Time    Time     Time  Current\r\n",
      "                                 Dload  Upload   Total   Spent    Left  Speed\r\n",
      "\r",
      "  0     0    0     0    0     0      0      0 --:--:-- --:--:-- --:--:--     0\r",
      "100   180  100   104  100    76  52000  38000 --:--:-- --:--:-- --:--:-- 90000\r\n"
     ]
    }
   ],
   "source": [
    "%%script bash\n",
    "curl -X \"POST\" -H \"content-type:application/json\" -d \"{\\\"Title\\\":\\\"The C Programming Language\\\",\\\"Author\\\":\\\"Denis Ritchie\\\",\\\"Price\\\":5000}\" http://127.0.0.1:5000/books"
   ]
  },
  {
   "cell_type": "code",
   "execution_count": 4,
   "id": "87f7e0ed",
   "metadata": {},
   "outputs": [
    {
     "name": "stdout",
     "output_type": "stream",
     "text": [
      "[\n",
      "  {\n",
      "    \"Author\": \"JK\", \n",
      "    \"Price\": 1000, \n",
      "    \"Title\": \"Harry Potter\", \n",
      "    \"id\": 1\n",
      "  }, \n",
      "  {\n",
      "    \"Author\": \"Mr Yo\", \n",
      "    \"Price\": 2000, \n",
      "    \"Title\": \"A1 Cook book\", \n",
      "    \"id\": 2\n",
      "  }, \n",
      "  {\n",
      "    \"Author\": \"Mrs Bo\", \n",
      "    \"Price\": 3000, \n",
      "    \"Title\": \"Python\", \n",
      "    \"id\": 3\n",
      "  }, \n",
      "  {\n",
      "    \"Author\": \"Denis Ritchie\", \n",
      "    \"Price\": 5000, \n",
      "    \"Title\": \"The C Programming Language\", \n",
      "    \"id\": 4\n",
      "  }\n",
      "]\n"
     ]
    },
    {
     "name": "stderr",
     "output_type": "stream",
     "text": [
      "  % Total    % Received % Xferd  Average Speed   Time    Time     Time  Current\r\n",
      "                                 Dload  Upload   Total   Spent    Left  Speed\r\n",
      "\r",
      "  0     0    0     0    0     0      0      0 --:--:-- --:--:-- --:--:--     0\r",
      "100   400  100   400    0     0   195k      0 --:--:-- --:--:-- --:--:--  195k\r\n"
     ]
    }
   ],
   "source": [
    "%%script bash\n",
    "curl http://127.0.0.1:5000/books # verify server add "
   ]
  },
  {
   "cell_type": "code",
   "execution_count": 5,
   "id": "05992029",
   "metadata": {},
   "outputs": [],
   "source": [
    "exit()"
   ]
  },
  {
   "cell_type": "markdown",
   "id": "867c8d7b",
   "metadata": {},
   "source": [
    "< [Table of Contents](#top) | [References](#references) >\n",
    "<a id=\"introductionDesignAPISkeletonDatabaseCollectionflaskrequestjsonPUT\"></a>\n",
    "***\n",
    "###### ``PUT``\n",
    "***"
   ]
  },
  {
   "cell_type": "markdown",
   "id": "24745664",
   "metadata": {},
   "source": [
    "- Update (URL ``/books/id``) [1]"
   ]
  },
  {
   "cell_type": "markdown",
   "id": "dda3157f",
   "metadata": {},
   "source": [
    "- find the book to be updated by taking in the ``id`` [1]"
   ]
  },
  {
   "cell_type": "code",
   "execution_count": 1,
   "id": "93193651",
   "metadata": {},
   "outputs": [
    {
     "name": "stdout",
     "output_type": "stream",
     "text": [
      "@app.route(rule=\"/books/<int:nParID>\",methods=[\"PUT\"])\r\n",
      "def fUpdate(nParID):\r\n",
      "    \"\"\"URL map for \"/books/<int:nParID>\" with method \"PUT\".\r\n",
      "\r\n",
      "Input: \r\n",
      "Process: (flask.request.json; flask.jsonify)\r\n",
      "Output:\r\n",
      "\"\"\" \r\n",
      "    from flask import jsonify,request\r\n",
      "    nFound=list(filter(lambda n:n[\"id\"]==nParID,nBooks))\r\n",
      "    if len(nFound)==0: # test found nothing\r\n",
      "        return jsonify({}),404 # return cannot find\r\n",
      "    nCurrent=nFound[0] # current is found\r\n",
      "    if \"Title\" in request.json:\r\n",
      "        nCurrent[\"Title\"]=request.json[\"Title\"] # current new Title\r\n",
      "    if \"Author\" in request.json:\r\n",
      "        nCurrent[\"Author\"]=request.json[\"Author\"] # current new Author\r\n",
      "    if \"Price\" in request.json:\r\n",
      "        nCurrent[\"Price\"]=request.json[\"Price\"] # current new Price\r\n",
      "    return jsonify(nCurrent) # return udpated book\r\n",
      "# --- END ---\r\n"
     ]
    }
   ],
   "source": [
    "%%script bash\n",
    "grep -1 \"fUpdate\" ./rc/server/rest.py -A 19"
   ]
  },
  {
   "cell_type": "code",
   "execution_count": 2,
   "id": "db31e1fd",
   "metadata": {},
   "outputs": [
    {
     "name": "stdout",
     "output_type": "stream",
     "text": [
      "[\n",
      "  {\n",
      "    \"Author\": \"JK\", \n",
      "    \"Price\": 1000, \n",
      "    \"Title\": \"Harry Potter\", \n",
      "    \"id\": 1\n",
      "  }, \n",
      "  {\n",
      "    \"Author\": \"Mr Yo\", \n",
      "    \"Price\": 2000, \n",
      "    \"Title\": \"A1 Cook book\", \n",
      "    \"id\": 2\n",
      "  }, \n",
      "  {\n",
      "    \"Author\": \"Mrs Bo\", \n",
      "    \"Price\": 3000, \n",
      "    \"Title\": \"Python\", \n",
      "    \"id\": 3\n",
      "  }\n",
      "]\n"
     ]
    },
    {
     "name": "stderr",
     "output_type": "stream",
     "text": [
      "  % Total    % Received % Xferd  Average Speed   Time    Time     Time  Current\r\n",
      "                                 Dload  Upload   Total   Spent    Left  Speed\r\n",
      "\r",
      "  0     0    0     0    0     0      0      0 --:--:-- --:--:-- --:--:--     0\r",
      "100   282  100   282    0     0  94000      0 --:--:-- --:--:-- --:--:-- 94000\r\n"
     ]
    }
   ],
   "source": [
    "%%script bash\n",
    "curl http://127.0.0.1:5000/books"
   ]
  },
  {
   "cell_type": "code",
   "execution_count": 3,
   "id": "35ebdffa",
   "metadata": {},
   "outputs": [
    {
     "name": "stdout",
     "output_type": "stream",
     "text": [
      "{\n",
      "  \"Author\": \"Joanne Rowling\", \n",
      "  \"Price\": 9000, \n",
      "  \"Title\": \"New Title\", \n",
      "  \"id\": 1\n",
      "}\n"
     ]
    },
    {
     "name": "stderr",
     "output_type": "stream",
     "text": [
      "  % Total    % Received % Xferd  Average Speed   Time    Time     Time  Current\r\n",
      "                                 Dload  Upload   Total   Spent    Left  Speed\r\n",
      "\r",
      "  0     0    0     0    0     0      0      0 --:--:-- --:--:-- --:--:--     0\r",
      "100   148  100    88  100    60  29333  20000 --:--:-- --:--:-- --:--:-- 49333\r\n"
     ]
    }
   ],
   "source": [
    "%%script bash\n",
    "curl -X \"PUT\" -H \"content-type:application/json\" -d \"{\\\"Title\\\":\\\"New Title\\\",\\\"Author\\\":\\\"Joanne Rowling\\\",\\\"Price\\\":9000}\" http://127.0.0.1:5000/books/1"
   ]
  },
  {
   "cell_type": "code",
   "execution_count": 4,
   "id": "3fc12ccb",
   "metadata": {},
   "outputs": [
    {
     "name": "stdout",
     "output_type": "stream",
     "text": [
      "[\n",
      "  {\n",
      "    \"Author\": \"Joanne Rowling\", \n",
      "    \"Price\": 9000, \n",
      "    \"Title\": \"New Title\", \n",
      "    \"id\": 1\n",
      "  }, \n",
      "  {\n",
      "    \"Author\": \"Mr Yo\", \n",
      "    \"Price\": 2000, \n",
      "    \"Title\": \"A1 Cook book\", \n",
      "    \"id\": 2\n",
      "  }, \n",
      "  {\n",
      "    \"Author\": \"Mrs Bo\", \n",
      "    \"Price\": 3000, \n",
      "    \"Title\": \"Python\", \n",
      "    \"id\": 3\n",
      "  }\n",
      "]\n"
     ]
    },
    {
     "name": "stderr",
     "output_type": "stream",
     "text": [
      "  % Total    % Received % Xferd  Average Speed   Time    Time     Time  Current\r\n",
      "                                 Dload  Upload   Total   Spent    Left  Speed\r\n",
      "\r",
      "  0     0    0     0    0     0      0      0 --:--:-- --:--:-- --:--:--     0\r",
      "100   291  100   291    0     0   142k      0 --:--:-- --:--:-- --:--:--  142k\r\n"
     ]
    }
   ],
   "source": [
    "%%script bash\n",
    "curl http://127.0.0.1:5000/books # verify id updated"
   ]
  },
  {
   "cell_type": "code",
   "execution_count": 5,
   "id": "b21488b9",
   "metadata": {},
   "outputs": [],
   "source": [
    "exit()"
   ]
  },
  {
   "cell_type": "markdown",
   "id": "b1330c77",
   "metadata": {},
   "source": [
    "< [Table of Contents](#top) | [References](#references) >\n",
    "<a id=\"introductionDesignAPISkeletonDatabaseCollectionflaskDELETE\"></a>\n",
    "***\n",
    "###### ``DELETE``\n",
    "***"
   ]
  },
  {
   "cell_type": "markdown",
   "id": "d499299e",
   "metadata": {},
   "source": [
    "- Delete (URL ``/books/id``) [1]"
   ]
  },
  {
   "cell_type": "markdown",
   "id": "ab59a65c",
   "metadata": {},
   "source": [
    "- take in ``id`` [1]"
   ]
  },
  {
   "cell_type": "code",
   "execution_count": 1,
   "id": "8c71da4f",
   "metadata": {},
   "outputs": [
    {
     "name": "stdout",
     "output_type": "stream",
     "text": [
      "@app.route(rule=\"/books/<int:nParID>\",methods=[\"DELETE\"])\r\n",
      "def fDelete(nParID):\r\n",
      "    \"\"\"URL map for \"/books/<int:nParID>\" with method \"DELETE\".\r\n",
      "\r\n",
      "Input: \r\n",
      "Process: (flask.jsonify)\r\n",
      "Output:\r\n",
      "\"\"\" \r\n",
      "    from flask import jsonify\r\n",
      "    nFound=list(filter(lambda n:n[\"id\"]==nParID,nBooks))\r\n",
      "    if len(nFound)==0: # test found nothing\r\n",
      "        return jsonify({}),404 # return cannot find\r\n",
      "    nBooks.remove(nFound[0]) # delete book found\r\n",
      "    return jsonify({\"done\":True})\r\n",
      "# --- END ---\r\n"
     ]
    }
   ],
   "source": [
    "%%script bash\n",
    "grep -1 \"fDelete\" ./rc/server/rest.py -A 13"
   ]
  },
  {
   "cell_type": "code",
   "execution_count": 2,
   "id": "8c866244",
   "metadata": {},
   "outputs": [
    {
     "name": "stdout",
     "output_type": "stream",
     "text": [
      "[\n",
      "  {\n",
      "    \"Author\": \"JK\", \n",
      "    \"Price\": 1000, \n",
      "    \"Title\": \"Harry Potter\", \n",
      "    \"id\": 1\n",
      "  }, \n",
      "  {\n",
      "    \"Author\": \"Mr Yo\", \n",
      "    \"Price\": 2000, \n",
      "    \"Title\": \"A1 Cook book\", \n",
      "    \"id\": 2\n",
      "  }, \n",
      "  {\n",
      "    \"Author\": \"Mrs Bo\", \n",
      "    \"Price\": 3000, \n",
      "    \"Title\": \"Python\", \n",
      "    \"id\": 3\n",
      "  }\n",
      "]\n"
     ]
    },
    {
     "name": "stderr",
     "output_type": "stream",
     "text": [
      "  % Total    % Received % Xferd  Average Speed   Time    Time     Time  Current\r\n",
      "                                 Dload  Upload   Total   Spent    Left  Speed\r\n",
      "\r",
      "  0     0    0     0    0     0      0      0 --:--:-- --:--:-- --:--:--     0\r",
      "100   282  100   282    0     0  94000      0 --:--:-- --:--:-- --:--:--  137k\r\n"
     ]
    }
   ],
   "source": [
    "%%script bash\n",
    "curl http://127.0.0.1:5000/books"
   ]
  },
  {
   "cell_type": "code",
   "execution_count": 3,
   "id": "3719cca7",
   "metadata": {},
   "outputs": [
    {
     "name": "stdout",
     "output_type": "stream",
     "text": [
      "{\n",
      "  \"done\": true\n",
      "}\n"
     ]
    },
    {
     "name": "stderr",
     "output_type": "stream",
     "text": [
      "  % Total    % Received % Xferd  Average Speed   Time    Time     Time  Current\r\n",
      "                                 Dload  Upload   Total   Spent    Left  Speed\r\n",
      "\r",
      "  0     0    0     0    0     0      0      0 --:--:-- --:--:-- --:--:--     0\r",
      "100    19  100    19    0     0   9500      0 --:--:-- --:--:-- --:--:--  9500\r\n"
     ]
    }
   ],
   "source": [
    "%%script bash\n",
    "curl -X DELETE http://127.0.0.1:5000/books/1"
   ]
  },
  {
   "cell_type": "code",
   "execution_count": 4,
   "id": "a543988d",
   "metadata": {},
   "outputs": [
    {
     "name": "stdout",
     "output_type": "stream",
     "text": [
      "[\n",
      "  {\n",
      "    \"Author\": \"Mr Yo\", \n",
      "    \"Price\": 2000, \n",
      "    \"Title\": \"A1 Cook book\", \n",
      "    \"id\": 2\n",
      "  }, \n",
      "  {\n",
      "    \"Author\": \"Mrs Bo\", \n",
      "    \"Price\": 3000, \n",
      "    \"Title\": \"Python\", \n",
      "    \"id\": 3\n",
      "  }\n",
      "]\n"
     ]
    },
    {
     "name": "stderr",
     "output_type": "stream",
     "text": [
      "  % Total    % Received % Xferd  Average Speed   Time    Time     Time  Current\r\n",
      "                                 Dload  Upload   Total   Spent    Left  Speed\r\n",
      "\r",
      "  0     0    0     0    0     0      0      0 --:--:-- --:--:-- --:--:--     0\r",
      "100   189  100   189    0     0  94500      0 --:--:-- --:--:-- --:--:-- 94500\r\n"
     ]
    }
   ],
   "source": [
    "%%script bash\n",
    "curl http://127.0.0.1:5000/books # verify id deleted"
   ]
  },
  {
   "cell_type": "code",
   "execution_count": 5,
   "id": "5aa17b10",
   "metadata": {},
   "outputs": [],
   "source": [
    "exit()"
   ]
  },
  {
   "cell_type": "markdown",
   "id": "dbc8b1a1",
   "metadata": {},
   "source": [
    "< [Table of Contents](#top) | [References](#references) >\n",
    "<a id=\"driver\"></a>\n",
    "***\n",
    "######  Driver\n",
    "***"
   ]
  },
  {
   "cell_type": "code",
   "execution_count": null,
   "id": "442ac764",
   "metadata": {},
   "outputs": [],
   "source": [
    "# fFile(\"./hide/DR9.4 DAO walkthrough - 18-11-2020.mp4\")"
   ]
  },
  {
   "cell_type": "markdown",
   "id": "817008ba",
   "metadata": {},
   "source": [
    "&#x1F6A7;"
   ]
  },
  {
   "cell_type": "markdown",
   "id": "7d0c4cea",
   "metadata": {},
   "source": [
    "< [Table of Contents](#top) | [References](#references) >\n",
    "<a id=\"mysqlconnector\"></a>\n",
    "***\n",
    "###### ``mysql.connector``\n",
    "***"
   ]
  },
  {
   "cell_type": "markdown",
   "id": "a87d2d18",
   "metadata": {},
   "source": [
    "&#x1F6A7;"
   ]
  },
  {
   "cell_type": "markdown",
   "id": "89cad7dd",
   "metadata": {},
   "source": [
    "< [Table of Contents](#top) | [References](#references) >\n",
    "<a id=\"mysqlconnectorconnect\"></a>\n",
    "*** \n",
    "###### ``connect`` ``:host`` ``:user`` ``:password`` ``:database``\n",
    "***"
   ]
  },
  {
   "cell_type": "code",
   "execution_count": 1,
   "id": "03fd141c",
   "metadata": {},
   "outputs": [],
   "source": [
    "from mysql.connector import connect"
   ]
  },
  {
   "cell_type": "code",
   "execution_count": 2,
   "id": "3dffc72f",
   "metadata": {},
   "outputs": [],
   "source": [
    "nObjMySQLConnection=connect(host=\"localhost\",user=\"root\",password=\"\",database=\"data_representation\") # establish a connection"
   ]
  },
  {
   "cell_type": "markdown",
   "id": "ca327fa4",
   "metadata": {},
   "source": [
    "< [Table of Contents](#top) | [References](#references) >\n",
    "<a id=\"mysqlconnectorMySQLCursorcursor\"></a>\n",
    "*** \n",
    "###### ``cursor``\n",
    "***"
   ]
  },
  {
   "cell_type": "code",
   "execution_count": 3,
   "id": "4b9cc607",
   "metadata": {},
   "outputs": [],
   "source": [
    "nInsObjCursor=nObjMySQLConnection.cursor() # traveral over records"
   ]
  },
  {
   "cell_type": "markdown",
   "id": "32d0d6cb",
   "metadata": {},
   "source": [
    "< [Table of Contents](#top) | [References](#references) >\n",
    "<a id=\"mysqlconnectorMySQLCursorexecute\"></a>\n",
    "*** \n",
    "###### ``execute``\n",
    "***"
   ]
  },
  {
   "cell_type": "code",
   "execution_count": 4,
   "id": "4f177b7c",
   "metadata": {},
   "outputs": [
    {
     "name": "stdout",
     "output_type": "stream",
     "text": [
      "('student',)\n"
     ]
    }
   ],
   "source": [
    "nInsObjCursor.execute(\"show tables\") # abstracts away access\n",
    "for nEachTable in nInsObjCursor:\n",
    "    print(nEachTable)"
   ]
  },
  {
   "cell_type": "code",
   "execution_count": 5,
   "id": "f8f4a833",
   "metadata": {},
   "outputs": [],
   "source": [
    "nInsObjCursor.execute(\"CREATE TABLE book(id INT NOT NULL AUTO_INCREMENT,title VARCHAR(250),author VARCHAR(250),price INT,PRIMARY KEY(id))\") # create table book"
   ]
  },
  {
   "cell_type": "code",
   "execution_count": 6,
   "id": "f2d8ae75",
   "metadata": {},
   "outputs": [
    {
     "name": "stdout",
     "output_type": "stream",
     "text": [
      "('book',)\n",
      "('student',)\n"
     ]
    }
   ],
   "source": [
    "nInsObjCursor.execute(\"show tables\")\n",
    "for nEachTable in nInsObjCursor:\n",
    "    print(nEachTable)"
   ]
  },
  {
   "cell_type": "code",
   "execution_count": 7,
   "id": "20ff7eac",
   "metadata": {},
   "outputs": [],
   "source": [
    "exit()"
   ]
  },
  {
   "cell_type": "markdown",
   "id": "5f089f7b",
   "metadata": {},
   "source": [
    "< [Table of Contents](#top) | [References](#references) >\n",
    "<a id=\"introductionDesignAPISkeletonDatabaseDAO\"></a>\n",
    "***\n",
    "###### ``DAO``\n",
    "***"
   ]
  },
  {
   "cell_type": "markdown",
   "id": "315e384f",
   "metadata": {},
   "source": [
    "- the ``DAO`` interacts with ``mysql.connector`` [3]"
   ]
  },
  {
   "cell_type": "markdown",
   "id": "a852366a",
   "metadata": {},
   "source": [
    "- generating ``dict`` objects of information which can be easily translated into ``json`` by the server [3]"
   ]
  },
  {
   "cell_type": "markdown",
   "id": "3a80729a",
   "metadata": {},
   "source": [
    "![DAO](https://github.com/SeanOhAileasa/SeanOhAileasa/blob/master/rc/drp/dao/architecture.png?raw=true)\n",
    "\n",
    "***(Image) A. Beatty, \"DR9.4 DAO walkthrough,\" GMIT, November 2020.***"
   ]
  },
  {
   "cell_type": "markdown",
   "id": "4220c29a",
   "metadata": {},
   "source": [
    "< [Table of Contents](#top) | [References](#references) >\n",
    "<a id=\"CStudentDAO\"></a>\n",
    "*** \n",
    "###### ``CBookDAO``\n",
    "***"
   ]
  },
  {
   "cell_type": "code",
   "execution_count": 1,
   "id": "c94474a2",
   "metadata": {},
   "outputs": [
    {
     "name": "stdout",
     "output_type": "stream",
     "text": [
      "from mysql.connector import connect\r\n"
     ]
    }
   ],
   "source": [
    "%%script bash\n",
    "grep \"mysql.connector\" ./DAO/BookDAO.py"
   ]
  },
  {
   "cell_type": "code",
   "execution_count": 2,
   "id": "e1c1c557",
   "metadata": {
    "scrolled": true
   },
   "outputs": [
    {
     "name": "stdout",
     "output_type": "stream",
     "text": [
      "# define class - CBookDAO\r\n",
      "class CBookDAO: # blueprint state functionality\r\n",
      "\tnClsAttDB=\"\" # for all instances\r\n"
     ]
    }
   ],
   "source": [
    "%%script bash\n",
    "grep -1 \"class CBookDAO\" ./DAO/BookDAO.py -A 1 #  initialisation creates connection"
   ]
  },
  {
   "cell_type": "markdown",
   "id": "f2c0a914",
   "metadata": {},
   "source": [
    "- on a production server would: i) use a connection pool and; ii) not hard code ``connect`` parameters (``host`` and ``user`` and ``password`` and ``database``) given these change from machine to machine (instead read from a configuration file) [3]"
   ]
  },
  {
   "cell_type": "code",
   "execution_count": 3,
   "id": "c0c8de8a",
   "metadata": {},
   "outputs": [
    {
     "name": "stdout",
     "output_type": "stream",
     "text": [
      "\tdef __init__(self): # initialise object state\r\n",
      "\t\t\"\"\" Using class attribute to create default value (state).\r\n",
      "\r\n",
      "\tInput: object itself (self)\r\n",
      "\tProcess: nClsAttDB\r\n",
      "\tOutput: called automatically when creating a new instance of CBookDAO\r\n",
      "\t\"\"\"\r\n",
      "\t\tself.nClsAttDB=connect(host=\"localhost\",user=\"root\",password=\"\",database=\"data_representation\") # establish a connection\r\n",
      "\t\tprint(\"<Connection Successful>\")\r\n"
     ]
    }
   ],
   "source": [
    "%%script bash\n",
    "grep -7 \"self.nClsAttDB=conn\" ./DAO/BookDAO.py -A 1 # when initialisation occurs"
   ]
  },
  {
   "cell_type": "code",
   "execution_count": 4,
   "id": "47f6f0c9",
   "metadata": {},
   "outputs": [],
   "source": [
    "from DAO.bookDAO import CBookDAO"
   ]
  },
  {
   "cell_type": "code",
   "execution_count": 5,
   "id": "c1d955d5",
   "metadata": {},
   "outputs": [
    {
     "name": "stdout",
     "output_type": "stream",
     "text": [
      "<Connection Successful>\n"
     ]
    }
   ],
   "source": [
    "# instantiate object - CBookDAO\n",
    "nInsObjBook=CBookDAO()"
   ]
  },
  {
   "cell_type": "code",
   "execution_count": 6,
   "id": "cc8f0f34",
   "metadata": {},
   "outputs": [],
   "source": [
    "exit()"
   ]
  },
  {
   "cell_type": "markdown",
   "id": "f14bb5aa",
   "metadata": {},
   "source": [
    "< [Table of Contents](#top) | [References](#references) >\n",
    "<a id=\"CStudentDAOcreateRUD\"></a>\n",
    "*** \n",
    "###### C\n",
    "***"
   ]
  },
  {
   "cell_type": "code",
   "execution_count": 1,
   "id": "a755fad9",
   "metadata": {
    "scrolled": true
   },
   "outputs": [
    {
     "name": "stdout",
     "output_type": "stream",
     "text": [
      "\tdef fInsMetCreate(self,nInsAttJSON):\r\n",
      "\t\t\"\"\" Create record from JSON object passed (and extract).\r\n",
      "\tInput: object itself (self); nInsAttJSON\r\n",
      "\tProcess: nClsAttDBC\r\n",
      "\tOutput: record created and return id\r\n",
      "\t\"\"\"\t\t\r\n",
      "\t\tnInsObjCursor=self.nClsAttDB.cursor() # traveral over records\r\n",
      "\t\tsqlQuery=\"INSERT INTO book (title,author,price) VALUES (%s,%s,%s)\"\r\n",
      "\t\tnValues=[nInsAttJSON[\"title\"],nInsAttJSON[\"author\"],nInsAttJSON[\"price\"]]\r\n",
      "\t\tnInsObjCursor.execute(sqlQuery,nValues) # abstracts away access\r\n",
      "\t\tself.nClsAttDB.commit() # commit current transaction\r\n",
      "\t\treturn nInsObjCursor.lastrowid\r\n"
     ]
    }
   ],
   "source": [
    "%%script bash\n",
    "grep \"def fInsMetCreate\" ./DAO/BookDAO.py -A 11"
   ]
  },
  {
   "cell_type": "code",
   "execution_count": 2,
   "id": "b71f7cd4",
   "metadata": {},
   "outputs": [],
   "source": [
    "from DAO.bookDAO import CBookDAO"
   ]
  },
  {
   "cell_type": "code",
   "execution_count": 3,
   "id": "1ed9867c",
   "metadata": {},
   "outputs": [
    {
     "name": "stdout",
     "output_type": "stream",
     "text": [
      "<Connection Successful>\n"
     ]
    }
   ],
   "source": [
    "# instantiate object - CBookDAO\n",
    "nInsObjBook=CBookDAO()"
   ]
  },
  {
   "cell_type": "code",
   "execution_count": 4,
   "id": "37f535f5",
   "metadata": {},
   "outputs": [],
   "source": [
    "nBook={\"title\":\"Python Crash Course\",\"author\":\"Eric Matthes\",\"price\":2000} # later to server"
   ]
  },
  {
   "cell_type": "code",
   "execution_count": 5,
   "id": "b37d873d",
   "metadata": {
    "scrolled": false
   },
   "outputs": [
    {
     "data": {
      "text/plain": [
       "1"
      ]
     },
     "execution_count": 5,
     "metadata": {},
     "output_type": "execute_result"
    }
   ],
   "source": [
    "nInsObjBook.fInsMetCreate(nBook)"
   ]
  },
  {
   "cell_type": "code",
   "execution_count": 6,
   "id": "3c8a7f12",
   "metadata": {},
   "outputs": [
    {
     "data": {
      "text/plain": [
       "2"
      ]
     },
     "execution_count": 6,
     "metadata": {},
     "output_type": "execute_result"
    }
   ],
   "source": [
    "nInsObjBook.fInsMetCreate({\"title\":\"Learning Python\",\"author\":\"Mark Lutz\",\"price\":3000})"
   ]
  },
  {
   "cell_type": "code",
   "execution_count": 7,
   "id": "3ef1e57f",
   "metadata": {},
   "outputs": [],
   "source": [
    "exit()"
   ]
  },
  {
   "cell_type": "markdown",
   "id": "dc013900",
   "metadata": {},
   "source": [
    "< [Table of Contents](#top) | [References](#references) >\n",
    "<a id=\"CStudentDAOcReadUD\"></a>\n",
    "*** \n",
    "###### R\n",
    "***"
   ]
  },
  {
   "cell_type": "code",
   "execution_count": 1,
   "id": "0d30065e",
   "metadata": {
    "scrolled": true
   },
   "outputs": [
    {
     "name": "stdout",
     "output_type": "stream",
     "text": [
      "\tdef fInsMetGetAllTuple(self):\r\n",
      "\t\t\"\"\" Return all records (as tuples).\r\n",
      "\t\tRequires converting the tuples manually into a collection of dict objects (later converting to JSON).\r\n",
      "\r\n",
      "\tInput: object itself (self)\r\n",
      "\tProcess: nClsAttDB\r\n",
      "\tOutput: show all records as a collection of tuples\r\n",
      "\t\"\"\"\t\t\t\r\n",
      "\t\tnInsObjCursor=self.nClsAttDB.cursor()\r\n",
      "\t\tnInsObjCursor.execute(\"SELECT * FROM book\")\r\n",
      "\t\treturn nInsObjCursor.fetchall()\r\n"
     ]
    }
   ],
   "source": [
    "%%script bash\n",
    "grep \"def fInsMetGetAllTuple\" ./DAO/BookDAO.py -A 10"
   ]
  },
  {
   "cell_type": "code",
   "execution_count": 2,
   "id": "09afba2d",
   "metadata": {},
   "outputs": [],
   "source": [
    "from DAO.bookDAO import CBookDAO"
   ]
  },
  {
   "cell_type": "code",
   "execution_count": 3,
   "id": "6adb9808",
   "metadata": {},
   "outputs": [
    {
     "name": "stdout",
     "output_type": "stream",
     "text": [
      "<Connection Successful>\n"
     ]
    }
   ],
   "source": [
    "# instantiate object - CBookDAO\n",
    "nInsObjBook=CBookDAO()"
   ]
  },
  {
   "cell_type": "code",
   "execution_count": 4,
   "id": "4f5c62fd",
   "metadata": {
    "scrolled": true
   },
   "outputs": [
    {
     "data": {
      "text/plain": [
       "[(1, 'Python Crash Course', 'Eric Matthes', 2000),\n",
       " (2, 'Learning Python', 'Mark Lutz', 3000)]"
      ]
     },
     "execution_count": 4,
     "metadata": {},
     "output_type": "execute_result"
    }
   ],
   "source": [
    "nInsObjBook.fInsMetGetAllTuple() # collection of tuple"
   ]
  },
  {
   "cell_type": "code",
   "execution_count": 5,
   "id": "ffccde9d",
   "metadata": {},
   "outputs": [
    {
     "name": "stdout",
     "output_type": "stream",
     "text": [
      "\tdef fInsMetConvert2Dict(self,nInsAttResult):\r\n",
      "\t\t\"\"\" Iterate and extract from table book its column names to make a dict object.\r\n",
      "\t\tCan send the dict object to HTML later.\r\n",
      "\r\n",
      "\tInput: object itself (self); nInsAttResult\r\n",
      "\tProcess: nClsAttDB; \r\n",
      "\t\ta. create list of column names;\r\n",
      "\t\tb. create dict object;\r\n",
      "\t\tc. test NULL not passed (check nInsAttResult exists);\r\n",
      "\t\td. iterate column names one at a time using a.) number and b.) names;\r\n",
      "\t\te. enumerate through the columns names and;\r\n",
      "\t\tf. extract value from nInsAttResult and assign item that matches it \r\n",
      "\tOutput: show all records as a collection of dicts\r\n",
      "\t\"\"\"\t\r\n",
      "\t\tnColumnNames=[\"id\",\"title\",\"author\",\"price\"]\r\n",
      "\t\tnBookDict={}\r\n",
      "\t\tif nInsAttResult:\r\n",
      "\t\t\tfor i,nEachName in enumerate(nColumnNames):\r\n",
      "\t\t\t\tnValues=nInsAttResult[i]\r\n",
      "\t\t\t\tnBookDict[nEachName]=nValues\r\n",
      "\t\treturn nBookDict\r\n"
     ]
    }
   ],
   "source": [
    "%%script bash\n",
    "grep \"def fInsMetConvert2Dict\" ./DAO/BookDAO.py -A 20"
   ]
  },
  {
   "cell_type": "code",
   "execution_count": 6,
   "id": "f416ac90",
   "metadata": {},
   "outputs": [
    {
     "name": "stdout",
     "output_type": "stream",
     "text": [
      "\tdef fInsMetGetAllDict(self):\r\n",
      "\t\t\"\"\" Replace fInsMetGetAllTuple to return all records (as dict).\r\n",
      "\r\n",
      "\tInput: object itself (self)\r\n",
      "\tProcess: nClsAttDB; fInsMetConvert2Dict\r\n",
      "\tOutput: show all records as a collection of dict objects\r\n",
      "\t\"\"\"\t\t\t\r\n",
      "\t\tnInsObjCursor=self.nClsAttDB.cursor()\r\n",
      "\t\tnInsObjCursor.execute(\"SELECT * FROM book\")\r\n",
      "\t\tnResult=nInsObjCursor.fetchall() # return a tuple\r\n",
      "\t\tnCollectionDict=[]\r\n",
      "\t\tfor nEachResult in nResult:\r\n",
      "\t\t\tnCollectionDict.append(self.fInsMetConvert2Dict(nEachResult)) # convert dict object\r\n",
      "\t\treturn nCollectionDict\r\n"
     ]
    }
   ],
   "source": [
    "%%script bash\n",
    "grep \"def fInsMetGetAllDict\" ./DAO/BookDAO.py -A 13"
   ]
  },
  {
   "cell_type": "code",
   "execution_count": 7,
   "id": "0b21d298",
   "metadata": {
    "scrolled": true
   },
   "outputs": [
    {
     "data": {
      "text/plain": [
       "[{'id': 1,\n",
       "  'title': 'Python Crash Course',\n",
       "  'author': 'Eric Matthes',\n",
       "  'price': 2000},\n",
       " {'id': 2, 'title': 'Learning Python', 'author': 'Mark Lutz', 'price': 3000}]"
      ]
     },
     "execution_count": 7,
     "metadata": {},
     "output_type": "execute_result"
    }
   ],
   "source": [
    "nInsObjBook.fInsMetGetAllDict() # collection of dict"
   ]
  },
  {
   "cell_type": "markdown",
   "id": "843d7161",
   "metadata": {},
   "source": [
    "- find by id [3]"
   ]
  },
  {
   "cell_type": "code",
   "execution_count": 8,
   "id": "0087fabf",
   "metadata": {},
   "outputs": [
    {
     "name": "stdout",
     "output_type": "stream",
     "text": [
      "\tdef fInsMetGetByID(self,nInsAttID):\r\n",
      "\t\t\"\"\" Find record by ID via tuple (converting to dict).\r\n",
      "\r\n",
      "\tInput: object itself (self); nInsAttID\r\n",
      "\tProcess: nClsAttDB; fInsMetConvert2Dict\r\n",
      "\tOutput: show record by ID\r\n",
      "\t\"\"\"\t\t\t\r\n",
      "\t\tnInsObjCursor=self.nClsAttDB.cursor()\r\n",
      "\t\tnInsObjCursor.execute(\"SELECT * FROM book WHERE id=%s\",(nInsAttID,))\r\n",
      "\t\treturn self.fInsMetConvert2Dict(nInsObjCursor.fetchone())\r\n"
     ]
    }
   ],
   "source": [
    "%%script bash\n",
    "grep \"def fInsMetGetByID\" ./DAO/BookDAO.py -A 9"
   ]
  },
  {
   "cell_type": "code",
   "execution_count": 9,
   "id": "b86e808d",
   "metadata": {},
   "outputs": [
    {
     "data": {
      "text/plain": [
       "{'id': 2, 'title': 'Learning Python', 'author': 'Mark Lutz', 'price': 3000}"
      ]
     },
     "execution_count": 9,
     "metadata": {},
     "output_type": "execute_result"
    }
   ],
   "source": [
    "nInsObjBook.fInsMetGetByID(2)"
   ]
  },
  {
   "cell_type": "code",
   "execution_count": 10,
   "id": "b9202f5c",
   "metadata": {},
   "outputs": [
    {
     "data": {
      "text/plain": [
       "{'id': 1,\n",
       " 'title': 'Python Crash Course',\n",
       " 'author': 'Eric Matthes',\n",
       " 'price': 2000}"
      ]
     },
     "execution_count": 10,
     "metadata": {},
     "output_type": "execute_result"
    }
   ],
   "source": [
    "nInsObjBook.fInsMetGetByID(1)"
   ]
  },
  {
   "cell_type": "code",
   "execution_count": 11,
   "id": "3c3b412d",
   "metadata": {},
   "outputs": [],
   "source": [
    "exit()"
   ]
  },
  {
   "cell_type": "markdown",
   "id": "4a7a5658",
   "metadata": {},
   "source": [
    "< [Table of Contents](#top) | [References](#references) >\n",
    "<a id=\"CStudentDAOCRUpdateD\"></a>\n",
    "*** \n",
    "###### U\n",
    "***"
   ]
  },
  {
   "cell_type": "code",
   "execution_count": 1,
   "id": "3b845a7c",
   "metadata": {
    "scrolled": true
   },
   "outputs": [
    {
     "name": "stdout",
     "output_type": "stream",
     "text": [
      "\tdef fInsMetUpdate(self,nInsAttDict):\r\n",
      "\t\t\"\"\" Passing dict object update record.\r\n",
      "\r\n",
      "\tInput: object itself (self); nInsAttDict\r\n",
      "\tProcess: nClsAttDB\r\n",
      "\tOutput: update record by dict object\r\n",
      "\t\"\"\"\t\t\t\r\n",
      "\t\tnInsObjCursor=self.nClsAttDB.cursor()\r\n",
      "\t\tnNameValue=[nInsAttDict[\"title\"],nInsAttDict[\"author\"],nInsAttDict[\"price\"],nInsAttDict[\"id\"]] # match query order\r\n",
      "\t\tnInsObjCursor.execute(\"UPDATE book SET title=%s,author=%s,price=%s WHERE id=%s\",nNameValue)\r\n",
      "\t\tself.nClsAttDB.commit()\r\n",
      "\t\treturn nInsAttDict\r\n"
     ]
    }
   ],
   "source": [
    "%%script bash\n",
    "grep \"def fInsMetUpdate\" ./DAO/BookDAO.py -A 11"
   ]
  },
  {
   "cell_type": "code",
   "execution_count": 2,
   "id": "8f56b4ed",
   "metadata": {},
   "outputs": [],
   "source": [
    "from DAO.bookDAO import CBookDAO"
   ]
  },
  {
   "cell_type": "code",
   "execution_count": 3,
   "id": "06456258",
   "metadata": {},
   "outputs": [
    {
     "name": "stdout",
     "output_type": "stream",
     "text": [
      "<Connection Successful>\n"
     ]
    }
   ],
   "source": [
    "# instantiate object - CBookDAO\n",
    "nInsObjBook=CBookDAO() "
   ]
  },
  {
   "cell_type": "code",
   "execution_count": 4,
   "id": "dfdc52a9",
   "metadata": {},
   "outputs": [
    {
     "data": {
      "text/plain": [
       "{'id': 1,\n",
       " 'title': 'Python Crash Course',\n",
       " 'author': 'Eric Matthes',\n",
       " 'price': 2000}"
      ]
     },
     "execution_count": 4,
     "metadata": {},
     "output_type": "execute_result"
    }
   ],
   "source": [
    "nInsObjBook.fInsMetGetByID(1)"
   ]
  },
  {
   "cell_type": "code",
   "execution_count": 5,
   "id": "886f63a5",
   "metadata": {},
   "outputs": [
    {
     "data": {
      "text/plain": [
       "{'id': 1, 'title': 'Head-First Python', 'author': 'Paul Barry', 'price': 2000}"
      ]
     },
     "execution_count": 5,
     "metadata": {},
     "output_type": "execute_result"
    }
   ],
   "source": [
    "nInsObjBook.fInsMetUpdate({\"id\":1,\"title\":\"Head-First Python\",\"author\":\"Paul Barry\",\"price\":2000}) # pass dict object"
   ]
  },
  {
   "cell_type": "code",
   "execution_count": 6,
   "id": "21926197",
   "metadata": {
    "scrolled": true
   },
   "outputs": [
    {
     "data": {
      "text/plain": [
       "{'id': 1, 'title': 'Head-First Python', 'author': 'Paul Barry', 'price': 2000}"
      ]
     },
     "execution_count": 6,
     "metadata": {},
     "output_type": "execute_result"
    }
   ],
   "source": [
    "nInsObjBook.fInsMetGetByID(1)"
   ]
  },
  {
   "cell_type": "code",
   "execution_count": 7,
   "id": "3d40ec20",
   "metadata": {
    "scrolled": true
   },
   "outputs": [
    {
     "data": {
      "text/plain": [
       "[{'id': 1,\n",
       "  'title': 'Head-First Python',\n",
       "  'author': 'Paul Barry',\n",
       "  'price': 2000},\n",
       " {'id': 2, 'title': 'Learning Python', 'author': 'Mark Lutz', 'price': 3000}]"
      ]
     },
     "execution_count": 7,
     "metadata": {},
     "output_type": "execute_result"
    }
   ],
   "source": [
    "nInsObjBook.fInsMetGetAllDict()"
   ]
  },
  {
   "cell_type": "code",
   "execution_count": 8,
   "id": "55e2ab88",
   "metadata": {},
   "outputs": [],
   "source": [
    "exit()"
   ]
  },
  {
   "cell_type": "markdown",
   "id": "9a878836",
   "metadata": {},
   "source": [
    "< [Table of Contents](#top) | [References](#references) >\n",
    "<a id=\"CStudentDAOCRUDelete\"></a>\n",
    "*** \n",
    "###### D\n",
    "***"
   ]
  },
  {
   "cell_type": "code",
   "execution_count": 1,
   "id": "d46b0f1c",
   "metadata": {},
   "outputs": [],
   "source": [
    "from DAO.bookDAO import CBookDAO"
   ]
  },
  {
   "cell_type": "code",
   "execution_count": 2,
   "id": "8e74f690",
   "metadata": {},
   "outputs": [
    {
     "name": "stdout",
     "output_type": "stream",
     "text": [
      "<Connection Successful>\n"
     ]
    }
   ],
   "source": [
    "# instantiate object - CBookDAO\n",
    "nInsObjBook=CBookDAO() "
   ]
  },
  {
   "cell_type": "code",
   "execution_count": 3,
   "id": "ae6374e1",
   "metadata": {},
   "outputs": [
    {
     "name": "stdout",
     "output_type": "stream",
     "text": [
      "\tdef fInsMetDeleteTuple(self,nInsAttID):\r\n",
      "\t\t\"\"\" Using the values (%s) from somewhere passed in as a tuple executing as a variable delete record.\r\n",
      "\r\n",
      "\tInput: object itself (self); nInsAttID\r\n",
      "\tProcess: nClsAttDB\r\n",
      "\tOutput: record deleted\r\n",
      "\t\"\"\"\r\n",
      "\t\tnInsObjCursor=self.nClsAttDB.cursor()\r\n",
      "\t\tnInsObjCursor.execute(\"DELETE FROM book where id=%s\",(nInsAttID,))\r\n",
      "\t\tself.nClsAttDB.commit()\r\n",
      "\t\treturn {}\r\n"
     ]
    }
   ],
   "source": [
    "%%script bash\n",
    "grep \"def fInsMetDeleteTuple\" ./DAO/BookDAO.py -A 10"
   ]
  },
  {
   "cell_type": "code",
   "execution_count": 4,
   "id": "b5d34833",
   "metadata": {},
   "outputs": [
    {
     "data": {
      "text/plain": [
       "[{'id': 1,\n",
       "  'title': 'Head-First Python',\n",
       "  'author': 'Paul Barry',\n",
       "  'price': 2000},\n",
       " {'id': 2, 'title': 'Learning Python', 'author': 'Mark Lutz', 'price': 3000}]"
      ]
     },
     "execution_count": 4,
     "metadata": {},
     "output_type": "execute_result"
    }
   ],
   "source": [
    "nInsObjBook.fInsMetGetAllDict()"
   ]
  },
  {
   "cell_type": "code",
   "execution_count": 5,
   "id": "890a8615",
   "metadata": {},
   "outputs": [
    {
     "data": {
      "text/plain": [
       "{}"
      ]
     },
     "execution_count": 5,
     "metadata": {},
     "output_type": "execute_result"
    }
   ],
   "source": [
    "nInsObjBook.fInsMetDeleteTuple(1) # delete ìd 1 "
   ]
  },
  {
   "cell_type": "code",
   "execution_count": 6,
   "id": "de769502",
   "metadata": {},
   "outputs": [
    {
     "data": {
      "text/plain": [
       "[{'id': 2, 'title': 'Learning Python', 'author': 'Mark Lutz', 'price': 3000}]"
      ]
     },
     "execution_count": 6,
     "metadata": {},
     "output_type": "execute_result"
    }
   ],
   "source": [
    "nInsObjBook.fInsMetGetAllDict()"
   ]
  },
  {
   "cell_type": "code",
   "execution_count": 7,
   "id": "e459644d",
   "metadata": {},
   "outputs": [],
   "source": [
    "exit()"
   ]
  },
  {
   "cell_type": "code",
   "execution_count": 1,
   "id": "e46a0e42",
   "metadata": {},
   "outputs": [],
   "source": [
    "from DAO.bookDAO import CBookDAO"
   ]
  },
  {
   "cell_type": "code",
   "execution_count": 2,
   "id": "e65b02ee",
   "metadata": {},
   "outputs": [
    {
     "name": "stdout",
     "output_type": "stream",
     "text": [
      "<Connection Successful>\n"
     ]
    }
   ],
   "source": [
    "# instantiate object - CBookDAO\n",
    "nInsObjBook=CBookDAO() "
   ]
  },
  {
   "cell_type": "code",
   "execution_count": 3,
   "id": "eda50128",
   "metadata": {},
   "outputs": [
    {
     "data": {
      "text/plain": [
       "[{'id': 2, 'title': 'Learning Python', 'author': 'Mark Lutz', 'price': 3000}]"
      ]
     },
     "execution_count": 3,
     "metadata": {},
     "output_type": "execute_result"
    }
   ],
   "source": [
    "nInsObjBook.fInsMetGetAllDict()"
   ]
  },
  {
   "cell_type": "code",
   "execution_count": 4,
   "id": "c4e5ba60",
   "metadata": {
    "scrolled": true
   },
   "outputs": [
    {
     "data": {
      "text/plain": [
       "3"
      ]
     },
     "execution_count": 4,
     "metadata": {},
     "output_type": "execute_result"
    }
   ],
   "source": [
    "nInsObjBook.fInsMetCreate({\"title\":\"Python Crash Course\",\"author\":\"Eric Matthes\",\"price\":2000})"
   ]
  },
  {
   "cell_type": "code",
   "execution_count": 5,
   "id": "75569be5",
   "metadata": {
    "scrolled": true
   },
   "outputs": [
    {
     "data": {
      "text/plain": [
       "[{'id': 3,\n",
       "  'title': 'Python Crash Course',\n",
       "  'author': 'Eric Matthes',\n",
       "  'price': 2000},\n",
       " {'id': 2, 'title': 'Learning Python', 'author': 'Mark Lutz', 'price': 3000}]"
      ]
     },
     "execution_count": 5,
     "metadata": {},
     "output_type": "execute_result"
    }
   ],
   "source": [
    "nInsObjBook.fInsMetGetAllDict()"
   ]
  },
  {
   "cell_type": "code",
   "execution_count": 6,
   "id": "6c646e34",
   "metadata": {},
   "outputs": [],
   "source": [
    "n={\"id\":4,\"title\":\"Python Crash Course\",\"author\":\"Eric Matthes\",\"price\":2000}"
   ]
  },
  {
   "cell_type": "code",
   "execution_count": 7,
   "id": "9386d6b7",
   "metadata": {},
   "outputs": [
    {
     "name": "stdout",
     "output_type": "stream",
     "text": [
      "\tdef fInsMetDeleteJSON(self,nInsAttJSON):\r\n",
      "\t\t\"\"\" Passing dict index id object to delete record.\r\n",
      "\r\n",
      "\tInput: object itself (self); nInsAttJSON\r\n",
      "\tProcess: nClsAttDB\r\n",
      "\tOutput: record deleted\r\n",
      "\t\"\"\"\r\n",
      "\t\tnInsObjCursor=self.nClsAttDB.cursor()\r\n",
      "\t\tn=[nInsAttJSON] # pass dict index\r\n",
      "\t\tnInsObjCursor.execute(\"DELETE FROM book where id=%s\",n)\r\n",
      "\t\tself.nClsAttDB.commit()\r\n",
      "\t\treturn {}\t\t\n"
     ]
    }
   ],
   "source": [
    "%%script bash\n",
    "grep \"def fInsMetDeleteJSON\" ./DAO/BookDAO.py -A 11"
   ]
  },
  {
   "cell_type": "code",
   "execution_count": 8,
   "id": "34c286b4",
   "metadata": {
    "scrolled": true
   },
   "outputs": [
    {
     "data": {
      "text/plain": [
       "{}"
      ]
     },
     "execution_count": 8,
     "metadata": {},
     "output_type": "execute_result"
    }
   ],
   "source": [
    "nInsObjBook.fInsMetDeleteJSON(n[\"id\"])"
   ]
  },
  {
   "cell_type": "code",
   "execution_count": 9,
   "id": "e2f18237",
   "metadata": {},
   "outputs": [
    {
     "data": {
      "text/plain": [
       "[{'id': 3,\n",
       "  'title': 'Python Crash Course',\n",
       "  'author': 'Eric Matthes',\n",
       "  'price': 2000},\n",
       " {'id': 2, 'title': 'Learning Python', 'author': 'Mark Lutz', 'price': 3000}]"
      ]
     },
     "execution_count": 9,
     "metadata": {},
     "output_type": "execute_result"
    }
   ],
   "source": [
    "nInsObjBook.fInsMetGetAllDict()"
   ]
  },
  {
   "cell_type": "code",
   "execution_count": 10,
   "id": "e3eae5c7",
   "metadata": {},
   "outputs": [],
   "source": [
    "exit()"
   ]
  },
  {
   "cell_type": "markdown",
   "id": "f4b06b64",
   "metadata": {},
   "source": [
    "< [Table of Contents](#top) | [References](#references) >\n",
    "<a id=\"introductionDesignAPISkeletonServer\"></a>\n",
    "*** \n",
    "### Server\n",
    "***"
   ]
  },
  {
   "cell_type": "code",
   "execution_count": null,
   "id": "c2b35b95",
   "metadata": {},
   "outputs": [],
   "source": [
    "fFile(\"./hide/DR9.5 server walkthrough - 18-11-2020.mp4\")"
   ]
  },
  {
   "cell_type": "markdown",
   "id": "be755ebd",
   "metadata": {},
   "source": [
    "- creating server to interact with the database [4]"
   ]
  },
  {
   "cell_type": "markdown",
   "id": "da4632ab",
   "metadata": {},
   "source": [
    "![Server](https://github.com/SeanOhAileasa/SeanOhAileasa/blob/master/rc/drp/dao/architectureServer.png?raw=true)\n",
    "\n",
    "***(Image) A. Beatty, \"DR9.5 server walkthrough,\" GMIT, November 2020.***"
   ]
  },
  {
   "cell_type": "markdown",
   "id": "063c5c3e",
   "metadata": {},
   "source": [
    "< [Table of Contents](#top) | [References](#references) >\n",
    "<a id=\"introductionDesignAPISkeletonDatabaseServer\"></a>\n",
    "*** \n",
    "###### ``serverDAO``\n",
    "***"
   ]
  },
  {
   "cell_type": "markdown",
   "id": "65cb6829",
   "metadata": {},
   "source": [
    "- modifying ``./rc/server/rest.py`` creating the server ``./rc/server/serverDAO.py`` [4]"
   ]
  },
  {
   "cell_type": "code",
   "execution_count": null,
   "id": "6d615507",
   "metadata": {},
   "outputs": [],
   "source": [
    "%%script bash\n",
    "# cp ./rc/server/rest.py ./rc/server/serverDAO.py"
   ]
  },
  {
   "cell_type": "code",
   "execution_count": 2,
   "id": "73b1c964",
   "metadata": {},
   "outputs": [],
   "source": [
    "exit()"
   ]
  },
  {
   "cell_type": "markdown",
   "id": "38342074",
   "metadata": {},
   "source": [
    "< [Table of Contents](#top) | [References](#references) >\n",
    "<a id=\"introductionDesignAPISkeletonDatabaseServercURL\"></a>\n",
    "*** \n",
    "###### ``cURL``\n",
    "***"
   ]
  },
  {
   "cell_type": "markdown",
   "id": "91b60c30",
   "metadata": {},
   "source": [
    "- testing the interface using ``cURL`` [4]"
   ]
  },
  {
   "cell_type": "code",
   "execution_count": 1,
   "id": "6c357a83",
   "metadata": {},
   "outputs": [
    {
     "name": "stdout",
     "output_type": "stream",
     "text": [
      "@app.route(rule=\"/\")\r\n",
      "def fIndex():\r\n",
      "    \"\"\"URL map for \"/\" with method \"GET\".\r\n",
      "\r\n",
      "Input: \r\n",
      "Process: \r\n",
      "Output: string\r\n",
      "\"\"\"    \r\n",
      "    return \"Flask App - pythonanywhere\"\r\n",
      "    #\r\n",
      "    # curl http://127.0.0.1:5000\r\n",
      "    #\r\n",
      "# --- END ---\r\n"
     ]
    }
   ],
   "source": [
    "%%script bash\n",
    "grep -1 \"def fIndex\" ./rc/server/serverDAO.py -A 11"
   ]
  },
  {
   "cell_type": "code",
   "execution_count": 2,
   "id": "03dc51fd",
   "metadata": {},
   "outputs": [
    {
     "name": "stdout",
     "output_type": "stream",
     "text": [
      "Flask App - pythonanywhere"
     ]
    },
    {
     "name": "stderr",
     "output_type": "stream",
     "text": [
      "  % Total    % Received % Xferd  Average Speed   Time    Time     Time  Current\r\n",
      "                                 Dload  Upload   Total   Spent    Left  Speed\r\n",
      "\r",
      "  0     0    0     0    0     0      0      0 --:--:-- --:--:-- --:--:--     0\r",
      "100    26  100    26    0     0  13000      0 --:--:-- --:--:-- --:--:-- 13000\r\n"
     ]
    }
   ],
   "source": [
    "%%script bash\n",
    "curl http://127.0.0.1:5000"
   ]
  },
  {
   "cell_type": "code",
   "execution_count": 3,
   "id": "53fef203",
   "metadata": {},
   "outputs": [
    {
     "name": "stdout",
     "output_type": "stream",
     "text": [
      "@app.route(rule=\"/books\")\r\n",
      "def fGetAll():\r\n",
      "    \"\"\"URL map for \"/books\" with method \"GET\".\r\n",
      "\r\n",
      "Input: \r\n",
      "Process: (flask.jsonify) \r\n",
      "Output:\r\n",
      "\"\"\"\r\n",
      "    from flask import jsonify\r\n",
      "    return jsonify({})\r\n",
      "    #\r\n",
      "    # curl http://127.0.0.1:5000/books\r\n",
      "    #\r\n",
      "# --- END ---\r\n"
     ]
    }
   ],
   "source": [
    "%%script bash\n",
    "grep -1 \"def fGetAll\" ./rc/server/serverDAO.py -A 12"
   ]
  },
  {
   "cell_type": "code",
   "execution_count": 4,
   "id": "b5243dbf",
   "metadata": {},
   "outputs": [
    {
     "name": "stdout",
     "output_type": "stream",
     "text": [
      "{}\n"
     ]
    },
    {
     "name": "stderr",
     "output_type": "stream",
     "text": [
      "  % Total    % Received % Xferd  Average Speed   Time    Time     Time  Current\r\n",
      "                                 Dload  Upload   Total   Spent    Left  Speed\r\n",
      "\r",
      "  0     0    0     0    0     0      0      0 --:--:-- --:--:-- --:--:--     0\r",
      "100     3  100     3    0     0   1500      0 --:--:-- --:--:-- --:--:--  3000\r\n"
     ]
    }
   ],
   "source": [
    "%%script bash\n",
    "curl http://127.0.0.1:5000/books"
   ]
  },
  {
   "cell_type": "code",
   "execution_count": 5,
   "id": "82bbf9bb",
   "metadata": {},
   "outputs": [
    {
     "name": "stdout",
     "output_type": "stream",
     "text": [
      "@app.route(rule=\"/books/<int:nParID>\")\r\n",
      "def fFindById(nParID):\r\n",
      "    \"\"\"URL map for \"/books/<int:nParID>\" with method \"GET\".\r\n",
      "\r\n",
      "Input: nParID\r\n",
      "Process: \r\n",
      "Output:\r\n",
      "\"\"\"\r\n",
      "    from flask import jsonify\r\n",
      "    return jsonify({})\r\n",
      "    #\r\n",
      "    # curl http://127.0.0.1:5000/books/1\r\n",
      "    #\r\n",
      "# --- END ---\r\n"
     ]
    }
   ],
   "source": [
    "%%script bash\n",
    "grep -1 \"def fFindById\" ./rc/server/serverDAO.py -A 12"
   ]
  },
  {
   "cell_type": "code",
   "execution_count": 6,
   "id": "b6a427b8",
   "metadata": {},
   "outputs": [
    {
     "name": "stdout",
     "output_type": "stream",
     "text": [
      "{}\n"
     ]
    },
    {
     "name": "stderr",
     "output_type": "stream",
     "text": [
      "  % Total    % Received % Xferd  Average Speed   Time    Time     Time  Current\r\n",
      "                                 Dload  Upload   Total   Spent    Left  Speed\r\n",
      "\r",
      "  0     0    0     0    0     0      0      0 --:--:-- --:--:-- --:--:--     0\r",
      "100     3  100     3    0     0   1500      0 --:--:-- --:--:-- --:--:--  1500\r\n"
     ]
    }
   ],
   "source": [
    "%%script bash\n",
    "curl http://127.0.0.1:5000/books/1"
   ]
  },
  {
   "cell_type": "code",
   "execution_count": 7,
   "id": "e9afbc2f",
   "metadata": {},
   "outputs": [
    {
     "name": "stdout",
     "output_type": "stream",
     "text": [
      "@app.route(rule=\"/books\",methods=[\"POST\"])\r\n",
      "def fCreate():\r\n",
      "    \"\"\"URL map for \"/books\" with method \"POST\".\r\n",
      "\r\n",
      "Input: \r\n",
      "Process: (flask.request.json; flask.abort; flask.jsonify)\r\n",
      "Output:\r\n",
      "\"\"\"\r\n",
      "    from flask import request,jsonify,abort\r\n",
      "    if not request.json: # request no json\r\n",
      "        abort(400)\r\n",
      "    nBook={\"id\":request.json[\"id\"],\r\n",
      "        \"title\":request.json[\"title\"],\r\n",
      "        \"author\":request.json[\"author\"],\r\n",
      "        \"price\":request.json[\"price\"]}\r\n",
      "    return jsonify({})\r\n",
      "    #\r\n",
      "    # curl -X \"POST\" -d \"{\\\"id\\\":10,\\\"title\\\":\\\"test title\\\",\\\"author\\\":\\\"test author\\\",\\\"price\\\":123}\" -H Content-Type:application/json http://127.0.0.1:5000/books\r\n",
      "    #\r\n",
      "# --- END ---\r\n"
     ]
    }
   ],
   "source": [
    "%%script bash\n",
    "grep -1 \"def fCreate\" ./rc/server/serverDAO.py -A 18"
   ]
  },
  {
   "cell_type": "code",
   "execution_count": 8,
   "id": "11cd4e10",
   "metadata": {},
   "outputs": [
    {
     "name": "stdout",
     "output_type": "stream",
     "text": [
      "{}\n"
     ]
    },
    {
     "name": "stderr",
     "output_type": "stream",
     "text": [
      "  % Total    % Received % Xferd  Average Speed   Time    Time     Time  Current\r\n",
      "                                 Dload  Upload   Total   Spent    Left  Speed\r\n",
      "\r",
      "  0     0    0     0    0     0      0      0 --:--:-- --:--:-- --:--:--     0\r",
      "100    68  100     3  100    65   1500  32500 --:--:-- --:--:-- --:--:-- 34000\r\n"
     ]
    }
   ],
   "source": [
    "%%script bash\n",
    "curl -X \"POST\" -d \"{\\\"id\\\":10,\\\"title\\\":\\\"test title\\\",\\\"author\\\":\\\"test author\\\",\\\"price\\\":123}\" -H Content-Type:application/json http://127.0.0.1:5000/books"
   ]
  },
  {
   "cell_type": "code",
   "execution_count": 9,
   "id": "2fd06ec3",
   "metadata": {},
   "outputs": [
    {
     "name": "stdout",
     "output_type": "stream",
     "text": [
      "@app.route(rule=\"/books/<int:nParID>\",methods=[\"PUT\"])\r\n",
      "def fUpdate(nParID):\r\n",
      "    \"\"\"URL map for \"/books/<int:nParID>\" with method \"PUT\".\r\n",
      "\r\n",
      "Input: \r\n",
      "Process: (flask.request.json; flask.jsonify)\r\n",
      "Output:\r\n",
      "\"\"\" \r\n",
      "    from flask import jsonify,request\r\n",
      "    nFound=[]\r\n",
      "    if len(nFound)==0: # test found nothing\r\n",
      "        return jsonify({}),404 # return cannot find\r\n",
      "    nCurrent=nFound[0] # current is found\r\n",
      "    if \"title\" in request.json:\r\n",
      "        nCurrent[\"title\"]=request.json[\"title\"] # current new title\r\n",
      "    if \"author\" in request.json:\r\n",
      "        nCurrent[\"author\"]=request.json[\"author\"] # current new author\r\n",
      "    if \"price\" in request.json:\r\n",
      "        nCurrent[\"price\"]=request.json[\"price\"] # current new price\r\n",
      "    return jsonify(nCurrent)\r\n",
      "    #\r\n",
      "    # curl -X \"PUT\" -d \"{\\\"title\\\":\\\"testing title\\\",\\\"price\\\":999}\" -H Content-Type:application/json http://127.0.0.1:5000/books/123\r\n",
      "    #\r\n",
      "# --- END ---\r\n"
     ]
    }
   ],
   "source": [
    "%%script bash\n",
    "grep -1 \"def fUpdate\" ./rc/server/serverDAO.py -A 22"
   ]
  },
  {
   "cell_type": "code",
   "execution_count": 10,
   "id": "7aef020b",
   "metadata": {},
   "outputs": [
    {
     "name": "stdout",
     "output_type": "stream",
     "text": [
      "{}\n"
     ]
    },
    {
     "name": "stderr",
     "output_type": "stream",
     "text": [
      "  % Total    % Received % Xferd  Average Speed   Time    Time     Time  Current\r\n",
      "                                 Dload  Upload   Total   Spent    Left  Speed\r\n",
      "\r",
      "  0     0    0     0    0     0      0      0 --:--:-- --:--:-- --:--:--     0\r",
      "100    40  100     3  100    37   1500  18500 --:--:-- --:--:-- --:--:-- 20000\r\n"
     ]
    }
   ],
   "source": [
    "%%script bash\n",
    "curl -X \"PUT\" -d \"{\\\"title\\\":\\\"testing title\\\",\\\"price\\\":999}\" -H Content-Type:application/json http://127.0.0.1:5000/books/123"
   ]
  },
  {
   "cell_type": "code",
   "execution_count": 11,
   "id": "78d6857d",
   "metadata": {},
   "outputs": [
    {
     "name": "stdout",
     "output_type": "stream",
     "text": [
      "@app.route(rule=\"/books/<int:nParID>\",methods=[\"DELETE\"])\r\n",
      "def fDelete(nParID):\r\n",
      "    \"\"\"URL map for \"/books/<int:nParID>\" with method \"DELETE\".\r\n",
      "\r\n",
      "Input: \r\n",
      "Process: (flask.jsonify)\r\n",
      "Output:\r\n",
      "\"\"\" \r\n",
      "    from flask import jsonify\r\n",
      "    return jsonify({\"done\":True})\r\n",
      "    #\r\n",
      "    # curl -X \"DELETE\" http://127.0.0.1:5000/books/123\r\n",
      "    #\r\n",
      "# --- END ---\r\n"
     ]
    }
   ],
   "source": [
    "%%script bash\n",
    "grep -1 \"def fDelete\" ./rc/server/serverDAO.py -A 12"
   ]
  },
  {
   "cell_type": "code",
   "execution_count": 12,
   "id": "3ff2982d",
   "metadata": {},
   "outputs": [
    {
     "name": "stdout",
     "output_type": "stream",
     "text": [
      "{\n",
      "  \"done\": true\n",
      "}\n"
     ]
    },
    {
     "name": "stderr",
     "output_type": "stream",
     "text": [
      "  % Total    % Received % Xferd  Average Speed   Time    Time     Time  Current\r\n",
      "                                 Dload  Upload   Total   Spent    Left  Speed\r\n",
      "\r",
      "  0     0    0     0    0     0      0      0 --:--:-- --:--:-- --:--:--     0\r",
      "100    19  100    19    0     0   9500      0 --:--:-- --:--:-- --:--:-- 19000\r\n"
     ]
    }
   ],
   "source": [
    "%%script bash\n",
    "curl -X \"DELETE\" http://127.0.0.1:5000/books/123"
   ]
  },
  {
   "cell_type": "code",
   "execution_count": 13,
   "id": "61471423",
   "metadata": {},
   "outputs": [],
   "source": [
    "exit()"
   ]
  },
  {
   "cell_type": "markdown",
   "id": "7b135503",
   "metadata": {},
   "source": [
    "< [Table of Contents](#top) | [References](#references) >\n",
    "<a id=\"introductionDesignAPISkeletonDatabaseServercURLDAO\"></a>\n",
    "*** \n",
    "###### ``CBookDAO``\n",
    "***"
   ]
  },
  {
   "cell_type": "markdown",
   "id": "a7e7cf5b",
   "metadata": {},
   "source": [
    "- link to ``DAO`` [4]"
   ]
  },
  {
   "cell_type": "code",
   "execution_count": 1,
   "id": "87d364eb",
   "metadata": {},
   "outputs": [
    {
     "name": "stdout",
     "output_type": "stream",
     "text": [
      "from sys import path; path.insert(1,\"../../\") # print(path)\r\n"
     ]
    }
   ],
   "source": [
    "%%script bash\n",
    "grep \"path.insert\" ./rc/server/serverDAO.py"
   ]
  },
  {
   "cell_type": "code",
   "execution_count": 2,
   "id": "66720524",
   "metadata": {},
   "outputs": [
    {
     "name": "stdout",
     "output_type": "stream",
     "text": [
      "from DAO.bookDAO import CBookDAO\r\n"
     ]
    }
   ],
   "source": [
    "%%script bash\n",
    "grep \"DAO.bookDAO\" ./rc/server/serverDAO.py"
   ]
  },
  {
   "cell_type": "code",
   "execution_count": 3,
   "id": "38209374",
   "metadata": {},
   "outputs": [],
   "source": [
    "exit()"
   ]
  },
  {
   "cell_type": "markdown",
   "id": "62e9146a",
   "metadata": {},
   "source": [
    "< [Table of Contents](#top) | [References](#references) >\n",
    "<a id=\"introductionDesignAPISkeletonDatabaseServercURLDAOCStudentDAOcreateRUD\"></a>\n",
    "*** \n",
    "###### C\n",
    "***"
   ]
  },
  {
   "cell_type": "code",
   "execution_count": 1,
   "id": "d52d364d",
   "metadata": {},
   "outputs": [
    {
     "name": "stdout",
     "output_type": "stream",
     "text": [
      "def fCreate():\r\n",
      "    \"\"\"URL map for \"/books\" with method \"POST\".\r\n",
      "\r\n",
      "Input: \r\n",
      "Process: (flask.request.json; flask.abort; flask.jsonify)\r\n",
      "Output:\r\n",
      "\"\"\"\r\n",
      "    from flask import request,jsonify,abort\r\n",
      "    if not request.json: # request no json\r\n",
      "        abort(400)\r\n",
      "    nBook={\"id\":request.json[\"id\"],\r\n",
      "        \"title\":request.json[\"title\"],\r\n",
      "        \"author\":request.json[\"author\"],\r\n",
      "        \"price\":request.json[\"price\"]}\r\n",
      "    return jsonify(CBookDAO().fInsMetCreate(nBook)) # instantiate object - CBookDAO\r\n",
      "    #\r\n",
      "    # curl -X \"POST\" -d \"{\\\"id\\\":10,\\\"title\\\":\\\"test title\\\",\\\"author\\\":\\\"test author\\\",\\\"price\\\":123}\" -H Content-Type:application/json http://127.0.0.1:5000/books\r\n",
      "    #\r\n",
      "# --- END ---\r\n"
     ]
    }
   ],
   "source": [
    "%%script bash\n",
    "grep \"def fCreate\" ./rc/server/serverDAO.py -A 18"
   ]
  },
  {
   "cell_type": "code",
   "execution_count": 2,
   "id": "049840b1",
   "metadata": {
    "scrolled": false
   },
   "outputs": [
    {
     "name": "stdout",
     "output_type": "stream",
     "text": [
      "4\n"
     ]
    },
    {
     "name": "stderr",
     "output_type": "stream",
     "text": [
      "  % Total    % Received % Xferd  Average Speed   Time    Time     Time  Current\r\n",
      "                                 Dload  Upload   Total   Spent    Left  Speed\r\n",
      "\r",
      "  0     0    0     0    0     0      0      0 --:--:-- --:--:-- --:--:--     0\r",
      "100    67  100     2  100    65    400  13000 --:--:-- --:--:-- --:--:-- 16750\r\n"
     ]
    }
   ],
   "source": [
    "%%script bash\n",
    "curl -X \"POST\" -d \"{\\\"id\\\":10,\\\"title\\\":\\\"test title\\\",\\\"author\\\":\\\"test author\\\",\\\"price\\\":123}\" -H Content-Type:application/json http://127.0.0.1:5000/books"
   ]
  },
  {
   "cell_type": "code",
   "execution_count": 3,
   "id": "f2307615",
   "metadata": {},
   "outputs": [
    {
     "name": "stdout",
     "output_type": "stream",
     "text": [
      "[\n",
      "  {\n",
      "    \"author\": \"Eric Matthes\", \n",
      "    \"id\": 3, \n",
      "    \"price\": 2000, \n",
      "    \"title\": \"Python Crash Course\"\n",
      "  }, \n",
      "  {\n",
      "    \"author\": \"Mark Lutz\", \n",
      "    \"id\": 2, \n",
      "    \"price\": 3000, \n",
      "    \"title\": \"Learning Python\"\n",
      "  }, \n",
      "  {\n",
      "    \"author\": \"test author\", \n",
      "    \"id\": 4, \n",
      "    \"price\": 123, \n",
      "    \"title\": \"test title\"\n",
      "  }\n",
      "]\n"
     ]
    },
    {
     "name": "stderr",
     "output_type": "stream",
     "text": [
      "  % Total    % Received % Xferd  Average Speed   Time    Time     Time  Current\r\n",
      "                                 Dload  Upload   Total   Spent    Left  Speed\r\n",
      "\r",
      "  0     0    0     0    0     0      0      0 --:--:-- --:--:-- --:--:--     0\r",
      "100   314  100   314    0     0  31400      0 --:--:-- --:--:-- --:--:-- 31400\r\n"
     ]
    }
   ],
   "source": [
    "%%script bash\n",
    "curl http://127.0.0.1:5000/books"
   ]
  },
  {
   "cell_type": "code",
   "execution_count": 4,
   "id": "f8ff79cb",
   "metadata": {},
   "outputs": [],
   "source": [
    "exit()"
   ]
  },
  {
   "cell_type": "markdown",
   "id": "c3fc69f3",
   "metadata": {},
   "source": [
    "< [Table of Contents](#top) | [References](#references) >\n",
    "<a id=\"introductionDesignAPISkeletonDatabaseServercURLDAOCStudentDAOcReadUD\"></a>\n",
    "*** \n",
    "######  R\n",
    "***"
   ]
  },
  {
   "cell_type": "code",
   "execution_count": 1,
   "id": "0e000393",
   "metadata": {
    "scrolled": true
   },
   "outputs": [
    {
     "name": "stdout",
     "output_type": "stream",
     "text": [
      "def fGetAll():\r\n",
      "    \"\"\"URL map for \"/books\" with method \"GET\".\r\n",
      "\r\n",
      "Input: \r\n",
      "Process: (flask.jsonify) \r\n",
      "Output:\r\n",
      "\"\"\"\r\n",
      "    from flask import jsonify\r\n",
      "    nInsObjBook=CBookDAO() # instantiate object - CBookDAO\r\n",
      "    return jsonify(nInsObjBook.fInsMetGetAllDict())\r\n",
      "    #\r\n",
      "    # curl http://127.0.0.1:5000/books\r\n",
      "    #\r\n",
      "# --- END ---\r\n"
     ]
    }
   ],
   "source": [
    "%%script bash\n",
    "grep \"def fGetAll\" ./rc/server/serverDAO.py -A 13"
   ]
  },
  {
   "cell_type": "code",
   "execution_count": 2,
   "id": "b4f8db3a",
   "metadata": {
    "scrolled": false
   },
   "outputs": [
    {
     "name": "stdout",
     "output_type": "stream",
     "text": [
      "[\n",
      "  {\n",
      "    \"author\": \"Eric Matthes\", \n",
      "    \"id\": 3, \n",
      "    \"price\": 2000, \n",
      "    \"title\": \"Python Crash Course\"\n",
      "  }, \n",
      "  {\n",
      "    \"author\": \"Mark Lutz\", \n",
      "    \"id\": 2, \n",
      "    \"price\": 3000, \n",
      "    \"title\": \"Learning Python\"\n",
      "  }\n",
      "]\n"
     ]
    },
    {
     "name": "stderr",
     "output_type": "stream",
     "text": [
      "  % Total    % Received % Xferd  Average Speed   Time    Time     Time  Current\r\n",
      "                                 Dload  Upload   Total   Spent    Left  Speed\r\n",
      "\r",
      "  0     0    0     0    0     0      0      0 --:--:-- --:--:-- --:--:--     0\r",
      "100   215  100   215    0     0  53750      0 --:--:-- --:--:-- --:--:-- 71666\r\n"
     ]
    }
   ],
   "source": [
    "%%script bash\n",
    "curl http://127.0.0.1:5000/books"
   ]
  },
  {
   "cell_type": "code",
   "execution_count": 3,
   "id": "f71bf45e",
   "metadata": {},
   "outputs": [
    {
     "name": "stdout",
     "output_type": "stream",
     "text": [
      "def fFindById(nParID):\r\n",
      "    \"\"\"URL map for \"/books/<int:nParID>\" with method \"GET\".\r\n",
      "\r\n",
      "Input: nParID\r\n",
      "Process: \r\n",
      "Output:\r\n",
      "\"\"\"\r\n",
      "    from flask import jsonify\r\n",
      "    return jsonify(CBookDAO().fInsMetGetByID(nParID)) # instantiate object - CBookDAO\r\n",
      "    #\r\n",
      "    # curl http://127.0.0.1:5000/books/1\r\n",
      "    #\r\n",
      "# --- END ---\r\n"
     ]
    }
   ],
   "source": [
    "%%script bash\n",
    "grep \"def fFindById\" ./rc/server/serverDAO.py -A 12"
   ]
  },
  {
   "cell_type": "code",
   "execution_count": 4,
   "id": "052a5d93",
   "metadata": {},
   "outputs": [
    {
     "name": "stdout",
     "output_type": "stream",
     "text": [
      "{}\n"
     ]
    },
    {
     "name": "stderr",
     "output_type": "stream",
     "text": [
      "  % Total    % Received % Xferd  Average Speed   Time    Time     Time  Current\r\n",
      "                                 Dload  Upload   Total   Spent    Left  Speed\r\n",
      "\r",
      "  0     0    0     0    0     0      0      0 --:--:-- --:--:-- --:--:--     0\r",
      "100     3  100     3    0     0    600      0 --:--:-- --:--:-- --:--:--   600\r\n"
     ]
    }
   ],
   "source": [
    "%%script bash\n",
    "curl http://127.0.0.1:5000/books/1"
   ]
  },
  {
   "cell_type": "code",
   "execution_count": 5,
   "id": "0c9a8287",
   "metadata": {},
   "outputs": [
    {
     "name": "stdout",
     "output_type": "stream",
     "text": [
      "{\n",
      "  \"author\": \"Mark Lutz\", \n",
      "  \"id\": 2, \n",
      "  \"price\": 3000, \n",
      "  \"title\": \"Learning Python\"\n",
      "}\n"
     ]
    },
    {
     "name": "stderr",
     "output_type": "stream",
     "text": [
      "  % Total    % Received % Xferd  Average Speed   Time    Time     Time  Current\r\n",
      "                                 Dload  Upload   Total   Spent    Left  Speed\r\n",
      "\r",
      "  0     0    0     0    0     0      0      0 --:--:-- --:--:-- --:--:--     0\r",
      "  0     0    0     0    0     0      0      0 --:--:-- --:--:-- --:--:--     0\r",
      "100    89  100    89    0     0  22250      0 --:--:-- --:--:-- --:--:-- 17800\r\n"
     ]
    }
   ],
   "source": [
    "%%script bash\n",
    "curl http://127.0.0.1:5000/books/2"
   ]
  },
  {
   "cell_type": "code",
   "execution_count": 6,
   "id": "2b11d39e",
   "metadata": {},
   "outputs": [
    {
     "name": "stdout",
     "output_type": "stream",
     "text": [
      "{\n",
      "  \"author\": \"Eric Matthes\", \n",
      "  \"id\": 3, \n",
      "  \"price\": 2000, \n",
      "  \"title\": \"Python Crash Course\"\n",
      "}\n"
     ]
    },
    {
     "name": "stderr",
     "output_type": "stream",
     "text": [
      "  % Total    % Received % Xferd  Average Speed   Time    Time     Time  Current\r\n",
      "                                 Dload  Upload   Total   Spent    Left  Speed\r\n",
      "\r",
      "  0     0    0     0    0     0      0      0 --:--:-- --:--:-- --:--:--     0\r",
      "100    96  100    96    0     0  24000      0 --:--:-- --:--:-- --:--:-- 24000\r\n"
     ]
    }
   ],
   "source": [
    "%%script bash\n",
    "curl http://127.0.0.1:5000/books/3"
   ]
  },
  {
   "cell_type": "code",
   "execution_count": 7,
   "id": "370b457c",
   "metadata": {},
   "outputs": [],
   "source": [
    "exit()"
   ]
  },
  {
   "cell_type": "markdown",
   "id": "c0f086ee",
   "metadata": {},
   "source": [
    "< [Table of Contents](#top) | [References](#references) >\n",
    "<a id=\"introductionDesignAPISkeletonDatabaseServercURLDAOCStudentDAOCRUpdateD\"></a>\n",
    "*** \n",
    "###### U\n",
    "***"
   ]
  },
  {
   "cell_type": "code",
   "execution_count": 1,
   "id": "5379e4a9",
   "metadata": {},
   "outputs": [
    {
     "name": "stdout",
     "output_type": "stream",
     "text": [
      "[\n",
      "  {\n",
      "    \"author\": \"Eric Matthes\", \n",
      "    \"id\": 3, \n",
      "    \"price\": 2000, \n",
      "    \"title\": \"Python Crash Course\"\n",
      "  }, \n",
      "  {\n",
      "    \"author\": \"Mark Lutz\", \n",
      "    \"id\": 2, \n",
      "    \"price\": 3000, \n",
      "    \"title\": \"Learning Python\"\n",
      "  }, \n",
      "  {\n",
      "    \"author\": \"test author\", \n",
      "    \"id\": 4, \n",
      "    \"price\": 123, \n",
      "    \"title\": \"test title\"\n",
      "  }\n",
      "]\n"
     ]
    },
    {
     "name": "stderr",
     "output_type": "stream",
     "text": [
      "  % Total    % Received % Xferd  Average Speed   Time    Time     Time  Current\r\n",
      "                                 Dload  Upload   Total   Spent    Left  Speed\r\n",
      "\r",
      "  0     0    0     0    0     0      0      0 --:--:-- --:--:-- --:--:--     0\r",
      "100   314  100   314    0     0  28545      0 --:--:-- --:--:-- --:--:-- 28545\r\n"
     ]
    }
   ],
   "source": [
    "%%script bash\n",
    "curl http://127.0.0.1:5000/books"
   ]
  },
  {
   "cell_type": "code",
   "execution_count": 2,
   "id": "50d8ab6c",
   "metadata": {},
   "outputs": [
    {
     "name": "stdout",
     "output_type": "stream",
     "text": [
      "def fUpdate(nParID):\r\n",
      "    \"\"\"URL map for \"/books/<int:nParID>\" with method \"PUT\".\r\n",
      "\r\n",
      "Input: \r\n",
      "Process: (flask.request.json; flask.jsonify)\r\n",
      "Output:\r\n",
      "\"\"\" \r\n",
      "    from flask import jsonify,request\r\n",
      "    nFound=CBookDAO().fInsMetGetByID(nParID) # instantiate object - CBookDAO\r\n",
      "    if len(nFound)=={}: # test found nothing\r\n",
      "        return jsonify({}),404 # return cannot find\r\n",
      "    nCurrent=nFound # current is found\r\n",
      "    if \"title\" in request.json:\r\n",
      "        nCurrent[\"title\"]=request.json[\"title\"] # current new title\r\n",
      "    if \"author\" in request.json:\r\n",
      "        nCurrent[\"author\"]=request.json[\"author\"] # current new author\r\n",
      "    if \"price\" in request.json:\r\n",
      "        nCurrent[\"price\"]=request.json[\"price\"] # current new price\r\n",
      "    CBookDAO().fInsMetUpdate(nCurrent) # instantiate object - CBookDAO        \r\n",
      "    return jsonify(nCurrent)\r\n",
      "    #\r\n",
      "    # curl -X \"PUT\" -d \"{\\\"title\\\":\\\"testing title\\\",\\\"price\\\":999}\" -H Content-Type:application/json http://127.0.0.1:5000/books/123\r\n",
      "    #\r\n",
      "# --- END ---\r\n"
     ]
    }
   ],
   "source": [
    "%%script bash\n",
    "grep \"def fUpdate\" ./rc/server/serverDAO.py -A 23"
   ]
  },
  {
   "cell_type": "code",
   "execution_count": 3,
   "id": "5d103d79",
   "metadata": {},
   "outputs": [
    {
     "name": "stdout",
     "output_type": "stream",
     "text": [
      "{\n",
      "  \"author\": \"Paul Barry\", \n",
      "  \"id\": 4, \n",
      "  \"price\": 2000, \n",
      "  \"title\": \"Head-First Python\"\n",
      "}\n"
     ]
    },
    {
     "name": "stderr",
     "output_type": "stream",
     "text": [
      "  % Total    % Received % Xferd  Average Speed   Time    Time     Time  Current\r\n",
      "                                 Dload  Upload   Total   Spent    Left  Speed\r\n",
      "\r",
      "  0     0    0     0    0     0      0      0 --:--:-- --:--:-- --:--:--     0\r",
      "100   156  100    92  100    64  15333  10666 --:--:-- --:--:-- --:--:-- 26000\r\n"
     ]
    }
   ],
   "source": [
    "%%script bash\n",
    "curl -X \"PUT\" -d \"{\\\"title\\\":\\\"Head-First Python\\\",\\\"author\\\":\\\"Paul Barry\\\",\\\"price\\\":2000}\" -H Content-Type:application/json http://127.0.0.1:5000/books/4"
   ]
  },
  {
   "cell_type": "code",
   "execution_count": 4,
   "id": "5be8b57e",
   "metadata": {},
   "outputs": [
    {
     "name": "stdout",
     "output_type": "stream",
     "text": [
      "[\n",
      "  {\n",
      "    \"author\": \"Eric Matthes\", \n",
      "    \"id\": 3, \n",
      "    \"price\": 2000, \n",
      "    \"title\": \"Python Crash Course\"\n",
      "  }, \n",
      "  {\n",
      "    \"author\": \"Mark Lutz\", \n",
      "    \"id\": 2, \n",
      "    \"price\": 3000, \n",
      "    \"title\": \"Learning Python\"\n",
      "  }, \n",
      "  {\n",
      "    \"author\": \"Paul Barry\", \n",
      "    \"id\": 4, \n",
      "    \"price\": 2000, \n",
      "    \"title\": \"Head-First Python\"\n",
      "  }\n",
      "]\n"
     ]
    },
    {
     "name": "stderr",
     "output_type": "stream",
     "text": [
      "  % Total    % Received % Xferd  Average Speed   Time    Time     Time  Current\r\n",
      "                                 Dload  Upload   Total   Spent    Left  Speed\r\n",
      "\r",
      "  0     0    0     0    0     0      0      0 --:--:-- --:--:-- --:--:--     0\r",
      "100   321  100   321    0     0  80250      0 --:--:-- --:--:-- --:--:-- 80250\r\n"
     ]
    }
   ],
   "source": [
    "%%script bash\n",
    "curl http:/127.0.0.1:5000/books"
   ]
  },
  {
   "cell_type": "code",
   "execution_count": 5,
   "id": "ad1aacc9",
   "metadata": {},
   "outputs": [],
   "source": [
    "exit()"
   ]
  },
  {
   "cell_type": "markdown",
   "id": "d058bf65",
   "metadata": {},
   "source": [
    "< [Table of Contents](#top) | [References](#references) >\n",
    "<a id=\"introductionDesignAPISkeletonDatabaseServercURLDAOCStudentDAOCRUDelete\"></a>\n",
    "*** \n",
    "###### D\n",
    "***"
   ]
  },
  {
   "cell_type": "code",
   "execution_count": 1,
   "id": "a07d1f30",
   "metadata": {},
   "outputs": [
    {
     "name": "stdout",
     "output_type": "stream",
     "text": [
      "def fDelete(nParID):\r\n",
      "    \"\"\"URL map for \"/books/<int:nParID>\" with method \"DELETE\".\r\n",
      "\r\n",
      "Input: \r\n",
      "Process: (flask.jsonify)\r\n",
      "Output:\r\n",
      "\"\"\" \r\n",
      "    CBookDAO().fInsMetDeleteTuple(nParID) # instantiate object - CBookDAO  \r\n",
      "    from flask import jsonify\r\n",
      "    return jsonify({\"done\":True})\r\n",
      "    #\r\n",
      "    # curl -X \"DELETE\" http://127.0.0.1:5000/books/123\r\n",
      "    #\r\n",
      "# --- END ---\r\n"
     ]
    }
   ],
   "source": [
    "%%script bash\n",
    "grep \"def fDelete\" ./rc/server/serverDAO.py -A 13"
   ]
  },
  {
   "cell_type": "code",
   "execution_count": 2,
   "id": "61fcbbb1",
   "metadata": {},
   "outputs": [
    {
     "name": "stdout",
     "output_type": "stream",
     "text": [
      "{\n",
      "  \"done\": true\n",
      "}\n"
     ]
    },
    {
     "name": "stderr",
     "output_type": "stream",
     "text": [
      "  % Total    % Received % Xferd  Average Speed   Time    Time     Time  Current\r\n",
      "                                 Dload  Upload   Total   Spent    Left  Speed\r\n",
      "\r",
      "  0     0    0     0    0     0      0      0 --:--:-- --:--:-- --:--:--     0\r",
      "100    19  100    19    0     0   1727      0 --:--:-- --:--:-- --:--:--  1900\r\n"
     ]
    }
   ],
   "source": [
    "%%script bash\n",
    "curl -X \"DELETE\" http://127.0.0.1:5000/books/4 # book id=4 deleted"
   ]
  },
  {
   "cell_type": "code",
   "execution_count": null,
   "id": "0b02c207",
   "metadata": {},
   "outputs": [],
   "source": [
    "exit()"
   ]
  },
  {
   "cell_type": "markdown",
   "id": "f05a8426",
   "metadata": {},
   "source": [
    "< [Table of Contents](#top) | [References](#references) >\n",
    "<a id=\"introductionDesignAPISkeletonClient\"></a>\n",
    "*** \n",
    "### Client\n",
    "***"
   ]
  },
  {
   "cell_type": "code",
   "execution_count": null,
   "id": "8c035352",
   "metadata": {},
   "outputs": [],
   "source": [
    "fFile(\"./hide/DR9.6 HTML-AJAX walkthrough parts - 20-11-2020.mp4\")\n",
    "fFile(\"./hide/DR9.7 HTML-AJAX walkthrough part2 - 20-11-2020.mp4\")"
   ]
  },
  {
   "cell_type": "markdown",
   "id": "af745d43",
   "metadata": {},
   "source": [
    "- ``HTML`` page to download and run from the browser [5]"
   ]
  },
  {
   "cell_type": "markdown",
   "id": "39fd6cd2",
   "metadata": {},
   "source": [
    "- ``AJAX`` to interface with the server [5] "
   ]
  },
  {
   "cell_type": "markdown",
   "id": "73622aca",
   "metadata": {},
   "source": [
    "![Client](https://github.com/SeanOhAileasa/SeanOhAileasa/blob/master/rc/drp/dao/architectureClient.png?raw=true)\n",
    "\n",
    "***(Image) A. Beatty, \"DR9.6 HTML-AJAX walkthrough parts,\" GMIT, November 2020.***"
   ]
  },
  {
   "cell_type": "markdown",
   "id": "ea84b67d",
   "metadata": {},
   "source": [
    "- designing the user interface with two screens: i) create and edit; ii) display all the books [5]"
   ]
  },
  {
   "cell_type": "code",
   "execution_count": 1,
   "id": "3a11e143",
   "metadata": {
    "scrolled": true
   },
   "outputs": [
    {
     "name": "stdout",
     "output_type": "stream",
     "text": [
      "app=Flask(import_name=__name__,static_url_path=\"\",static_folder=\"../../rc/static/\")\r\n"
     ]
    }
   ],
   "source": [
    "%%script bash\n",
    "grep \"app=Flask\" ./rc/server/serverDAO.py"
   ]
  },
  {
   "cell_type": "code",
   "execution_count": 2,
   "id": "476ff346",
   "metadata": {},
   "outputs": [],
   "source": [
    "exit()"
   ]
  },
  {
   "cell_type": "markdown",
   "id": "953ccd72",
   "metadata": {},
   "source": [
    "< [Table of Contents](#top) | [References](#references) >\n",
    "<a id=\"introductionDesignAPISkeletonClientInterface\"></a>\n",
    "*** \n",
    "###### Interface\n",
    "***"
   ]
  },
  {
   "cell_type": "code",
   "execution_count": 1,
   "id": "4bcf890f",
   "metadata": {
    "scrolled": false
   },
   "outputs": [
    {
     "name": "stdout",
     "output_type": "stream",
     "text": [
      "<meta charset=\"UTF-8\">\r\n",
      "<html>\r\n",
      "    <head>\r\n",
      "        <title>book</title>\r\n",
      "        <link href=\"https://cdn.jsdelivr.net/npm/bootstrap@5.0.2/dist/css/bootstrap.min.css\" rel=\"stylesheet\" integrity=\"sha384-EVSTQN3/azprG1Anm3QDgpJLIm9Nao0Yz1ztcQTwFspd3yD65VohhpuuCOmLASjC\" crossorigin=\"anonymous\"> <!-- id=\"table-book\" use class=\"table\" -->\r\n",
      "    </head>\r\n",
      "    <body>\r\n",
      "        \r\n",
      "        <div id=\"create-edit\" style=\"display:none\"> <!-- hidden for moment -->\r\n",
      "            <h2>create-edit</h2>\r\n",
      "            <table>\r\n",
      "                <tr>\r\n",
      "                    <td>id</td>\r\n",
      "                    <td><input type=\"text\" name=\"id\"></td>\r\n",
      "                </tr>\r\n",
      "                    <td>title</td>\r\n",
      "                    <td><input type=\"text\" name=\"title\"></td>\r\n",
      "                </tr>\r\n",
      "                    <td>author</td>\r\n",
      "                    <td><input type=\"text\" name=\"author\"></td>\r\n",
      "                </tr>\r\n",
      "                    <td>price</td>\r\n",
      "                    <td><input type=\"currency\" name=\"price\"></td>\r\n",
      "                </tr>                    \r\n",
      "                    <td></td>\r\n",
      "                    <td><button id=\"create-edit-button\">go</button></td>                                                                                         \r\n",
      "                </tr>\r\n",
      "            </table>\r\n",
      "        </div> <!-- create edit form -->\r\n",
      "\r\n",
      "        <div id=\"display-table\">\r\n",
      "            <h2>display-table</h2>\r\n",
      "            <table id=\"table-book\" class=\"table\">\r\n",
      "                <tr>\r\n",
      "                    <th>id</th><th>title</th><th>author</th><th>price</th><th></th><th></th> <!-- two other buttons -->\r\n",
      "                </tr>\r\n",
      "                <tr id=2>\r\n",
      "                    <td>2</td>\r\n",
      "                    <td>Learning Python</td>\r\n",
      "                    <td>Mark Lutz</td>\r\n",
      "                    <td>3000</td>\r\n",
      "                    <td><button onclick=\"fShowUpdate(this)\">Update</button></td>\r\n",
      "                    <td><button onclick=\"fDoDelete(this)\">Delete</button></td>                                                                             \r\n",
      "                </tr>                \r\n",
      "            </table>            \r\n",
      "        </div> <!-- display table book -->\r\n",
      "\r\n",
      "    </body>\r\n",
      "</html>\r\n"
     ]
    }
   ],
   "source": [
    "%%script bash\n",
    "cat ./rc/static/index.html"
   ]
  },
  {
   "cell_type": "code",
   "execution_count": 2,
   "id": "71525677",
   "metadata": {},
   "outputs": [],
   "source": [
    "%%script bash\n",
    "start http://127.0.0.1:5000/index.html"
   ]
  },
  {
   "cell_type": "code",
   "execution_count": 3,
   "id": "b7202ff4",
   "metadata": {},
   "outputs": [],
   "source": [
    "exit()"
   ]
  },
  {
   "cell_type": "markdown",
   "id": "c8781b87",
   "metadata": {},
   "source": [
    "***\n",
    "## END"
   ]
  },
  {
   "cell_type": "markdown",
   "id": "28e9ffc8",
   "metadata": {},
   "source": [
    "< [Table of Contents](#top) | [Abstract](#abstract) | [Introduction](#introduction) | [Solution](#solution) | [References](#references) >\n",
    "<a id=\"conclusion\"></a>\n",
    "***\n",
    "## Conclusion\n",
    "***"
   ]
  },
  {
   "cell_type": "markdown",
   "id": "56d5e2c1",
   "metadata": {},
   "source": [
    "< [Table of Contents](#top) | [References](#references) >\n",
    "<a id=\"pythonanywhere\"></a>\n",
    "***\n",
    "### pythonanywhere\n",
    "***"
   ]
  },
  {
   "cell_type": "code",
   "execution_count": null,
   "id": "3cedc596",
   "metadata": {},
   "outputs": [],
   "source": [
    "# fFile(\"./hide/DR8.3b python anyhwere - 21-11-2019.mp4\")"
   ]
  },
  {
   "cell_type": "markdown",
   "id": "04a47aa0",
   "metadata": {},
   "source": [
    "- has free accounts for hosting python web services [2]"
   ]
  },
  {
   "cell_type": "markdown",
   "id": "0ed8a185",
   "metadata": {},
   "source": [
    "- provides a ``linux`` shell that is connected to the internet and has a URL to it [2]"
   ]
  },
  {
   "cell_type": "markdown",
   "id": "20f8d111",
   "metadata": {},
   "source": [
    "- allows a permanent app-server running for free (with limited traffic) [2]"
   ]
  },
  {
   "cell_type": "markdown",
   "id": "865f8b82",
   "metadata": {},
   "source": [
    "< [Table of Contents](#top) | [References](#references) >\n",
    "<a id=\"pythonanywhereBash\"></a>\n",
    "***\n",
    "###### ``Bash``\n",
    "***"
   ]
  },
  {
   "cell_type": "markdown",
   "id": "a6c051b7",
   "metadata": {},
   "source": [
    "- create account ``seanohaileasa`` [2]"
   ]
  },
  {
   "cell_type": "markdown",
   "id": "a5d77a2d",
   "metadata": {},
   "source": [
    "- create console ``maindeploy`` [2]\n",
    "\n",
    "```\n",
    "~ $ mkdir maindeploy\n",
    "~ $ cd maindeploy\n",
    "~/maindeploy $ git clone https://github.com/SeanOhAileasa/drp-app-server.git\n",
    "Cloning into 'drp-app-server'...\n",
    "remote: Enumerating objects: 18, done.\n",
    "remote: Counting objects: 100% (18/18), done.\n",
    "remote: Compressing objects: 100% (15/15), done.\n",
    "remote: Total 18 (delta 5), reused 14 (delta 1), pack-reused 0\n",
    "Unpacking objects: 100% (18/18), 16.44 KiB | 31.00 KiB/s, done.\n",
    "~/maindeploy $ cd drp-app-server/\n",
    "~/maindeploy/drp-app-server (main)$\n",
    "```"
   ]
  },
  {
   "cell_type": "markdown",
   "id": "8f15d3c6",
   "metadata": {},
   "source": [
    "< [Table of Contents](#top) | [References](#references) >\n",
    "<a id=\"pythonanywhereVirtualEnvironment\"></a>\n",
    "***\n",
    "###### Virtual Environment\n",
    "***"
   ]
  },
  {
   "cell_type": "markdown",
   "id": "854c73b9",
   "metadata": {},
   "source": [
    "- setting up a virtual environment - from the control panel link to that virtual environment then edit the file that starts the ``Flask`` app [2][[help.pythonanywhere.com](https://help.pythonanywhere.com/pages/Flask)]"
   ]
  },
  {
   "cell_type": "markdown",
   "id": "389e70b9",
   "metadata": {},
   "source": [
    "```\n",
    "~/maindeploy $ mkvirtualenv --python=/usr/bin/python3.8 my-virtualenv  # use whichever python version you prefer                                                                               \n",
    "created virtual environment CPython3.8.5.final.0-64 in 12672ms                                                                                                                                       \n",
    "  creator CPython3Posix(dest=/home/seanohaileasa/.virtualenvs/my-virtualenv, clear=False, no_vcs_ignore=False, global=False)                                                                         \n",
    "  seeder FromAppData(download=False, pip=bundle, setuptools=bundle, wheel=bundle, via=copy, app_data_dir=/home/seanohaileasa/.local/share/virtualenv)                                                \n",
    "    added seed packages: pip==21.1.2, setuptools==57.0.0, wheel==0.36.2                                                                                                                              \n",
    "  activators BashActivator,CShellActivator,FishActivator,PowerShellActivator,PythonActivator,XonshActivator                                                                                          \n",
    "virtualenvwrapper.user_scripts creating /home/seanohaileasa/.virtualenvs/my-virtualenv/bin/predeactivate                                                                                             \n",
    "virtualenvwrapper.user_scripts creating /home/seanohaileasa/.virtualenvs/my-virtualenv/bin/postdeactivate                                                                                            \n",
    "virtualenvwrapper.user_scripts creating /home/seanohaileasa/.virtualenvs/my-virtualenv/bin/preactivate                                                                                               \n",
    "virtualenvwrapper.user_scripts creating /home/seanohaileasa/.virtualenvs/my-virtualenv/bin/postactivate                                                                                              \n",
    "virtualenvwrapper.user_scripts creating /home/seanohaileasa/.virtualenvs/my-virtualenv/bin/get_env_details  \n",
    "(my-virtualenv) 18:12 ~/maindeploy $\n",
    "```"
   ]
  },
  {
   "cell_type": "markdown",
   "id": "bed642b9",
   "metadata": {},
   "source": [
    "```\n",
    "(my-virtualenv) 18:12 ~/maindeploy $ pip install flask\n",
    "```"
   ]
  },
  {
   "cell_type": "markdown",
   "id": "013f7e0d",
   "metadata": {},
   "source": [
    "```\n",
    "(my-virtualenv) 18:14 ~/maindeploy $ pip freeze                                                                                                                                                      \n",
    "DEPRECATION: --find-links option in pip freeze is deprecated. pip 21.2 will remove support for this functionality. You can find discussion regarding this at https://github.com/pypa/pip/issues/9069.\n",
    "-f /usr/share/pip-wheels                                                                                                                                                                             \n",
    "click==8.0.1                                                                                                                                                                                         \n",
    "Flask==2.0.1                                                                                                                                                                                         \n",
    "itsdangerous==2.0.1                                                                                                                                                                                  \n",
    "Jinja2==3.0.1                                                                                                                                                                                        \n",
    "MarkupSafe==2.0.1                                                                                                                                                                                    \n",
    "Werkzeug==2.0.1                                                                                                                                                                                      \n",
    "(my-virtualenv) 18:15 ~/maindeploy $\n",
    "```"
   ]
  },
  {
   "cell_type": "markdown",
   "id": "ae02c48b",
   "metadata": {},
   "source": [
    "```\n",
    "(my-virtualenv) 18:15 ~/maindeploy $ workon my-virtualenv\n",
    "```"
   ]
  },
  {
   "cell_type": "markdown",
   "id": "49fc8878",
   "metadata": {},
   "source": [
    "- go to the web tab and hit add a new web app - choose manual configuration and then choose the python version [2]"
   ]
  },
  {
   "cell_type": "markdown",
   "id": "9844f3dc",
   "metadata": {},
   "source": [
    "- refer to ``Virtualenv`` and enter path [2]\n",
    "\n",
    "```\n",
    "/home/seanohaileasa/.virtualenvs/my-virtualenv\n",
    "```"
   ]
  },
  {
   "cell_type": "markdown",
   "id": "88628953",
   "metadata": {},
   "source": [
    "- finally go edit the wsgi configuration file (link near the top of the web tab) [2]\n",
    "\n",
    "```\n",
    "/var/www/seanohaileasa_pythonanywhere_com_wsgi.py\n",
    "```"
   ]
  },
  {
   "cell_type": "markdown",
   "id": "13ba74f8",
   "metadata": {},
   "source": [
    "- uncomment [2]\n",
    "\n",
    "```\n",
    "import sys\n",
    "path = '/home/seanohaileasa/path/to/flask_app_directory'\n",
    "if path not in sys.path:\n",
    "    sys.path.append(path)\n",
    "\n",
    "from main_flask_app_file import app as application  # noqa\n",
    "```"
   ]
  },
  {
   "cell_type": "markdown",
   "id": "f6c482e3",
   "metadata": {},
   "source": [
    "- edit path [2]\n",
    "\n",
    "```\n",
    "path = '/home/seanohaileasa/maindeploy/drp-app-server/rc/server' # directory\n",
    "```"
   ]
  },
  {
   "cell_type": "markdown",
   "id": "abfccd66",
   "metadata": {},
   "source": [
    "- edit file [2]\n",
    "\n",
    "```\n",
    "from rest import app as application  # noqa # add file\n",
    "```"
   ]
  },
  {
   "cell_type": "markdown",
   "id": "4bad10fb",
   "metadata": {},
   "source": [
    "- within web tab edit under ``Code`` the ``Source code`` and ``Working directory`` [2]\n",
    "\n",
    "```\n",
    "/home/seanohaileasa/maindeploy/drp-app-server\n",
    "```"
   ]
  },
  {
   "cell_type": "markdown",
   "id": "56e3b455",
   "metadata": {},
   "source": [
    "< [Table of Contents](#top) | [References](#references) >\n",
    "<a id=\"pythonanywhereGitHub\"></a>\n",
    "***\n",
    "###### ``GitHub``\n",
    "***"
   ]
  },
  {
   "cell_type": "markdown",
   "id": "e72dc3e7",
   "metadata": {},
   "source": [
    "- make changes (GitHub commands as usual) [2]"
   ]
  },
  {
   "cell_type": "code",
   "execution_count": 1,
   "id": "59247516",
   "metadata": {},
   "outputs": [
    {
     "name": "stdout",
     "output_type": "stream",
     "text": [
      "@app.route(rule=\"/\")\r\n",
      "def fIndex():\r\n",
      "    \"\"\"URL map for \"/\" with method \"GET\".\r\n",
      "\r\n",
      "Input: \r\n",
      "Process: \r\n",
      "Output: string\r\n",
      "\"\"\"    \r\n",
      "    return \"Flask App - pythonanywhere\"\r\n",
      "# --- END ---\r\n"
     ]
    }
   ],
   "source": [
    "%%script bash\n",
    "grep -1 \"fIndex\" ./rc/server/rest.py -A 8"
   ]
  },
  {
   "cell_type": "markdown",
   "id": "c9adb610",
   "metadata": {},
   "source": [
    "- from console ``maindeploy`` [2]\n",
    "\n",
    "```\n",
    "git pull\n",
    "```"
   ]
  },
  {
   "cell_type": "markdown",
   "id": "c313da42",
   "metadata": {},
   "source": [
    "- within the web tab ``Reload`` [2]"
   ]
  },
  {
   "cell_type": "code",
   "execution_count": 2,
   "id": "a701adc9",
   "metadata": {},
   "outputs": [],
   "source": [
    "%%script bash\n",
    "start https://seanohaileasa.pythonanywhere.com/"
   ]
  },
  {
   "cell_type": "code",
   "execution_count": 3,
   "id": "75097957",
   "metadata": {},
   "outputs": [
    {
     "name": "stdout",
     "output_type": "stream",
     "text": [
      "HTTP/1.1 200 OK\r\n",
      "Date: Tue, 31 Aug 2021 19:05:22 GMT\r\n",
      "Content-Type: text/html; charset=utf-8\r\n",
      "Content-Length: 26\r\n",
      "Connection: keep-alive\r\n",
      "X-Clacks-Overhead: GNU Terry Pratchett\r\n",
      "Server: PythonAnywhere\r\n",
      "\r\n",
      "Flask App - pythonanywhere"
     ]
    },
    {
     "name": "stderr",
     "output_type": "stream",
     "text": [
      "  % Total    % Received % Xferd  Average Speed   Time    Time     Time  Current\r\n",
      "                                 Dload  Upload   Total   Spent    Left  Speed\r\n",
      "\r",
      "  0     0    0     0    0     0      0      0 --:--:-- --:--:-- --:--:--     0\r",
      "100    26  100    26    0     0     63      0 --:--:-- --:--:-- --:--:--    63\r\n"
     ]
    }
   ],
   "source": [
    "%%script bash\n",
    "curl -i https://seanohaileasa.pythonanywhere.com/"
   ]
  },
  {
   "cell_type": "code",
   "execution_count": 4,
   "id": "05ce0eb4",
   "metadata": {},
   "outputs": [],
   "source": [
    "exit()"
   ]
  },
  {
   "cell_type": "markdown",
   "id": "840b765a",
   "metadata": {},
   "source": [
    "***\n",
    "## END"
   ]
  },
  {
   "cell_type": "markdown",
   "id": "e0e42d51",
   "metadata": {},
   "source": [
    "< [Table of Contents](#top) | [Abstract](#abstract) | [Introduction](#introduction) | [Solution](#solution) | [Conclusion](#conclusion) | [References](#references) >\n",
    "<a id=\"references\"></a>\n",
    "***\n",
    "## References\n",
    "***\n",
    "&nbsp;&nbsp;&nbsp;&nbsp;&nbsp;&nbsp;&nbsp;&nbsp;&nbsp;[1] A. Beatty, \"DR8.3 Implementing REST server,\" GMIT, November 2020.\n",
    "\n",
    "&nbsp;&nbsp;&nbsp;&nbsp;&nbsp;&nbsp;&nbsp;&nbsp;&nbsp;[2] A. Beatty, \"DR8.3b python anyhwere,\" GMIT, November 2019.\n",
    "\n",
    "&nbsp;&nbsp;&nbsp;&nbsp;&nbsp;&nbsp;&nbsp;&nbsp;&nbsp;[3] A. Beatty, \"DR9.4 DAO walkthrough,\" GMIT, November 2020.\n",
    "\n",
    "&nbsp;&nbsp;&nbsp;&nbsp;&nbsp;&nbsp;&nbsp;&nbsp;&nbsp;[4] A. Beatty, \"DR9.5 server walkthrough,\" GMIT, November 2020.\n",
    "\n",
    "&nbsp;&nbsp;&nbsp;&nbsp;&nbsp;&nbsp;&nbsp;&nbsp;&nbsp;[5] A. Beatty, \"DR9.6 HTML-AJAX walkthrough parts,\" GMIT, November 2020."
   ]
  },
  {
   "cell_type": "markdown",
   "id": "b33c372a",
   "metadata": {},
   "source": [
    "***\n",
    "## END"
   ]
  },
  {
   "cell_type": "markdown",
   "id": "e5961b4d",
   "metadata": {},
   "source": [
    "< [Table of Contents](#top) | [Abstract](#abstract) | [Introduction](#introduction) | [Solution](#solution) | [Conclusion](#conclusion) | [References](#references) >\n",
    "<a id=\"appendix\"></a>\n",
    "***\n",
    "## Appendix\n",
    "***"
   ]
  },
  {
   "cell_type": "markdown",
   "id": "27dcc26b",
   "metadata": {},
   "source": [
    "&#x1F6A7;"
   ]
  },
  {
   "cell_type": "markdown",
   "id": "00d82a82",
   "metadata": {},
   "source": [
    "***\n",
    "## END"
   ]
  },
  {
   "cell_type": "markdown",
   "id": "899c1783",
   "metadata": {},
   "source": [
    "# END JUPYTER NOTEBOOK"
   ]
  }
 ],
 "metadata": {
  "kernelspec": {
   "display_name": "Python 3",
   "language": "python",
   "name": "python3"
  },
  "language_info": {
   "codemirror_mode": {
    "name": "ipython",
    "version": 3
   },
   "file_extension": ".py",
   "mimetype": "text/x-python",
   "name": "python",
   "nbconvert_exporter": "python",
   "pygments_lexer": "ipython3",
   "version": "3.8.8"
  }
 },
 "nbformat": 4,
 "nbformat_minor": 5
}
