{
 "cells": [
  {
   "cell_type": "code",
   "execution_count": null,
   "id": "76b6aaa9",
   "metadata": {},
   "outputs": [
    {
     "data": {
      "text/html": [
       "<script>Jupyter.notebook.kernel.restart()</script>"
      ]
     },
     "metadata": {},
     "output_type": "display_data"
    }
   ],
   "source": [
    "from IPython.core.display import display_html\n",
    "display_html(\"<script>Jupyter.notebook.kernel.restart()</script>\",raw=True)"
   ]
  },
  {
   "cell_type": "code",
   "execution_count": 1,
   "id": "19093beb",
   "metadata": {},
   "outputs": [
    {
     "data": {
      "text/html": [
       "<style>.container { width:100% !important; }</style>"
      ],
      "text/plain": [
       "<IPython.core.display.HTML object>"
      ]
     },
     "metadata": {},
     "output_type": "display_data"
    },
    {
     "data": {
      "text/html": [
       "<style>.container { width:100% !important; }</style>"
      ],
      "text/plain": [
       "<IPython.core.display.HTML object>"
      ]
     },
     "metadata": {},
     "output_type": "display_data"
    }
   ],
   "source": [
    "from sys import path; path.insert(1,\"../src\");\n",
    "import fubar; from importlib import reload; reload(fubar);"
   ]
  },
  {
   "cell_type": "markdown",
   "id": "616b0550",
   "metadata": {},
   "source": [
    "***\n",
    "< [GMIT Data Analytics](https://web.archive.org/web/20201029063153/https://www.gmit.ie/computer-science-and-applied-physics/higher-diploma-science-computing-data-analytics-ict) | [Home](https://github.com/SeanOhAileasa) | [README](https://github.com/SeanOhAileasa/drp-app-server/blob/main/README.md) >\n",
    "\n",
    "[![GMIT](https://github.com/SeanOhAileasa/SeanOhAileasa/blob/master/rc/gmit.png?raw=true)](https://web.archive.org/web/20201029063153/https://www.gmit.ie/computer-science-and-applied-physics/higher-diploma-science-computing-data-analytics-ict)\n",
    "\n",
    "## Data Representation - Course Material 2021\n",
    "### Topic: [App-server (``flask``)](https://nbviewer.jupyter.org/github/SeanOhAileasa/drp-app-server/blob/main/drp-app-server.ipynb)\n",
    "\n",
    "***"
   ]
  },
  {
   "cell_type": "markdown",
   "id": "220c0602",
   "metadata": {},
   "source": [
    "Course material for the ``Data Representation`` module (5 Credits) of the ``Higher Diploma in Science in Computing (Data Analytics) (H.Dip)`` programme (75 Credits) at **Galway-Mayo Institute of Technology (GMIT)**."
   ]
  },
  {
   "cell_type": "markdown",
   "id": "85ba523b",
   "metadata": {},
   "source": [
    "- referenced external link - [Data Representation](https://nbviewer.jupyter.org/github/SeanOhAileasa/drp-data-representation/blob/main/drp-data-representation.ipynb)"
   ]
  },
  {
   "cell_type": "code",
   "execution_count": 2,
   "id": "c75655d3",
   "metadata": {},
   "outputs": [],
   "source": [
    "from sys import path; path.insert(1,\"../src\")\n",
    "from fubar import fFile"
   ]
  },
  {
   "cell_type": "code",
   "execution_count": 3,
   "id": "464c029f",
   "metadata": {},
   "outputs": [
    {
     "name": "stdout",
     "output_type": "stream",
     "text": [
      "# repository ./SeanOhAileasa\r\n",
      "def fFile(nParPath):\r\n",
      "    \"\"\"Start a file with its associated application.\r\n",
      "\r\n",
      "Input: nParPath\r\n",
      "Process: (os.path.realpath; os.startfile)\r\n",
      "Output: file opened with associated application\r\n",
      "\"\"\"\r\n",
      "    from os import path,startfile\r\n",
      "    return startfile(path.realpath(nParPath))\r\n",
      "# --- END ---\r\n"
     ]
    }
   ],
   "source": [
    "%%script bash\n",
    "grep -1 \"def fFile\" ../src/fubar.py -A 9"
   ]
  },
  {
   "cell_type": "markdown",
   "id": "e1449819",
   "metadata": {},
   "source": [
    "<a id=\"top\"></a>\n",
    "***\n",
    "## Table of Contents\n",
    "***\n",
    "\n",
    "## [Abstract](#abstract)\n",
    "\n",
    "## [Introduction](#introduction)\n",
    "\n",
    "* [Design](#introductionDesignAPI) <br/><br/>\n",
    "    * [Implementation](#introductionDesignAPISkeleton) <br/><br/>\n",
    "        * [``venv``](#introductionDesignAPISkeletonvenv) <br/><br/>\n",
    "            * [``.gitignore``](#introductionDesignAPISkeletonvenvgitignore) <br/><br/>\n",
    "        * [``flask``](#introductionDesignAPISkeletonappflask) <br/><br/>\n",
    "            * &#8594; ``obj``: <br/><br/>\n",
    "                * [``Flask``](#introductionDesignAPISkeletonappFlask) <br/><br/>\n",
    "                    * [``app``](#introductionDesignAPISkeletonapp)&nbsp;&nbsp;|&nbsp;&nbsp;[``:import_name``](#introductionDesignAPISkeletonapp)&nbsp;&nbsp;|&nbsp;&nbsp;[``:static_url_path``](#introductionDesignAPISkeletonapp)&nbsp;&nbsp;|&nbsp;&nbsp;[``:static_folder``](#introductionDesignAPISkeletonapp) <br/><br/>\n",
    "                        * [``route``](#introductionDesignAPISkeletonapproute)&nbsp;&nbsp;|&nbsp;&nbsp;[``:rule``](#introductionDesignAPISkeletonapproute)&nbsp;&nbsp;|&nbsp;&nbsp;[``:options``](#introductionDesignAPISkeletonapproute) <br/><br/>        \n",
    "                        * [``run``](#introductionDesignAPISkeletonapprun)&nbsp;&nbsp;|&nbsp;&nbsp;[``:debug``](#introductionDesignAPISkeletonapprun)\n",
    "                        \n",
    "## [Solution](#solution)\n",
    "\n",
    "* [Interface](#introductionDesignAPISkeletonappInterface) <br/><br/>\n",
    "    * [``GET``](#introductionDesignAPISkeletonappInterfaceGET)&nbsp;&nbsp;|&nbsp;&nbsp;Get all&nbsp;&nbsp;|&nbsp;&nbsp;Find by id <br/><br/>\n",
    "    * [``POST``](#introductionDesignAPISkeletonappInterfacePOST)&nbsp;&nbsp;|&nbsp;&nbsp;Create <br/><br/>\n",
    "    * [``PUT``](#introductionDesignAPISkeletonappInterfacePUT)&nbsp;&nbsp;|&nbsp;&nbsp;Update <br/><br/>\n",
    "    * [``DELETE``](#introductionDesignAPISkeletonappInterfaceDELETE)&nbsp;&nbsp;|&nbsp;&nbsp;Delete <br/><br/>\n",
    "* [Database](#introductionDesignAPISkeletonDatabase) <br/><br/>\n",
    "    * [Collection](#introductionDesignAPISkeletonDatabaseCollection) <br/><br/>\n",
    "        * [``jsonify``](#introductionDesignAPISkeletonDatabaseCollectionflaskjsonify) (&#8594; Introduction &#8594; Design &#8594; Implementation &#8594; ``flask``) <br/><br/>\n",
    "            * [``GET``](#introductionDesignAPISkeletonDatabaseCollectionflaskjsonifyGET)&nbsp;&nbsp;|&nbsp;&nbsp;Get all&nbsp;&nbsp;|&nbsp;&nbsp;Find by id <br/><br/>\n",
    "            * [``POST``](#introductionDesignAPISkeletonDatabaseCollectionflaskjsonifyPOST)&nbsp;&nbsp;|&nbsp;&nbsp;Create <br/><br/>\n",
    "                * [``request``](#introductionDesignAPISkeletonDatabaseCollectionflaskrequest) (&#8594; Introduction &#8594; Design &#8594; Implementation &#8594; ``flask``) &#x1F6A7; <br/><br/>\n",
    "                    * [``json``](#introductionDesignAPISkeletonDatabaseCollectionflaskrequestjson)<br/><br/>                        \n",
    "                        * [``PUT``](#introductionDesignAPISkeletonDatabaseCollectionflaskrequestjsonPUT)&nbsp;&nbsp;|&nbsp;&nbsp;Update <br/><br/>\n",
    "            * [``DELETE``](#introductionDesignAPISkeletonDatabaseCollectionflaskDELETE)&nbsp;&nbsp;|&nbsp;&nbsp;Delete                       \n",
    "\n",
    "\n",
    "## [Conclusion](#conclusion)\n",
    "\n",
    "* [pythonanywhere](#pythonanywhere) <br/><br/>\n",
    "    * [``Bash``](#pythonanywhereBash) <br/><br/>\n",
    "        * [Virtual Environment](#pythonanywhereVirtualEnvironment) <br/><br/>\n",
    "    * [``GitHub``](#pythonanywhereGitHub)"
   ]
  },
  {
   "cell_type": "markdown",
   "id": "bc989e6f",
   "metadata": {},
   "source": [
    "***\n",
    "## END"
   ]
  },
  {
   "cell_type": "markdown",
   "id": "0c88ab4a",
   "metadata": {},
   "source": [
    "< [Table of Contents](#top) | [Introduction](#introduction) | [Solution](#solution) | [Conclusion](#conclusion) | [References](#references) >\n",
    "<a id=\"abstract\"></a>\n",
    "***\n",
    "## Abstract\n",
    "***"
   ]
  },
  {
   "cell_type": "code",
   "execution_count": null,
   "id": "619e9d65",
   "metadata": {},
   "outputs": [],
   "source": [
    "# fFile(\"./hide/DR8.3 Implementing REST server - 12-11-2020.mp4\")"
   ]
  },
  {
   "cell_type": "markdown",
   "id": "4d16ed22",
   "metadata": {},
   "source": [
    "- implementing a ``RESTful`` server using ``flask`` [1]"
   ]
  },
  {
   "cell_type": "markdown",
   "id": "e471d217",
   "metadata": {},
   "source": [
    "- requirements include an app-server that has a ``RESTful`` interface to provide CRUD operations for one database table [1]"
   ]
  },
  {
   "cell_type": "markdown",
   "id": "fbac35e6",
   "metadata": {},
   "source": [
    "- the entity to perform CRUD operations on will be ``Books`` having: i) an ``id`` (integer) which the database will auto-increment and will be the ``KEY`` (unique identifier) to find one of the entities; ii) a ``title`` (string); iii) an ``author`` (string); iv) a ``price`` (integer) [1]"
   ]
  },
  {
   "cell_type": "markdown",
   "id": "aa8e8f27",
   "metadata": {},
   "source": [
    "- books could have an ISDN number as a unique identifier but choosing an ``id`` in order to make as general as possible [1]"
   ]
  },
  {
   "cell_type": "markdown",
   "id": "3fa461fc",
   "metadata": {},
   "source": [
    "***\n",
    "## END"
   ]
  },
  {
   "cell_type": "markdown",
   "id": "d319e57d",
   "metadata": {},
   "source": [
    "< [Table of Contents](#top) | [Abstract](#abstract) | [Solution](#solution) | [Conclusion](#conclusion) | [References](#references) >\n",
    "<a id=\"introduction\"></a>\n",
    "***\n",
    "## Introduction\n",
    "***"
   ]
  },
  {
   "cell_type": "markdown",
   "id": "e1e73e9e",
   "metadata": {},
   "source": [
    "- need to design the API (no code) [1]"
   ]
  },
  {
   "cell_type": "markdown",
   "id": "6e7e3f1e",
   "metadata": {},
   "source": [
    "< [Table of Contents](#top) | [References](#references) >\n",
    "<a id=\"introductionDesignAPI\"></a>\n",
    "***\n",
    "### Design\n",
    "***"
   ]
  },
  {
   "cell_type": "markdown",
   "id": "96a4a312",
   "metadata": {},
   "source": [
    "- creating a CRUD interface (``C``reate ``R``ead ``U``pdate ``D``elete) - the API should:\n",
    "\n",
    "i) Get all books (HTTP request with the method ``GET`` - URL ``/books`` - no parameters - return a ``json`` array with book objects);\n",
    "\n",
    "ii) Get a book by id (``GET`` - URL ``/books/id`` - no parameter given book ``id`` is in the URL - return an object with ``id``);\n",
    "\n",
    "iii) Create a book (``POST`` - URL ``/books`` - parameter sent will be a ``json`` object with the data - return the book object with ``id``);\n",
    "\n",
    "iv) Update a book (``PUT`` - URL ``/books/id`` with the ``id`` of the book to update - parameter is the attribute ``name`` and the new ``value`` - return the full book ``json`` object);\n",
    "\n",
    "v) Delete a book (``DELETE`` - URL ``/books/id`` with the ``id`` of the book to delete - no parameter given book ``id`` is in the URL - return ``\"done\":true``)"
   ]
  },
  {
   "cell_type": "markdown",
   "id": "382aaef4",
   "metadata": {},
   "source": [
    "- other applications may require other functionality in the interface therefore can always add more functionality later on (reduce all prices by 10% or find books by author) [1]"
   ]
  },
  {
   "cell_type": "markdown",
   "id": "6ee0a403",
   "metadata": {},
   "source": [
    "- the ``RESTful`` interface proposed has: i) two URLs that are the same ``/books`` but using different methods (``GET`` and ``POST``) and; ii) three URLs that are the same ``books/id`` but again each using different methods (``GET`` and ``PUT`` and ``DELETE``) [1]"
   ]
  },
  {
   "cell_type": "markdown",
   "id": "97da6387",
   "metadata": {},
   "source": [
    "![RESTful API for Books](https://github.com/SeanOhAileasa/SeanOhAileasa/blob/master/rc/drp/rest/booksProposed.png?raw=true)\n",
    "\n",
    "***(Image) A. Beatty, \"DR8.3 Implementing REST server,\" GMIT, November 2020.***"
   ]
  },
  {
   "cell_type": "markdown",
   "id": "876ee137",
   "metadata": {},
   "source": [
    "< [Table of Contents](#top) | [References](#references) >\n",
    "<a id=\"introductionDesignAPISkeleton\"></a>\n",
    "***\n",
    "###### Implementation\n",
    "***"
   ]
  },
  {
   "cell_type": "markdown",
   "id": "7b235161",
   "metadata": {},
   "source": [
    "- designed the ``RESTful`` API (now starting to code) [1]"
   ]
  },
  {
   "cell_type": "markdown",
   "id": "7441e84c",
   "metadata": {},
   "source": [
    "- creating the ``flask`` app-server with just skeleton functions that do not do anything yet except confirm function calls [1]"
   ]
  },
  {
   "cell_type": "markdown",
   "id": "67dae452",
   "metadata": {},
   "source": [
    "- implementing the ``REST`` API without actually doing the individual implementations for each of the different calls (adding a function and the URL maps for each of the functions required in the interface and testing using curl) [1]"
   ]
  },
  {
   "cell_type": "markdown",
   "id": "1a4eb54c",
   "metadata": {},
   "source": [
    "< [Table of Contents](#top) | [References](#references) >\n",
    "<a id=\"introductionDesignAPISkeletonvenv\"></a>\n",
    "***\n",
    "###### ``venv``\n",
    "***"
   ]
  },
  {
   "cell_type": "markdown",
   "id": "f7491c2b",
   "metadata": {},
   "source": [
    "- create a virtual environment [1]"
   ]
  },
  {
   "cell_type": "code",
   "execution_count": 1,
   "id": "69222ae5",
   "metadata": {},
   "outputs": [],
   "source": [
    "%%script bash\n",
    "python -m venv venv"
   ]
  },
  {
   "cell_type": "markdown",
   "id": "704ff292",
   "metadata": {},
   "source": [
    "- activate ``venv`` [1]\n",
    "\n",
    "```\n",
    "./venv/Scripts/activate.bat\n",
    "```"
   ]
  },
  {
   "cell_type": "markdown",
   "id": "d911058a",
   "metadata": {},
   "source": [
    "- see packages (nothing) [1]\n",
    "\n",
    "```\n",
    "pip freeze\n",
    "```"
   ]
  },
  {
   "cell_type": "markdown",
   "id": "f88b1c9f",
   "metadata": {},
   "source": [
    "- install ``flask`` [1]\n",
    "\n",
    "```\n",
    "pip install flask\n",
    "```"
   ]
  },
  {
   "cell_type": "markdown",
   "id": "3bb3aaf0",
   "metadata": {},
   "source": [
    "- once installed put into ``requirements.txt`` (if needed for something else) [1]\n",
    "\n",
    "```\n",
    "pip freeze > ./rc/server/requirements.txt\n",
    "```"
   ]
  },
  {
   "cell_type": "markdown",
   "id": "8e3d3e1d",
   "metadata": {},
   "source": [
    "- ``venv`` now set up [1]"
   ]
  },
  {
   "cell_type": "code",
   "execution_count": 2,
   "id": "dd5d5424",
   "metadata": {},
   "outputs": [
    {
     "name": "stdout",
     "output_type": "stream",
     "text": [
      "click==8.0.1\r\n",
      "colorama==0.4.4\r\n",
      "Flask==2.0.1\r\n",
      "itsdangerous==2.0.1\r\n",
      "Jinja2==3.0.1\r\n",
      "MarkupSafe==2.0.1\r\n",
      "Werkzeug==2.0.1\r\n"
     ]
    }
   ],
   "source": [
    "%%script bash\n",
    "cat ./rc/server/requirements.txt"
   ]
  },
  {
   "cell_type": "code",
   "execution_count": 3,
   "id": "6b5b4adf",
   "metadata": {},
   "outputs": [],
   "source": [
    "exit()"
   ]
  },
  {
   "cell_type": "markdown",
   "id": "8f7062c4",
   "metadata": {},
   "source": [
    "< [Table of Contents](#top) | [References](#references) >\n",
    "<a id=\"introductionDesignAPISkeletonvenvgitignore\"></a>\n",
    "***\n",
    "###### ``.gitignore``\n",
    "***"
   ]
  },
  {
   "cell_type": "code",
   "execution_count": 1,
   "id": "e8c0b76d",
   "metadata": {},
   "outputs": [
    {
     "name": "stdout",
     "output_type": "stream",
     "text": [
      "# Application specific files\r\n",
      "venv\r\n"
     ]
    }
   ],
   "source": [
    "%%script bash\n",
    "grep \"# Application specific files\" ./.gitignore -A 1"
   ]
  },
  {
   "cell_type": "code",
   "execution_count": 2,
   "id": "47d86d79",
   "metadata": {},
   "outputs": [],
   "source": [
    "exit()"
   ]
  },
  {
   "cell_type": "markdown",
   "id": "a7fb41e5",
   "metadata": {},
   "source": [
    "< [Table of Contents](#top) | [References](#references) >\n",
    "<a id=\"introductionDesignAPISkeletonappflask\"></a>\n",
    "***\n",
    "###### ``flask`` \n",
    "***"
   ]
  },
  {
   "cell_type": "markdown",
   "id": "353a108c",
   "metadata": {},
   "source": [
    "- [[doc](https://pypi.org/project/Werkzeug/)]"
   ]
  },
  {
   "cell_type": "markdown",
   "id": "e970d5bc",
   "metadata": {},
   "source": [
    "< [Table of Contents](#top) | [References](#references) >\n",
    "<a id=\"introductionDesignAPISkeletonappFlask\"></a>\n",
    "***\n",
    "###### ``Flask`` \n",
    "***"
   ]
  },
  {
   "cell_type": "code",
   "execution_count": 1,
   "id": "e3b42542",
   "metadata": {},
   "outputs": [
    {
     "name": "stdout",
     "output_type": "stream",
     "text": [
      "from flask import Flask\r\n"
     ]
    }
   ],
   "source": [
    "%%script bash\n",
    "grep \"import Flask\" ./rc/server/rest.py"
   ]
  },
  {
   "cell_type": "code",
   "execution_count": 2,
   "id": "8d4e5f09",
   "metadata": {},
   "outputs": [],
   "source": [
    "exit()"
   ]
  },
  {
   "cell_type": "markdown",
   "id": "c2cdf470",
   "metadata": {},
   "source": [
    "< [Table of Contents](#top) | [References](#references) >\n",
    "<a id=\"introductionDesignAPISkeletonapp\"></a>\n",
    "***\n",
    "###### ``app`` ``:import_name`` ``:static_url_path`` ``:static_folder``\n",
    "***"
   ]
  },
  {
   "cell_type": "markdown",
   "id": "95ce16c3",
   "metadata": {},
   "source": [
    "- instantiate (define a new class) ``Flask`` [1]"
   ]
  },
  {
   "cell_type": "markdown",
   "id": "e20bc0fd",
   "metadata": {},
   "source": [
    "- serve static pages using the parameters ``static_url_path`` and ``static_folder`` [1]"
   ]
  },
  {
   "cell_type": "code",
   "execution_count": 1,
   "id": "835a4d13",
   "metadata": {},
   "outputs": [
    {
     "name": "stdout",
     "output_type": "stream",
     "text": [
      "app=Flask(import_name=__name__,static_url_path=\"\",static_folder=\"../../rc/static/\")\r\n"
     ]
    }
   ],
   "source": [
    "%%script bash\n",
    "grep \"app=Flask\" ./rc/server/rest.py"
   ]
  },
  {
   "cell_type": "code",
   "execution_count": 2,
   "id": "c8614fed",
   "metadata": {},
   "outputs": [],
   "source": [
    "exit()"
   ]
  },
  {
   "cell_type": "markdown",
   "id": "a9d7ba1c",
   "metadata": {},
   "source": [
    "< [Table of Contents](#top) | [References](#references) >\n",
    "<a id=\"introductionDesignAPISkeletonapproute\"></a>\n",
    "***\n",
    "###### ``route`` ``:rule`` ``:options``\n",
    "***"
   ]
  },
  {
   "cell_type": "markdown",
   "id": "55c0285a",
   "metadata": {},
   "source": [
    "- in the URL after the host (name or ip address of the machine to get the resource from) if what remains (``rule``) is ``/`` then call the function that follows - maps the URL to a particular function [1]"
   ]
  },
  {
   "cell_type": "markdown",
   "id": "afa47b10",
   "metadata": {},
   "source": [
    "- ``options`` is a list of methods the ``rule`` should be limited to (by default just listens for ``GET``) [1]"
   ]
  },
  {
   "cell_type": "code",
   "execution_count": 1,
   "id": "c213466e",
   "metadata": {},
   "outputs": [
    {
     "name": "stdout",
     "output_type": "stream",
     "text": [
      "@app.route(rule=\"/\")\r\n",
      "def fIndex():\r\n",
      "    \"\"\"URL map for \"/\" with method \"GET\".\r\n",
      "\r\n",
      "Input: \r\n",
      "Process: \r\n",
      "Output: string\r\n",
      "\"\"\"    \r\n",
      "    return \"Flask App\"\r\n",
      "# --- END ---\r\n"
     ]
    }
   ],
   "source": [
    "%%script bash\n",
    "grep \"rule=\\\"/\\\"\" ./rc/server/rest.py -A 9"
   ]
  },
  {
   "cell_type": "code",
   "execution_count": 2,
   "id": "4cc04b56",
   "metadata": {},
   "outputs": [],
   "source": [
    "exit()"
   ]
  },
  {
   "cell_type": "markdown",
   "id": "5809f9c9",
   "metadata": {},
   "source": [
    "< [Table of Contents](#top) | [References](#references) >\n",
    "<a id=\"introductionDesignAPISkeletonapprun\"></a>\n",
    "***\n",
    "###### ``run`` ``:debug``\n",
    "***"
   ]
  },
  {
   "cell_type": "markdown",
   "id": "0b1c1225",
   "metadata": {},
   "source": [
    "- run the app-server (``Flask``) with debugger active [1]"
   ]
  },
  {
   "cell_type": "code",
   "execution_count": 1,
   "id": "c25aa303",
   "metadata": {},
   "outputs": [
    {
     "name": "stdout",
     "output_type": "stream",
     "text": [
      "if __name__==\"__main__\":\r\n",
      "    app.run(debug=True)\r\n"
     ]
    }
   ],
   "source": [
    "%%script bash\n",
    "grep -1 \"debug=True\" ./rc/server/rest.py -A 1"
   ]
  },
  {
   "cell_type": "markdown",
   "id": "4257e42c",
   "metadata": {},
   "source": [
    "- localhost served up through the server (verify all ok) [1]"
   ]
  },
  {
   "cell_type": "code",
   "execution_count": 2,
   "id": "a1d8ed33",
   "metadata": {},
   "outputs": [],
   "source": [
    "%%script bash\n",
    "start http://127.0.0.1:5000/"
   ]
  },
  {
   "cell_type": "markdown",
   "id": "64d3026c",
   "metadata": {},
   "source": [
    "- using client-side program ``cURL`` for testing [1]"
   ]
  },
  {
   "cell_type": "code",
   "execution_count": 3,
   "id": "8a420e47",
   "metadata": {},
   "outputs": [
    {
     "name": "stdout",
     "output_type": "stream",
     "text": [
      "Flask App"
     ]
    },
    {
     "name": "stderr",
     "output_type": "stream",
     "text": [
      "  % Total    % Received % Xferd  Average Speed   Time    Time     Time  Current\r\n",
      "                                 Dload  Upload   Total   Spent    Left  Speed\r\n",
      "\r",
      "  0     0    0     0    0     0      0      0 --:--:-- --:--:-- --:--:--     0\r",
      "100     9  100     9    0     0   2250      0 --:--:-- --:--:-- --:--:--  3000\r\n"
     ]
    }
   ],
   "source": [
    "%%script bash\n",
    "curl http://127.0.0.1:5000/"
   ]
  },
  {
   "cell_type": "code",
   "execution_count": 4,
   "id": "b2ead3af",
   "metadata": {},
   "outputs": [],
   "source": [
    "exit()"
   ]
  },
  {
   "cell_type": "markdown",
   "id": "e35cc039",
   "metadata": {},
   "source": [
    "***\n",
    "## END"
   ]
  },
  {
   "cell_type": "markdown",
   "id": "2e078fed",
   "metadata": {},
   "source": [
    "< [Table of Contents](#top) | [Abstract](#abstract) | [Introduction](#introduction) | [Conclusion](#conclusion) | [References](#references) >\n",
    "<a id=\"solution\"></a>\n",
    "***\n",
    "## Solution\n",
    "***"
   ]
  },
  {
   "cell_type": "markdown",
   "id": "eb7b8cbb",
   "metadata": {},
   "source": [
    "< [Table of Contents](#top) | [References](#references) >\n",
    "<a id=\"introductionDesignAPISkeletonappInterface\"></a>\n",
    "***\n",
    "### Interface\n",
    "***"
   ]
  },
  {
   "cell_type": "markdown",
   "id": "d8c88c32",
   "metadata": {},
   "source": [
    "- implement proposed interface actions: \n",
    "\n",
    "i) Get all (``GET`` - URL ``/books``);\n",
    "\n",
    "ii) Find by id (``GET`` - URL ``/books/id``);\n",
    "\n",
    "iii) Create (``POST`` - URL ``/books``);\n",
    "\n",
    "iv) Update (``PUT`` - URL ``/books/id``);\n",
    "\n",
    "v) Delete (``DELETE`` - URL ``/books/id``)"
   ]
  },
  {
   "cell_type": "markdown",
   "id": "269eb5a4",
   "metadata": {},
   "source": [
    "![RESTful API for Books](https://github.com/SeanOhAileasa/SeanOhAileasa/blob/master/rc/drp/rest/booksProposed.png?raw=true)\n",
    "\n",
    "***(Image) A. Beatty, \"DR8.3 Implementing REST server,\" GMIT, November 2020.***"
   ]
  },
  {
   "cell_type": "markdown",
   "id": "d3355bb5",
   "metadata": {},
   "source": [
    "< [Table of Contents](#top) | [References](#references) >\n",
    "<a id=\"introductionDesignAPISkeletonappInterfaceGET\"></a>\n",
    "***\n",
    "###### ``GET``\n",
    "***"
   ]
  },
  {
   "cell_type": "markdown",
   "id": "65efc67f",
   "metadata": {},
   "source": [
    "- Get all (URL ``/books``) [1]"
   ]
  },
  {
   "cell_type": "code",
   "execution_count": 1,
   "id": "927f230b",
   "metadata": {},
   "outputs": [
    {
     "name": "stdout",
     "output_type": "stream",
     "text": [
      "@app.route(rule=\"/books\")\r\n",
      "def fGetAll():\r\n",
      "    \"\"\"URL map for \"/books\" with method \"GET\".\r\n",
      "\r\n",
      "Input: \r\n",
      "Process: \r\n",
      "Output:\r\n",
      "\"\"\"    \r\n",
      "    return \"ACTION: Get all\"\r\n",
      "# --- END ---\r\n"
     ]
    }
   ],
   "source": [
    "%%script bash\n",
    "grep -1 \"fGetAll\" ./rc/server/rest.py -A 8"
   ]
  },
  {
   "cell_type": "code",
   "execution_count": 2,
   "id": "e878ce8b",
   "metadata": {},
   "outputs": [],
   "source": [
    "%%script bash\n",
    "start http://127.0.0.1:5000/books"
   ]
  },
  {
   "cell_type": "code",
   "execution_count": 3,
   "id": "172fccbd",
   "metadata": {},
   "outputs": [
    {
     "name": "stdout",
     "output_type": "stream",
     "text": [
      "ACTION: Get all"
     ]
    },
    {
     "name": "stderr",
     "output_type": "stream",
     "text": [
      "  % Total    % Received % Xferd  Average Speed   Time    Time     Time  Current\r\n",
      "                                 Dload  Upload   Total   Spent    Left  Speed\r\n",
      "\r",
      "  0     0    0     0    0     0      0      0 --:--:-- --:--:-- --:--:--     0\r",
      "100    15  100    15    0     0   7500      0 --:--:-- --:--:-- --:--:--  7500\r\n"
     ]
    }
   ],
   "source": [
    "%%script bash\n",
    "curl http://127.0.0.1:5000/books"
   ]
  },
  {
   "cell_type": "code",
   "execution_count": 4,
   "id": "4c8c82cf",
   "metadata": {},
   "outputs": [],
   "source": [
    "exit()"
   ]
  },
  {
   "cell_type": "markdown",
   "id": "7f4ecf21",
   "metadata": {},
   "source": [
    "- Find by id (URL ``/books/id``) [1]"
   ]
  },
  {
   "cell_type": "code",
   "execution_count": 1,
   "id": "109488f7",
   "metadata": {},
   "outputs": [
    {
     "name": "stdout",
     "output_type": "stream",
     "text": [
      "@app.route(rule=\"/books/<int:nParID>\")\r\n",
      "def fFindById(nParID):\r\n",
      "    \"\"\"URL map for \"/books/<int:nParID>\" with method \"GET\".\r\n",
      "\r\n",
      "Input: \r\n",
      "Process: \r\n",
      "Output:\r\n",
      "\"\"\"    \r\n",
      "    return \"ACTION: Find by id (\"+str(nParID)+\")\"\r\n",
      "# --- END ---\r\n"
     ]
    }
   ],
   "source": [
    "%%script bash\n",
    "grep -1 \"fFindById\" ./rc/server/rest.py -A 8"
   ]
  },
  {
   "cell_type": "code",
   "execution_count": 2,
   "id": "3b2d75c3",
   "metadata": {},
   "outputs": [],
   "source": [
    "%%script bash\n",
    "start http://127.0.0.1:5000/books/101"
   ]
  },
  {
   "cell_type": "code",
   "execution_count": 3,
   "id": "60911962",
   "metadata": {},
   "outputs": [
    {
     "name": "stdout",
     "output_type": "stream",
     "text": [
      "ACTION: Find by id (101)"
     ]
    },
    {
     "name": "stderr",
     "output_type": "stream",
     "text": [
      "  % Total    % Received % Xferd  Average Speed   Time    Time     Time  Current\r\n",
      "                                 Dload  Upload   Total   Spent    Left  Speed\r\n",
      "\r",
      "  0     0    0     0    0     0      0      0 --:--:-- --:--:-- --:--:--     0\r",
      "100    24  100    24    0     0  12000      0 --:--:-- --:--:-- --:--:-- 24000\r\n"
     ]
    }
   ],
   "source": [
    "%%script bash\n",
    "curl http://127.0.0.1:5000/books/101"
   ]
  },
  {
   "cell_type": "code",
   "execution_count": 4,
   "id": "1465d2dc",
   "metadata": {},
   "outputs": [],
   "source": [
    "exit()"
   ]
  },
  {
   "cell_type": "markdown",
   "id": "3abe9186",
   "metadata": {},
   "source": [
    "< [Table of Contents](#top) | [References](#references) >\n",
    "<a id=\"introductionDesignAPISkeletonappInterfacePOST\"></a>\n",
    "***\n",
    "###### ``POST``\n",
    "***"
   ]
  },
  {
   "cell_type": "markdown",
   "id": "3d0d53b1",
   "metadata": {},
   "source": [
    "- Create (URL ``/books``) [1]"
   ]
  },
  {
   "cell_type": "code",
   "execution_count": 1,
   "id": "173bb484",
   "metadata": {},
   "outputs": [
    {
     "name": "stdout",
     "output_type": "stream",
     "text": [
      "@app.route(rule=\"/books\",methods=[\"POST\"])\r\n",
      "def fCreate():\r\n",
      "    \"\"\"URL map for \"/books\" with method \"POST\".\r\n",
      "\r\n",
      "Input: \r\n",
      "Process: \r\n",
      "Output:\r\n",
      "\"\"\"    \r\n",
      "    return \"ACTION: Create\"\r\n",
      "# --- END ---\r\n"
     ]
    }
   ],
   "source": [
    "%%script bash\n",
    "grep -1 \"fCreate\" ./rc/server/rest.py -A 8"
   ]
  },
  {
   "cell_type": "code",
   "execution_count": 2,
   "id": "8df2e79b",
   "metadata": {},
   "outputs": [
    {
     "name": "stdout",
     "output_type": "stream",
     "text": [
      "ACTION: Create"
     ]
    },
    {
     "name": "stderr",
     "output_type": "stream",
     "text": [
      "  % Total    % Received % Xferd  Average Speed   Time    Time     Time  Current\r\n",
      "                                 Dload  Upload   Total   Spent    Left  Speed\r\n",
      "\r",
      "  0     0    0     0    0     0      0      0 --:--:-- --:--:-- --:--:--     0\r",
      "100    14  100    14    0     0   7000      0 --:--:-- --:--:-- --:--:--  7000\r\n"
     ]
    }
   ],
   "source": [
    "%%script bash\n",
    "curl -X \"POST\" http://127.0.0.1:5000/books # cannot check browser"
   ]
  },
  {
   "cell_type": "code",
   "execution_count": 3,
   "id": "ebe5cceb",
   "metadata": {},
   "outputs": [],
   "source": [
    "exit()"
   ]
  },
  {
   "cell_type": "markdown",
   "id": "67e095c2",
   "metadata": {},
   "source": [
    "< [Table of Contents](#top) | [References](#references) >\n",
    "<a id=\"introductionDesignAPISkeletonappInterfacePUT\"></a>\n",
    "***\n",
    "###### ``PUT``\n",
    "***"
   ]
  },
  {
   "cell_type": "markdown",
   "id": "58594084",
   "metadata": {},
   "source": [
    "- Update (URL ``/books/id``) [1]"
   ]
  },
  {
   "cell_type": "code",
   "execution_count": 1,
   "id": "7d281ed9",
   "metadata": {},
   "outputs": [
    {
     "name": "stdout",
     "output_type": "stream",
     "text": [
      "@app.route(rule=\"/books/<int:nParID>\",methods=[\"PUT\"])\r\n",
      "def fUpdate(nParID):\r\n",
      "    \"\"\"URL map for \"/books/<int:nParID>\" with method \"PUT\".\r\n",
      "\r\n",
      "Input: \r\n",
      "Process: \r\n",
      "Output:\r\n",
      "\"\"\"    \r\n",
      "    return \"ACTION: Update (\"+str(nParID)+\")\"\r\n",
      "# --- END ---\r\n"
     ]
    }
   ],
   "source": [
    "%%script bash\n",
    "grep -1 \"fUpdate\" ./rc/server/rest.py -A 8"
   ]
  },
  {
   "cell_type": "code",
   "execution_count": 2,
   "id": "563e4b8b",
   "metadata": {},
   "outputs": [
    {
     "name": "stdout",
     "output_type": "stream",
     "text": [
      "ACTION: Update (102)"
     ]
    },
    {
     "name": "stderr",
     "output_type": "stream",
     "text": [
      "  % Total    % Received % Xferd  Average Speed   Time    Time     Time  Current\r\n",
      "                                 Dload  Upload   Total   Spent    Left  Speed\r\n",
      "\r",
      "  0     0    0     0    0     0      0      0 --:--:-- --:--:-- --:--:--     0\r",
      "100    20  100    20    0     0  10000      0 --:--:-- --:--:-- --:--:-- 10000\r\n"
     ]
    }
   ],
   "source": [
    "%%script bash\n",
    "curl -X \"PUT\" http://127.0.0.1:5000/books/102"
   ]
  },
  {
   "cell_type": "code",
   "execution_count": 3,
   "id": "fdf03623",
   "metadata": {},
   "outputs": [],
   "source": [
    "exit()"
   ]
  },
  {
   "cell_type": "markdown",
   "id": "035816ae",
   "metadata": {},
   "source": [
    "< [Table of Contents](#top) | [References](#references) >\n",
    "<a id=\"introductionDesignAPISkeletonappInterfaceDELETE\"></a>\n",
    "***\n",
    "###### ``DELETE``\n",
    "***"
   ]
  },
  {
   "cell_type": "markdown",
   "id": "2d2988a9",
   "metadata": {},
   "source": [
    "- Delete (URL ``/books/id``) [1]"
   ]
  },
  {
   "cell_type": "code",
   "execution_count": 1,
   "id": "9b274e46",
   "metadata": {},
   "outputs": [
    {
     "name": "stdout",
     "output_type": "stream",
     "text": [
      "@app.route(rule=\"/books/<int:nParID>\",methods=[\"DELETE\"])\r\n",
      "def fDelete(nParID):\r\n",
      "    \"\"\"URL map for \"/books/<int:nParID>\" with method \"DELETE\".\r\n",
      "\r\n",
      "Input: \r\n",
      "Process: \r\n",
      "Output:\r\n",
      "\"\"\"    \r\n",
      "    return \"ACTION: Delete (\"+str(nParID)+\")\"\r\n",
      "# --- END ---\r\n"
     ]
    }
   ],
   "source": [
    "%%script bash\n",
    "grep -1 \"fDelete\" ./rc/server/rest.py -A 8"
   ]
  },
  {
   "cell_type": "code",
   "execution_count": 2,
   "id": "9162fa69",
   "metadata": {},
   "outputs": [
    {
     "name": "stdout",
     "output_type": "stream",
     "text": [
      "ACTION: Delete (103)"
     ]
    },
    {
     "name": "stderr",
     "output_type": "stream",
     "text": [
      "  % Total    % Received % Xferd  Average Speed   Time    Time     Time  Current\r\n",
      "                                 Dload  Upload   Total   Spent    Left  Speed\r\n",
      "\r",
      "  0     0    0     0    0     0      0      0 --:--:-- --:--:-- --:--:--     0\r",
      "100    20  100    20    0     0  10000      0 --:--:-- --:--:-- --:--:-- 10000\r\n"
     ]
    }
   ],
   "source": [
    "%%script bash\n",
    "curl -X \"DELETE\" http://127.0.0.1:5000/books/103"
   ]
  },
  {
   "cell_type": "code",
   "execution_count": 3,
   "id": "9326cc05",
   "metadata": {},
   "outputs": [],
   "source": [
    "exit()"
   ]
  },
  {
   "cell_type": "markdown",
   "id": "8ce8e6f4",
   "metadata": {},
   "source": [
    "< [Table of Contents](#top) | [References](#references) >\n",
    "<a id=\"introductionDesignAPISkeletonDatabase\"></a>\n",
    "***\n",
    "### Database\n",
    "***"
   ]
  },
  {
   "cell_type": "markdown",
   "id": "12b456da",
   "metadata": {},
   "source": [
    "- not linking into a database yet instead making a collection [1]"
   ]
  },
  {
   "cell_type": "markdown",
   "id": "505b1f2f",
   "metadata": {},
   "source": [
    "< [Table of Contents](#top) | [References](#references) >\n",
    "<a id=\"introductionDesignAPISkeletonDatabaseCollection\"></a>\n",
    "***\n",
    "###### Collection\n",
    "***"
   ]
  },
  {
   "cell_type": "markdown",
   "id": "f860ea5c",
   "metadata": {},
   "source": [
    "- collection of ``dict`` objects in memory on the server [1]"
   ]
  },
  {
   "cell_type": "code",
   "execution_count": 1,
   "id": "382da8b5",
   "metadata": {},
   "outputs": [
    {
     "name": "stdout",
     "output_type": "stream",
     "text": [
      "nBooks=[{\"id\":1,\"Title\":\"Harry Potter\",\"Author\":\"JK\",\"Price\":1000}, # type(nBooks[0]) # dict\r\n",
      "    {\"id\":2,\"Title\":\"A1 Cook book\",\"Author\":\"Mr Yo\",\"Price\":2000},\r\n",
      "    {\"id\":3,\"Title\":\"Python\",\"Author\":\"Mrs Bo\",\"Price\":3000}] # type(nBooks) # list\r\n",
      "nNextID=4 # create new increment\r\n"
     ]
    }
   ],
   "source": [
    "%%script bash\n",
    "grep \"nBooks=\" ./rc/server/rest.py -A 3"
   ]
  },
  {
   "cell_type": "code",
   "execution_count": 2,
   "id": "12b8e524",
   "metadata": {},
   "outputs": [],
   "source": [
    "exit()"
   ]
  },
  {
   "cell_type": "markdown",
   "id": "c123d348",
   "metadata": {},
   "source": [
    "< [Table of Contents](#top) | [References](#references) >\n",
    "<a id=\"introductionDesignAPISkeletonDatabaseCollectionflaskjsonify\"></a>\n",
    "***\n",
    "###### ``jsonify``\n",
    "***"
   ]
  },
  {
   "cell_type": "markdown",
   "id": "127ba257",
   "metadata": {},
   "source": [
    "- returns a JSON response in the browser (contents of a collection) - ``jsonify`` inputs the double qoutes [1]"
   ]
  },
  {
   "cell_type": "markdown",
   "id": "050ff7f8",
   "metadata": {},
   "source": [
    "< [Table of Contents](#top) | [References](#references) >\n",
    "<a id=\"introductionDesignAPISkeletonDatabaseCollectionflaskjsonifyGET\"></a>\n",
    "***\n",
    "###### ``GET``\n",
    "***"
   ]
  },
  {
   "cell_type": "markdown",
   "id": "070e696b",
   "metadata": {},
   "source": [
    "- Get all (URL ``/books``) [1]"
   ]
  },
  {
   "cell_type": "code",
   "execution_count": 1,
   "id": "a15a7d01",
   "metadata": {},
   "outputs": [
    {
     "name": "stdout",
     "output_type": "stream",
     "text": [
      "@app.route(rule=\"/books\")\r\n",
      "def fGetAll():\r\n",
      "    \"\"\"URL map for \"/books\" with method \"GET\".\r\n",
      "\r\n",
      "Input: \r\n",
      "Process: (flask.jsonify) \r\n",
      "Output:\r\n",
      "\"\"\"\r\n",
      "    from flask import jsonify\r\n",
      "    return jsonify(nBooks) # Content-Type # application/json\r\n",
      "# --- END ---\r\n"
     ]
    }
   ],
   "source": [
    "%%script bash\n",
    "grep -1 \"fGetAll\" ./rc/server/rest.py -A 9"
   ]
  },
  {
   "cell_type": "code",
   "execution_count": 2,
   "id": "a9af204c",
   "metadata": {},
   "outputs": [],
   "source": [
    "%%script bash\n",
    "start http://127.0.0.1:5000/books"
   ]
  },
  {
   "cell_type": "code",
   "execution_count": 3,
   "id": "68ae26b9",
   "metadata": {},
   "outputs": [
    {
     "name": "stdout",
     "output_type": "stream",
     "text": [
      "HTTP/1.0 200 OK\r\n",
      "Content-Type: application/json\r\n",
      "Content-Length: 282\r\n",
      "Server: Werkzeug/1.0.1 Python/3.8.8\r\n",
      "Date: Tue, 31 Aug 2021 09:25:05 GMT\r\n",
      "\r\n",
      "[\n",
      "  {\n",
      "    \"Author\": \"JK\", \n",
      "    \"Price\": 1000, \n",
      "    \"Title\": \"Harry Potter\", \n",
      "    \"id\": 1\n",
      "  }, \n",
      "  {\n",
      "    \"Author\": \"Mr Yo\", \n",
      "    \"Price\": 2000, \n",
      "    \"Title\": \"A1 Cook book\", \n",
      "    \"id\": 2\n",
      "  }, \n",
      "  {\n",
      "    \"Author\": \"Mrs Bo\", \n",
      "    \"Price\": 3000, \n",
      "    \"Title\": \"Python\", \n",
      "    \"id\": 3\n",
      "  }\n",
      "]\n"
     ]
    },
    {
     "name": "stderr",
     "output_type": "stream",
     "text": [
      "  % Total    % Received % Xferd  Average Speed   Time    Time     Time  Current\r\n",
      "                                 Dload  Upload   Total   Spent    Left  Speed\r\n",
      "\r",
      "  0     0    0     0    0     0      0      0 --:--:-- --:--:-- --:--:--     0\r",
      "100   282  100   282    0     0   275k      0 --:--:-- --:--:-- --:--:--  275k\r\n"
     ]
    }
   ],
   "source": [
    "%%script bash\n",
    "curl -i http://127.0.0.1:5000/books"
   ]
  },
  {
   "cell_type": "code",
   "execution_count": 4,
   "id": "3d42cf20",
   "metadata": {},
   "outputs": [],
   "source": [
    "exit()"
   ]
  },
  {
   "cell_type": "markdown",
   "id": "917fa28d",
   "metadata": {},
   "source": [
    "- Find by id (URL ``/books/id``) [1]"
   ]
  },
  {
   "cell_type": "markdown",
   "id": "ccd8d755",
   "metadata": {},
   "source": [
    "- create collection ``nFound`` (convert to ``list``) [1]"
   ]
  },
  {
   "cell_type": "markdown",
   "id": "7ec26a71",
   "metadata": {},
   "source": [
    "- ``filter`` via: i) 1st parameter ``lambda`` function which goes through each of the entries in the collection ``n`` whereby the ``id`` equals ``nParID`` passed and; ii) 2nd paramter is the actual collection ``nBooks`` [1]"
   ]
  },
  {
   "cell_type": "markdown",
   "id": "24be0342",
   "metadata": {},
   "source": [
    "- within ``lambda`` if ``n[\"id\"]==ParID`` then from the collection ``nBooks`` return a new collection ``nFound`` [1]"
   ]
  },
  {
   "cell_type": "code",
   "execution_count": 1,
   "id": "f07b853d",
   "metadata": {},
   "outputs": [
    {
     "name": "stdout",
     "output_type": "stream",
     "text": [
      "@app.route(rule=\"/books/<int:nParID>\")\r\n",
      "def fFindById(nParID):\r\n",
      "    \"\"\"URL map for \"/books/<int:nParID>\" with method \"GET\".\r\n",
      "\r\n",
      "Input: nParID\r\n",
      "Process: create collection (convert to list); \r\n",
      "    filter parameters: i) lambda and; ii) actual collection\r\n",
      "Output: if two books have same nParID then returns the first\r\n",
      "\"\"\"\r\n",
      "    from flask import jsonify\r\n",
      "    nFound=list(filter(lambda n:n[\"id\"]==nParID,nBooks))\r\n",
      "    # print(type(nFound)) # cURL (refer server): <class 'list'>\r\n",
      "    if len(nFound)==0: # test found nothing\r\n",
      "        return jsonify({}),204 # return empty 204\r\n",
      "    return jsonify(nFound[0]) # return first element\r\n",
      "# --- END ---\r\n"
     ]
    }
   ],
   "source": [
    "%%script bash\n",
    "grep -1 \"fFindById\" ./rc/server/rest.py -A 14"
   ]
  },
  {
   "cell_type": "code",
   "execution_count": 2,
   "id": "fff1172d",
   "metadata": {},
   "outputs": [],
   "source": [
    "%%script bash\n",
    "start http://127.0.0.1:5000/books/1"
   ]
  },
  {
   "cell_type": "code",
   "execution_count": 3,
   "id": "b43a4b04",
   "metadata": {},
   "outputs": [
    {
     "name": "stdout",
     "output_type": "stream",
     "text": [
      "HTTP/1.0 200 OK\r\n",
      "Content-Type: application/json\r\n",
      "Content-Length: 79\r\n",
      "Server: Werkzeug/1.0.1 Python/3.8.8\r\n",
      "Date: Tue, 31 Aug 2021 09:41:54 GMT\r\n",
      "\r\n",
      "{\n",
      "  \"Author\": \"JK\", \n",
      "  \"Price\": 1000, \n",
      "  \"Title\": \"Harry Potter\", \n",
      "  \"id\": 1\n",
      "}\n"
     ]
    },
    {
     "name": "stderr",
     "output_type": "stream",
     "text": [
      "  % Total    % Received % Xferd  Average Speed   Time    Time     Time  Current\r\n",
      "                                 Dload  Upload   Total   Spent    Left  Speed\r\n",
      "\r",
      "  0     0    0     0    0     0      0      0 --:--:-- --:--:-- --:--:--     0\r",
      "100    79  100    79    0     0  39500      0 --:--:-- --:--:-- --:--:-- 39500\r\n"
     ]
    }
   ],
   "source": [
    "%%script bash\n",
    "curl -i http://127.0.0.1:5000/books/1"
   ]
  },
  {
   "cell_type": "code",
   "execution_count": 4,
   "id": "867d7a2a",
   "metadata": {},
   "outputs": [],
   "source": [
    "exit()"
   ]
  },
  {
   "cell_type": "markdown",
   "id": "04532df6",
   "metadata": {},
   "source": [
    "< [Table of Contents](#top) | [References](#references) >\n",
    "<a id=\"introductionDesignAPISkeletonDatabaseCollectionflaskjsonifyPOST\"></a>\n",
    "***\n",
    "###### ``POST``\n",
    "***"
   ]
  },
  {
   "cell_type": "markdown",
   "id": "a82cbae7",
   "metadata": {},
   "source": [
    "- Create (URL ``/books``) [1]"
   ]
  },
  {
   "cell_type": "markdown",
   "id": "10181142",
   "metadata": {},
   "source": [
    "- need ``nNextID`` to create a new ``nBook`` [1]"
   ]
  },
  {
   "cell_type": "code",
   "execution_count": 1,
   "id": "1831213d",
   "metadata": {},
   "outputs": [
    {
     "name": "stdout",
     "output_type": "stream",
     "text": [
      "nNextID=4 # create new increment\r\n"
     ]
    }
   ],
   "source": [
    "%%script bash\n",
    "grep \"nNextID=\" ./rc/server/rest.py"
   ]
  },
  {
   "cell_type": "code",
   "execution_count": 2,
   "id": "b4edc423",
   "metadata": {},
   "outputs": [
    {
     "name": "stdout",
     "output_type": "stream",
     "text": [
      "    global nNextID # new book id\r\n"
     ]
    }
   ],
   "source": [
    "%%script bash\n",
    "grep \"global nNextID\" ./rc/server/rest.py"
   ]
  },
  {
   "cell_type": "code",
   "execution_count": 3,
   "id": "d52d4b1b",
   "metadata": {},
   "outputs": [],
   "source": [
    "exit()"
   ]
  },
  {
   "cell_type": "markdown",
   "id": "47576aec",
   "metadata": {},
   "source": [
    "< [Table of Contents](#top) | [References](#references) >\n",
    "<a id=\"introductionDesignAPISkeletonDatabaseCollectionflaskrequest\"></a>\n",
    "***\n",
    "###### ``request``\n",
    "***"
   ]
  },
  {
   "cell_type": "markdown",
   "id": "348d0185",
   "metadata": {},
   "source": [
    "&#x1F6A7;"
   ]
  },
  {
   "cell_type": "markdown",
   "id": "9cfed3ea",
   "metadata": {},
   "source": [
    "< [Table of Contents](#top) | [References](#references) >\n",
    "<a id=\"introductionDesignAPISkeletonDatabaseCollectionflaskrequestjson\"></a>\n",
    "***\n",
    "###### ``json``\n",
    "***"
   ]
  },
  {
   "cell_type": "markdown",
   "id": "b372bb82",
   "metadata": {},
   "source": [
    "- check if the ``request`` has ``json`` data (or if in the normal URL encoding) then return status code $400$ (error) [1]"
   ]
  },
  {
   "cell_type": "code",
   "execution_count": 1,
   "id": "d5ef8574",
   "metadata": {},
   "outputs": [
    {
     "name": "stdout",
     "output_type": "stream",
     "text": [
      "    if not request.json: # request no json\r\n",
      "        abort(400)\r\n"
     ]
    }
   ],
   "source": [
    "%%script bash\n",
    "grep \"not request.json\" ./rc/server/rest.py -A 1"
   ]
  },
  {
   "cell_type": "markdown",
   "id": "9154ba49",
   "metadata": {},
   "source": [
    "- reading from ``POST`` the data (``Title`` and ``Author`` and ``Price``) via ``request.json`` [1]"
   ]
  },
  {
   "cell_type": "code",
   "execution_count": 2,
   "id": "e8d8c7da",
   "metadata": {},
   "outputs": [
    {
     "name": "stdout",
     "output_type": "stream",
     "text": [
      "@app.route(rule=\"/books\",methods=[\"POST\"])\r\n",
      "def fCreate():\r\n",
      "    \"\"\"URL map for \"/books\" with method \"POST\".\r\n",
      "\r\n",
      "Input: \r\n",
      "Process: (flask.request.json; flask.abort; flask.jsonify)\r\n",
      "Output:\r\n",
      "\"\"\"\r\n",
      "    from flask import request,jsonify,abort\r\n",
      "    global nNextID # new book id\r\n",
      "    if not request.json: # request no json\r\n",
      "        abort(400)\r\n",
      "    nBook={\"id\":nNextID,\r\n",
      "        \"Title\":request.json[\"Title\"],\r\n",
      "        \"Author\":request.json[\"Author\"],\r\n",
      "        \"Price\":request.json[\"Price\"]} # create new book\r\n",
      "    nBooks.append(nBook) # append new book\r\n",
      "    nNextID+=1 # increment next new\r\n",
      "    return jsonify(nBook) # return new book\r\n",
      "# --- END ---\r\n"
     ]
    }
   ],
   "source": [
    "%%script bash\n",
    "grep -1 \"fCreate\" ./rc/server/rest.py -A 18"
   ]
  },
  {
   "cell_type": "code",
   "execution_count": 3,
   "id": "9d41848d",
   "metadata": {},
   "outputs": [
    {
     "name": "stdout",
     "output_type": "stream",
     "text": [
      "{\n",
      "  \"Author\": \"Denis Ritchie\", \n",
      "  \"Price\": 5000, \n",
      "  \"Title\": \"The C Programming Language\", \n",
      "  \"id\": 4\n",
      "}\n"
     ]
    },
    {
     "name": "stderr",
     "output_type": "stream",
     "text": [
      "  % Total    % Received % Xferd  Average Speed   Time    Time     Time  Current\r\n",
      "                                 Dload  Upload   Total   Spent    Left  Speed\r\n",
      "\r",
      "  0     0    0     0    0     0      0      0 --:--:-- --:--:-- --:--:--     0\r",
      "100   180  100   104  100    76  52000  38000 --:--:-- --:--:-- --:--:-- 90000\r\n"
     ]
    }
   ],
   "source": [
    "%%script bash\n",
    "curl -X \"POST\" -H \"content-type:application/json\" -d \"{\\\"Title\\\":\\\"The C Programming Language\\\",\\\"Author\\\":\\\"Denis Ritchie\\\",\\\"Price\\\":5000}\" http://127.0.0.1:5000/books"
   ]
  },
  {
   "cell_type": "code",
   "execution_count": 4,
   "id": "87f7e0ed",
   "metadata": {},
   "outputs": [
    {
     "name": "stdout",
     "output_type": "stream",
     "text": [
      "[\n",
      "  {\n",
      "    \"Author\": \"JK\", \n",
      "    \"Price\": 1000, \n",
      "    \"Title\": \"Harry Potter\", \n",
      "    \"id\": 1\n",
      "  }, \n",
      "  {\n",
      "    \"Author\": \"Mr Yo\", \n",
      "    \"Price\": 2000, \n",
      "    \"Title\": \"A1 Cook book\", \n",
      "    \"id\": 2\n",
      "  }, \n",
      "  {\n",
      "    \"Author\": \"Mrs Bo\", \n",
      "    \"Price\": 3000, \n",
      "    \"Title\": \"Python\", \n",
      "    \"id\": 3\n",
      "  }, \n",
      "  {\n",
      "    \"Author\": \"Denis Ritchie\", \n",
      "    \"Price\": 5000, \n",
      "    \"Title\": \"The C Programming Language\", \n",
      "    \"id\": 4\n",
      "  }\n",
      "]\n"
     ]
    },
    {
     "name": "stderr",
     "output_type": "stream",
     "text": [
      "  % Total    % Received % Xferd  Average Speed   Time    Time     Time  Current\r\n",
      "                                 Dload  Upload   Total   Spent    Left  Speed\r\n",
      "\r",
      "  0     0    0     0    0     0      0      0 --:--:-- --:--:-- --:--:--     0\r",
      "100   400  100   400    0     0   195k      0 --:--:-- --:--:-- --:--:--  195k\r\n"
     ]
    }
   ],
   "source": [
    "%%script bash\n",
    "curl http://127.0.0.1:5000/books # verify server add "
   ]
  },
  {
   "cell_type": "code",
   "execution_count": 5,
   "id": "05992029",
   "metadata": {},
   "outputs": [],
   "source": [
    "exit()"
   ]
  },
  {
   "cell_type": "markdown",
   "id": "867c8d7b",
   "metadata": {},
   "source": [
    "< [Table of Contents](#top) | [References](#references) >\n",
    "<a id=\"introductionDesignAPISkeletonDatabaseCollectionflaskrequestjsonPUT\"></a>\n",
    "***\n",
    "###### ``PUT``\n",
    "***"
   ]
  },
  {
   "cell_type": "markdown",
   "id": "24745664",
   "metadata": {},
   "source": [
    "- Update (URL ``/books/id``) [1]"
   ]
  },
  {
   "cell_type": "markdown",
   "id": "dda3157f",
   "metadata": {},
   "source": [
    "- find the book to be updated by taking in the ``id`` [1]"
   ]
  },
  {
   "cell_type": "code",
   "execution_count": 1,
   "id": "93193651",
   "metadata": {},
   "outputs": [
    {
     "name": "stdout",
     "output_type": "stream",
     "text": [
      "@app.route(rule=\"/books/<int:nParID>\",methods=[\"PUT\"])\r\n",
      "def fUpdate(nParID):\r\n",
      "    \"\"\"URL map for \"/books/<int:nParID>\" with method \"PUT\".\r\n",
      "\r\n",
      "Input: \r\n",
      "Process: (flask.request.json; flask.jsonify)\r\n",
      "Output:\r\n",
      "\"\"\" \r\n",
      "    from flask import jsonify,request\r\n",
      "    nFound=list(filter(lambda n:n[\"id\"]==nParID,nBooks))\r\n",
      "    if len(nFound)==0: # test found nothing\r\n",
      "        return jsonify({}),404 # return cannot find\r\n",
      "    nCurrent=nFound[0] # current is found\r\n",
      "    if \"Title\" in request.json:\r\n",
      "        nCurrent[\"Title\"]=request.json[\"Title\"] # current new Title\r\n",
      "    if \"Author\" in request.json:\r\n",
      "        nCurrent[\"Author\"]=request.json[\"Author\"] # current new Author\r\n",
      "    if \"Price\" in request.json:\r\n",
      "        nCurrent[\"Price\"]=request.json[\"Price\"] # current new Price\r\n",
      "    return jsonify(nCurrent) # return udpated book\r\n",
      "# --- END ---\r\n"
     ]
    }
   ],
   "source": [
    "%%script bash\n",
    "grep -1 \"fUpdate\" ./rc/server/rest.py -A 19"
   ]
  },
  {
   "cell_type": "code",
   "execution_count": 2,
   "id": "db31e1fd",
   "metadata": {},
   "outputs": [
    {
     "name": "stdout",
     "output_type": "stream",
     "text": [
      "[\n",
      "  {\n",
      "    \"Author\": \"JK\", \n",
      "    \"Price\": 1000, \n",
      "    \"Title\": \"Harry Potter\", \n",
      "    \"id\": 1\n",
      "  }, \n",
      "  {\n",
      "    \"Author\": \"Mr Yo\", \n",
      "    \"Price\": 2000, \n",
      "    \"Title\": \"A1 Cook book\", \n",
      "    \"id\": 2\n",
      "  }, \n",
      "  {\n",
      "    \"Author\": \"Mrs Bo\", \n",
      "    \"Price\": 3000, \n",
      "    \"Title\": \"Python\", \n",
      "    \"id\": 3\n",
      "  }\n",
      "]\n"
     ]
    },
    {
     "name": "stderr",
     "output_type": "stream",
     "text": [
      "  % Total    % Received % Xferd  Average Speed   Time    Time     Time  Current\r\n",
      "                                 Dload  Upload   Total   Spent    Left  Speed\r\n",
      "\r",
      "  0     0    0     0    0     0      0      0 --:--:-- --:--:-- --:--:--     0\r",
      "100   282  100   282    0     0  94000      0 --:--:-- --:--:-- --:--:-- 94000\r\n"
     ]
    }
   ],
   "source": [
    "%%script bash\n",
    "curl http://127.0.0.1:5000/books"
   ]
  },
  {
   "cell_type": "code",
   "execution_count": 3,
   "id": "35ebdffa",
   "metadata": {},
   "outputs": [
    {
     "name": "stdout",
     "output_type": "stream",
     "text": [
      "{\n",
      "  \"Author\": \"Joanne Rowling\", \n",
      "  \"Price\": 9000, \n",
      "  \"Title\": \"New Title\", \n",
      "  \"id\": 1\n",
      "}\n"
     ]
    },
    {
     "name": "stderr",
     "output_type": "stream",
     "text": [
      "  % Total    % Received % Xferd  Average Speed   Time    Time     Time  Current\r\n",
      "                                 Dload  Upload   Total   Spent    Left  Speed\r\n",
      "\r",
      "  0     0    0     0    0     0      0      0 --:--:-- --:--:-- --:--:--     0\r",
      "100   148  100    88  100    60  29333  20000 --:--:-- --:--:-- --:--:-- 49333\r\n"
     ]
    }
   ],
   "source": [
    "%%script bash\n",
    "curl -X \"PUT\" -H \"content-type:application/json\" -d \"{\\\"Title\\\":\\\"New Title\\\",\\\"Author\\\":\\\"Joanne Rowling\\\",\\\"Price\\\":9000}\" http://127.0.0.1:5000/books/1"
   ]
  },
  {
   "cell_type": "code",
   "execution_count": 4,
   "id": "3fc12ccb",
   "metadata": {},
   "outputs": [
    {
     "name": "stdout",
     "output_type": "stream",
     "text": [
      "[\n",
      "  {\n",
      "    \"Author\": \"Joanne Rowling\", \n",
      "    \"Price\": 9000, \n",
      "    \"Title\": \"New Title\", \n",
      "    \"id\": 1\n",
      "  }, \n",
      "  {\n",
      "    \"Author\": \"Mr Yo\", \n",
      "    \"Price\": 2000, \n",
      "    \"Title\": \"A1 Cook book\", \n",
      "    \"id\": 2\n",
      "  }, \n",
      "  {\n",
      "    \"Author\": \"Mrs Bo\", \n",
      "    \"Price\": 3000, \n",
      "    \"Title\": \"Python\", \n",
      "    \"id\": 3\n",
      "  }\n",
      "]\n"
     ]
    },
    {
     "name": "stderr",
     "output_type": "stream",
     "text": [
      "  % Total    % Received % Xferd  Average Speed   Time    Time     Time  Current\r\n",
      "                                 Dload  Upload   Total   Spent    Left  Speed\r\n",
      "\r",
      "  0     0    0     0    0     0      0      0 --:--:-- --:--:-- --:--:--     0\r",
      "100   291  100   291    0     0   142k      0 --:--:-- --:--:-- --:--:--  142k\r\n"
     ]
    }
   ],
   "source": [
    "%%script bash\n",
    "curl http://127.0.0.1:5000/books # verify id updated"
   ]
  },
  {
   "cell_type": "code",
   "execution_count": 5,
   "id": "b21488b9",
   "metadata": {},
   "outputs": [],
   "source": [
    "exit()"
   ]
  },
  {
   "cell_type": "markdown",
   "id": "b1330c77",
   "metadata": {},
   "source": [
    "< [Table of Contents](#top) | [References](#references) >\n",
    "<a id=\"introductionDesignAPISkeletonDatabaseCollectionflaskDELETE\"></a>\n",
    "***\n",
    "###### ``DELETE``\n",
    "***"
   ]
  },
  {
   "cell_type": "markdown",
   "id": "d499299e",
   "metadata": {},
   "source": [
    "- Delete (URL ``/books/id``) [1]"
   ]
  },
  {
   "cell_type": "markdown",
   "id": "ab59a65c",
   "metadata": {},
   "source": [
    "- take in ``id`` [1]"
   ]
  },
  {
   "cell_type": "code",
   "execution_count": 1,
   "id": "8c71da4f",
   "metadata": {},
   "outputs": [
    {
     "name": "stdout",
     "output_type": "stream",
     "text": [
      "@app.route(rule=\"/books/<int:nParID>\",methods=[\"DELETE\"])\r\n",
      "def fDelete(nParID):\r\n",
      "    \"\"\"URL map for \"/books/<int:nParID>\" with method \"DELETE\".\r\n",
      "\r\n",
      "Input: \r\n",
      "Process: (flask.jsonify)\r\n",
      "Output:\r\n",
      "\"\"\" \r\n",
      "    from flask import jsonify\r\n",
      "    nFound=list(filter(lambda n:n[\"id\"]==nParID,nBooks))\r\n",
      "    if len(nFound)==0: # test found nothing\r\n",
      "        return jsonify({}),404 # return cannot find\r\n",
      "    nBooks.remove(nFound[0]) # delete book found\r\n",
      "    return jsonify({\"done\":True})\r\n",
      "# --- END ---\r\n"
     ]
    }
   ],
   "source": [
    "%%script bash\n",
    "grep -1 \"fDelete\" ./rc/server/rest.py -A 13"
   ]
  },
  {
   "cell_type": "code",
   "execution_count": 2,
   "id": "8c866244",
   "metadata": {},
   "outputs": [
    {
     "name": "stdout",
     "output_type": "stream",
     "text": [
      "[\n",
      "  {\n",
      "    \"Author\": \"JK\", \n",
      "    \"Price\": 1000, \n",
      "    \"Title\": \"Harry Potter\", \n",
      "    \"id\": 1\n",
      "  }, \n",
      "  {\n",
      "    \"Author\": \"Mr Yo\", \n",
      "    \"Price\": 2000, \n",
      "    \"Title\": \"A1 Cook book\", \n",
      "    \"id\": 2\n",
      "  }, \n",
      "  {\n",
      "    \"Author\": \"Mrs Bo\", \n",
      "    \"Price\": 3000, \n",
      "    \"Title\": \"Python\", \n",
      "    \"id\": 3\n",
      "  }\n",
      "]\n"
     ]
    },
    {
     "name": "stderr",
     "output_type": "stream",
     "text": [
      "  % Total    % Received % Xferd  Average Speed   Time    Time     Time  Current\r\n",
      "                                 Dload  Upload   Total   Spent    Left  Speed\r\n",
      "\r",
      "  0     0    0     0    0     0      0      0 --:--:-- --:--:-- --:--:--     0\r",
      "100   282  100   282    0     0  94000      0 --:--:-- --:--:-- --:--:--  137k\r\n"
     ]
    }
   ],
   "source": [
    "%%script bash\n",
    "curl http://127.0.0.1:5000/books"
   ]
  },
  {
   "cell_type": "code",
   "execution_count": 3,
   "id": "3719cca7",
   "metadata": {},
   "outputs": [
    {
     "name": "stdout",
     "output_type": "stream",
     "text": [
      "{\n",
      "  \"done\": true\n",
      "}\n"
     ]
    },
    {
     "name": "stderr",
     "output_type": "stream",
     "text": [
      "  % Total    % Received % Xferd  Average Speed   Time    Time     Time  Current\r\n",
      "                                 Dload  Upload   Total   Spent    Left  Speed\r\n",
      "\r",
      "  0     0    0     0    0     0      0      0 --:--:-- --:--:-- --:--:--     0\r",
      "100    19  100    19    0     0   9500      0 --:--:-- --:--:-- --:--:--  9500\r\n"
     ]
    }
   ],
   "source": [
    "%%script bash\n",
    "curl -X DELETE http://127.0.0.1:5000/books/1"
   ]
  },
  {
   "cell_type": "code",
   "execution_count": 4,
   "id": "a543988d",
   "metadata": {},
   "outputs": [
    {
     "name": "stdout",
     "output_type": "stream",
     "text": [
      "[\n",
      "  {\n",
      "    \"Author\": \"Mr Yo\", \n",
      "    \"Price\": 2000, \n",
      "    \"Title\": \"A1 Cook book\", \n",
      "    \"id\": 2\n",
      "  }, \n",
      "  {\n",
      "    \"Author\": \"Mrs Bo\", \n",
      "    \"Price\": 3000, \n",
      "    \"Title\": \"Python\", \n",
      "    \"id\": 3\n",
      "  }\n",
      "]\n"
     ]
    },
    {
     "name": "stderr",
     "output_type": "stream",
     "text": [
      "  % Total    % Received % Xferd  Average Speed   Time    Time     Time  Current\r\n",
      "                                 Dload  Upload   Total   Spent    Left  Speed\r\n",
      "\r",
      "  0     0    0     0    0     0      0      0 --:--:-- --:--:-- --:--:--     0\r",
      "100   189  100   189    0     0  94500      0 --:--:-- --:--:-- --:--:-- 94500\r\n"
     ]
    }
   ],
   "source": [
    "%%script bash\n",
    "curl http://127.0.0.1:5000/books # verify id deleted"
   ]
  },
  {
   "cell_type": "code",
   "execution_count": 5,
   "id": "5aa17b10",
   "metadata": {},
   "outputs": [],
   "source": [
    "exit()"
   ]
  },
  {
   "cell_type": "markdown",
   "id": "c8781b87",
   "metadata": {},
   "source": [
    "***\n",
    "## END"
   ]
  },
  {
   "cell_type": "markdown",
   "id": "28e9ffc8",
   "metadata": {},
   "source": [
    "< [Table of Contents](#top) | [Abstract](#abstract) | [Introduction](#introduction) | [Solution](#solution) | [References](#references) >\n",
    "<a id=\"conclusion\"></a>\n",
    "***\n",
    "## Conclusion\n",
    "***"
   ]
  },
  {
   "cell_type": "markdown",
   "id": "56d5e2c1",
   "metadata": {},
   "source": [
    "< [Table of Contents](#top) | [References](#references) >\n",
    "<a id=\"pythonanywhere\"></a>\n",
    "***\n",
    "### pythonanywhere\n",
    "***"
   ]
  },
  {
   "cell_type": "markdown",
   "id": "694ad62d",
   "metadata": {},
   "source": [
    "- has free accounts for hosting python web services [2]"
   ]
  },
  {
   "cell_type": "markdown",
   "id": "4173397e",
   "metadata": {},
   "source": [
    "- provides a ``linux`` shell that is connected to the internet and has a URL to it [2]"
   ]
  },
  {
   "cell_type": "markdown",
   "id": "05af23b0",
   "metadata": {},
   "source": [
    "- allows a permanent app-server running for free (with limited traffic) [2]"
   ]
  },
  {
   "cell_type": "markdown",
   "id": "fa4307d7",
   "metadata": {},
   "source": [
    "< [Table of Contents](#top) | [References](#references) >\n",
    "<a id=\"pythonanywhereBash\"></a>\n",
    "***\n",
    "###### ``Bash``\n",
    "***"
   ]
  },
  {
   "cell_type": "markdown",
   "id": "c3a2a0fd",
   "metadata": {},
   "source": [
    "- create account ``seanohaileasa`` [2]"
   ]
  },
  {
   "cell_type": "markdown",
   "id": "7de437a0",
   "metadata": {},
   "source": [
    "- create console ``maindeploy`` [2]\n",
    "\n",
    "```\n",
    "~ $ mkdir maindeploy\n",
    "~ $ cd maindeploy\n",
    "~/maindeploy $ git clone https://github.com/SeanOhAileasa/drp-app-server.git\n",
    "Cloning into 'drp-app-server'...\n",
    "remote: Enumerating objects: 18, done.\n",
    "remote: Counting objects: 100% (18/18), done.\n",
    "remote: Compressing objects: 100% (15/15), done.\n",
    "remote: Total 18 (delta 5), reused 14 (delta 1), pack-reused 0\n",
    "Unpacking objects: 100% (18/18), 16.44 KiB | 31.00 KiB/s, done.\n",
    "~/maindeploy $ cd drp-app-server/\n",
    "~/maindeploy/drp-app-server (main)$\n",
    "```"
   ]
  },
  {
   "cell_type": "markdown",
   "id": "8d2c20f0",
   "metadata": {},
   "source": [
    "< [Table of Contents](#top) | [References](#references) >\n",
    "<a id=\"pythonanywhereVirtualEnvironment\"></a>\n",
    "***\n",
    "###### Virtual Environment\n",
    "***"
   ]
  },
  {
   "cell_type": "markdown",
   "id": "c4b053d5",
   "metadata": {},
   "source": [
    "- setting up a virtual environment - from the control panel link to that virtual environment then edit the file that starts the ``Flask`` app [2][[help.pythonanywhere.com](https://help.pythonanywhere.com/pages/Flask)]"
   ]
  },
  {
   "cell_type": "markdown",
   "id": "b57e6d29",
   "metadata": {},
   "source": [
    "```\n",
    "~/maindeploy $ mkvirtualenv --python=/usr/bin/python3.8 my-virtualenv  # use whichever python version you prefer                                                                               \n",
    "created virtual environment CPython3.8.5.final.0-64 in 12672ms                                                                                                                                       \n",
    "  creator CPython3Posix(dest=/home/seanohaileasa/.virtualenvs/my-virtualenv, clear=False, no_vcs_ignore=False, global=False)                                                                         \n",
    "  seeder FromAppData(download=False, pip=bundle, setuptools=bundle, wheel=bundle, via=copy, app_data_dir=/home/seanohaileasa/.local/share/virtualenv)                                                \n",
    "    added seed packages: pip==21.1.2, setuptools==57.0.0, wheel==0.36.2                                                                                                                              \n",
    "  activators BashActivator,CShellActivator,FishActivator,PowerShellActivator,PythonActivator,XonshActivator                                                                                          \n",
    "virtualenvwrapper.user_scripts creating /home/seanohaileasa/.virtualenvs/my-virtualenv/bin/predeactivate                                                                                             \n",
    "virtualenvwrapper.user_scripts creating /home/seanohaileasa/.virtualenvs/my-virtualenv/bin/postdeactivate                                                                                            \n",
    "virtualenvwrapper.user_scripts creating /home/seanohaileasa/.virtualenvs/my-virtualenv/bin/preactivate                                                                                               \n",
    "virtualenvwrapper.user_scripts creating /home/seanohaileasa/.virtualenvs/my-virtualenv/bin/postactivate                                                                                              \n",
    "virtualenvwrapper.user_scripts creating /home/seanohaileasa/.virtualenvs/my-virtualenv/bin/get_env_details  \n",
    "(my-virtualenv) 18:12 ~/maindeploy $\n",
    "```"
   ]
  },
  {
   "cell_type": "markdown",
   "id": "899448de",
   "metadata": {},
   "source": [
    "```\n",
    "(my-virtualenv) 18:12 ~/maindeploy $ pip install flask\n",
    "```"
   ]
  },
  {
   "cell_type": "markdown",
   "id": "348cbf07",
   "metadata": {},
   "source": [
    "```\n",
    "(my-virtualenv) 18:14 ~/maindeploy $ pip freeze                                                                                                                                                      \n",
    "DEPRECATION: --find-links option in pip freeze is deprecated. pip 21.2 will remove support for this functionality. You can find discussion regarding this at https://github.com/pypa/pip/issues/9069.\n",
    "-f /usr/share/pip-wheels                                                                                                                                                                             \n",
    "click==8.0.1                                                                                                                                                                                         \n",
    "Flask==2.0.1                                                                                                                                                                                         \n",
    "itsdangerous==2.0.1                                                                                                                                                                                  \n",
    "Jinja2==3.0.1                                                                                                                                                                                        \n",
    "MarkupSafe==2.0.1                                                                                                                                                                                    \n",
    "Werkzeug==2.0.1                                                                                                                                                                                      \n",
    "(my-virtualenv) 18:15 ~/maindeploy $\n",
    "```"
   ]
  },
  {
   "cell_type": "markdown",
   "id": "e747879e",
   "metadata": {},
   "source": [
    "```\n",
    "(my-virtualenv) 18:15 ~/maindeploy $ workon my-virtualenv\n",
    "```"
   ]
  },
  {
   "cell_type": "markdown",
   "id": "4e346616",
   "metadata": {},
   "source": [
    "- go to the web tab and hit add a new web app - choose manual configuration and then choose the python version [2]"
   ]
  },
  {
   "cell_type": "markdown",
   "id": "300c3b78",
   "metadata": {},
   "source": [
    "- refer to ``Virtualenv`` and enter path [2]\n",
    "\n",
    "```\n",
    "/home/seanohaileasa/.virtualenvs/my-virtualenv\n",
    "```"
   ]
  },
  {
   "cell_type": "markdown",
   "id": "2b29c821",
   "metadata": {},
   "source": [
    "- finally go edit the wsgi configuration file (link near the top of the web tab) [2]\n",
    "\n",
    "```\n",
    "/var/www/seanohaileasa_pythonanywhere_com_wsgi.py\n",
    "```"
   ]
  },
  {
   "cell_type": "markdown",
   "id": "8ce1a437",
   "metadata": {},
   "source": [
    "- uncomment [2]\n",
    "\n",
    "```\n",
    "import sys\n",
    "path = '/home/seanohaileasa/path/to/flask_app_directory'\n",
    "if path not in sys.path:\n",
    "    sys.path.append(path)\n",
    "\n",
    "from main_flask_app_file import app as application  # noqa\n",
    "```"
   ]
  },
  {
   "cell_type": "markdown",
   "id": "752174f7",
   "metadata": {},
   "source": [
    "- edit path [2]\n",
    "\n",
    "```\n",
    "path = '/home/seanohaileasa/maindeploy/drp-app-server/rc/server' # directory\n",
    "```"
   ]
  },
  {
   "cell_type": "markdown",
   "id": "ff9860b8",
   "metadata": {},
   "source": [
    "- edit file [2]\n",
    "\n",
    "```\n",
    "from rest import app as application  # noqa # add file\n",
    "```"
   ]
  },
  {
   "cell_type": "markdown",
   "id": "4389d441",
   "metadata": {},
   "source": [
    "- within web tab edit under ``Code`` the ``Source code`` and ``Working directory`` [2]\n",
    "\n",
    "```\n",
    "/home/seanohaileasa/maindeploy/drp-app-server\n",
    "```"
   ]
  },
  {
   "cell_type": "markdown",
   "id": "c5347b1b",
   "metadata": {},
   "source": [
    "< [Table of Contents](#top) | [References](#references) >\n",
    "<a id=\"pythonanywhereGitHub\"></a>\n",
    "***\n",
    "###### ``GitHub``\n",
    "***"
   ]
  },
  {
   "cell_type": "markdown",
   "id": "5ba807ca",
   "metadata": {},
   "source": [
    "- make changes (GitHub commands as usual) [2]"
   ]
  },
  {
   "cell_type": "code",
   "execution_count": 1,
   "id": "e66977c7",
   "metadata": {},
   "outputs": [
    {
     "name": "stdout",
     "output_type": "stream",
     "text": [
      "@app.route(rule=\"/\")\r\n",
      "def fIndex():\r\n",
      "    \"\"\"URL map for \"/\" with method \"GET\".\r\n",
      "\r\n",
      "Input: \r\n",
      "Process: \r\n",
      "Output: string\r\n",
      "\"\"\"    \r\n",
      "    return \"Flask App - pythonanywhere\"\r\n",
      "# --- END ---\r\n"
     ]
    }
   ],
   "source": [
    "%%script bash\n",
    "grep -1 \"fIndex\" ./rc/server/rest.py -A 8"
   ]
  },
  {
   "cell_type": "markdown",
   "id": "83ef8e76",
   "metadata": {},
   "source": [
    "- from console ``maindeploy`` [2]\n",
    "\n",
    "```\n",
    "git pull\n",
    "```"
   ]
  },
  {
   "cell_type": "markdown",
   "id": "6e51ffa5",
   "metadata": {},
   "source": [
    "- within the web tab ``Reload`` [2]"
   ]
  },
  {
   "cell_type": "code",
   "execution_count": 2,
   "id": "13fe8847",
   "metadata": {},
   "outputs": [],
   "source": [
    "%%script bash\n",
    "start https://seanohaileasa.pythonanywhere.com/"
   ]
  },
  {
   "cell_type": "code",
   "execution_count": 3,
   "id": "8fc54a3d",
   "metadata": {},
   "outputs": [],
   "source": [
    "exit()"
   ]
  },
  {
   "cell_type": "markdown",
   "id": "840b765a",
   "metadata": {},
   "source": [
    "***\n",
    "## END"
   ]
  },
  {
   "cell_type": "markdown",
   "id": "e0e42d51",
   "metadata": {},
   "source": [
    "< [Table of Contents](#top) | [Abstract](#abstract) | [Introduction](#introduction) | [Solution](#solution) | [Conclusion](#conclusion) | [References](#references) >\n",
    "<a id=\"references\"></a>\n",
    "***\n",
    "## References\n",
    "***\n",
    "&nbsp;&nbsp;&nbsp;&nbsp;&nbsp;&nbsp;&nbsp;&nbsp;&nbsp;[1] A. Beatty, \"DR8.3 Implementing REST server,\" GMIT, November 2020.\n",
    "\n",
    "&nbsp;&nbsp;&nbsp;&nbsp;&nbsp;&nbsp;&nbsp;&nbsp;&nbsp;[2] A. Beatty, \"DR8.3b python anyhwere,\" GMIT, November 2019."
   ]
  },
  {
   "cell_type": "markdown",
   "id": "b33c372a",
   "metadata": {},
   "source": [
    "***\n",
    "## END"
   ]
  },
  {
   "cell_type": "markdown",
   "id": "e5961b4d",
   "metadata": {},
   "source": [
    "< [Table of Contents](#top) | [Abstract](#abstract) | [Introduction](#introduction) | [Solution](#solution) | [Conclusion](#conclusion) | [References](#references) >\n",
    "<a id=\"appendix\"></a>\n",
    "***\n",
    "## Appendix\n",
    "***"
   ]
  },
  {
   "cell_type": "markdown",
   "id": "27dcc26b",
   "metadata": {},
   "source": [
    "&#x1F6A7;"
   ]
  },
  {
   "cell_type": "markdown",
   "id": "00d82a82",
   "metadata": {},
   "source": [
    "***\n",
    "## END"
   ]
  },
  {
   "cell_type": "markdown",
   "id": "899c1783",
   "metadata": {},
   "source": [
    "# END JUPYTER NOTEBOOK"
   ]
  }
 ],
 "metadata": {
  "kernelspec": {
   "display_name": "Python 3",
   "language": "python",
   "name": "python3"
  },
  "language_info": {
   "codemirror_mode": {
    "name": "ipython",
    "version": 3
   },
   "file_extension": ".py",
   "mimetype": "text/x-python",
   "name": "python",
   "nbconvert_exporter": "python",
   "pygments_lexer": "ipython3",
   "version": "3.8.8"
  }
 },
 "nbformat": 4,
 "nbformat_minor": 5
}
